{
  "nbformat": 4,
  "nbformat_minor": 0,
  "metadata": {
    "colab": {
      "provenance": [],
      "authorship_tag": "ABX9TyNHZWGM3nCfQxVH9LQKka7Z",
      "include_colab_link": true
    },
    "kernelspec": {
      "name": "python3",
      "display_name": "Python 3"
    },
    "language_info": {
      "name": "python"
    }
  },
  "cells": [
    {
      "cell_type": "markdown",
      "metadata": {
        "id": "view-in-github",
        "colab_type": "text"
      },
      "source": [
        "<a href=\"https://colab.research.google.com/github/HARSHADA02/Python/blob/main/Data_Structures.ipynb\" target=\"_parent\"><img src=\"https://colab.research.google.com/assets/colab-badge.svg\" alt=\"Open In Colab\"/></a>"
      ]
    },
    {
      "cell_type": "code",
      "execution_count": null,
      "metadata": {
        "colab": {
          "base_uri": "https://localhost:8080/"
        },
        "id": "RSL4w7BbvMXY",
        "outputId": "1e1a6ebd-f952-4b2d-b77a-bf2cd418014f"
      },
      "outputs": [
        {
          "output_type": "stream",
          "name": "stdout",
          "text": [
            "n\n"
          ]
        }
      ],
      "source": [
        "#string = strings contain characters\n",
        "#indexing\n",
        "text = \"python\"\n",
        "print(text[-1])\n"
      ]
    },
    {
      "cell_type": "code",
      "source": [
        "#slicing\n",
        "word = \"hello\"\n",
        "print(word[1:4])"
      ],
      "metadata": {
        "colab": {
          "base_uri": "https://localhost:8080/"
        },
        "id": "Z--kuI7Ovqs0",
        "outputId": "7d4cddf8-f657-4f43-9778-a56dea09a124"
      },
      "execution_count": null,
      "outputs": [
        {
          "output_type": "stream",
          "name": "stdout",
          "text": [
            "ell\n"
          ]
        }
      ]
    },
    {
      "cell_type": "code",
      "source": [
        "for char in \"hello\":\n",
        "  print(char)"
      ],
      "metadata": {
        "colab": {
          "base_uri": "https://localhost:8080/"
        },
        "id": "K7QCwSVIwI-b",
        "outputId": "5da514bd-74cb-42fd-ba60-e1f377089880"
      },
      "execution_count": null,
      "outputs": [
        {
          "output_type": "stream",
          "name": "stdout",
          "text": [
            "h\n",
            "e\n",
            "l\n",
            "l\n",
            "o\n"
          ]
        }
      ]
    },
    {
      "cell_type": "code",
      "source": [
        "print(len(\"python\"))\n"
      ],
      "metadata": {
        "colab": {
          "base_uri": "https://localhost:8080/"
        },
        "id": "ygrWQtI3wQCB",
        "outputId": "2745ab35-8525-4315-e760-5f635902d1e5"
      },
      "execution_count": null,
      "outputs": [
        {
          "output_type": "stream",
          "name": "stdout",
          "text": [
            "6\n"
          ]
        }
      ]
    },
    {
      "cell_type": "code",
      "source": [
        "name = 'aiadventures'\n",
        "print('zo' in name)\n",
        "print('z' not in name)\n",
        "print('v' in name)"
      ],
      "metadata": {
        "colab": {
          "base_uri": "https://localhost:8080/"
        },
        "id": "WuQ1IonfwWpl",
        "outputId": "4d213be0-cffe-42cc-abb8-116fda2a069b"
      },
      "execution_count": null,
      "outputs": [
        {
          "output_type": "stream",
          "name": "stdout",
          "text": [
            "False\n",
            "True\n",
            "True\n"
          ]
        }
      ]
    },
    {
      "cell_type": "code",
      "source": [
        "name = 'lucy a cat'\n",
        "name[5] = 'the'"
      ],
      "metadata": {
        "colab": {
          "base_uri": "https://localhost:8080/",
          "height": 159
        },
        "id": "Vl1cTk7Twjo_",
        "outputId": "6eabc33c-5848-4786-bfb8-a18723bfef96"
      },
      "execution_count": null,
      "outputs": [
        {
          "output_type": "error",
          "ename": "TypeError",
          "evalue": "'str' object does not support item assignment",
          "traceback": [
            "\u001b[0;31m---------------------------------------------------------------------------\u001b[0m",
            "\u001b[0;31mTypeError\u001b[0m                                 Traceback (most recent call last)",
            "\u001b[0;32m/tmp/ipython-input-2669839477.py\u001b[0m in \u001b[0;36m<cell line: 0>\u001b[0;34m()\u001b[0m\n\u001b[1;32m      1\u001b[0m \u001b[0mname\u001b[0m \u001b[0;34m=\u001b[0m \u001b[0;34m'lucy a cat'\u001b[0m\u001b[0;34m\u001b[0m\u001b[0;34m\u001b[0m\u001b[0m\n\u001b[0;32m----> 2\u001b[0;31m \u001b[0mname\u001b[0m\u001b[0;34m[\u001b[0m\u001b[0;36m5\u001b[0m\u001b[0;34m]\u001b[0m \u001b[0;34m=\u001b[0m \u001b[0;34m'the'\u001b[0m\u001b[0;34m\u001b[0m\u001b[0;34m\u001b[0m\u001b[0m\n\u001b[0m",
            "\u001b[0;31mTypeError\u001b[0m: 'str' object does not support item assignment"
          ]
        }
      ]
    },
    {
      "cell_type": "code",
      "source": [
        "name = 'lucy a cat'\n",
        "new = name[0:5] + \"the\" +name[6:10]\n",
        "new"
      ],
      "metadata": {
        "id": "3tTWNQCgxGKw"
      },
      "execution_count": null,
      "outputs": []
    },
    {
      "cell_type": "code",
      "source": [
        "#Tuplea = built in data type in python used to store an ordered collection of items.(int float, string)\n",
        "# once a tuple is created, its contents cannot be changed. You cannot add, remove, or modify elements within it.\n",
        "# tuples= ()\n",
        "candies = (\"hello\", 42, 0.5)\n",
        "candies"
      ],
      "metadata": {
        "id": "MTs6rnC5xhai"
      },
      "execution_count": null,
      "outputs": []
    },
    {
      "cell_type": "code",
      "source": [
        "#type of element that we can store in tuple\n",
        "mixed_tuple = (1, \"python\", 3.14, True, [4,5])\n",
        "print(mixed_tuple)\n",
        "print(type(mixed_tuple[1]))\n",
        "print(type(mixed_tuple[0]))\n",
        "print(type(mixed_tuple[2]))"
      ],
      "metadata": {
        "id": "n2s03CAayWDK"
      },
      "execution_count": null,
      "outputs": []
    },
    {
      "cell_type": "code",
      "source": [
        "empty_tuples = ()\n",
        "print(empty_tuples)\n",
        "single = (5)\n",
        "print(single)"
      ],
      "metadata": {
        "id": "rE8SdjhQzwv4"
      },
      "execution_count": null,
      "outputs": []
    },
    {
      "cell_type": "code",
      "source": [
        "#integer and duplicates\n",
        "numbers = (1,2,3,4,5)\n",
        "print(numbers)\n",
        "duplicates= (1, 1, 2,3,4,4)\n",
        "print(duplicates)"
      ],
      "metadata": {
        "id": "LCVhEsuoz2ze"
      },
      "execution_count": null,
      "outputs": []
    },
    {
      "cell_type": "code",
      "source": [
        "from io import open_code\n",
        "#mixed & optional parenthese\n",
        "mixed = (1, \"hello\", 3.14, True)\n",
        "print(mixed)\n",
        "optional = 1,2,3\n",
        "print(optional)"
      ],
      "metadata": {
        "id": "PenuHXBy1EZF"
      },
      "execution_count": null,
      "outputs": []
    },
    {
      "cell_type": "code",
      "source": [
        "#tuple indexing\n",
        "point = (10,20)\n",
        "print(point[0])\n",
        "items = ['apple', 'banana']\n",
        "print(items[-1])"
      ],
      "metadata": {
        "colab": {
          "base_uri": "https://localhost:8080/"
        },
        "id": "0fTAs5VM1h6Y",
        "outputId": "7ad7414e-9267-42bc-f842-2834e5672027"
      },
      "execution_count": null,
      "outputs": [
        {
          "output_type": "stream",
          "name": "stdout",
          "text": [
            "10\n",
            "banana\n"
          ]
        }
      ]
    },
    {
      "cell_type": "code",
      "source": [
        "#tuple slicing\n",
        "data = (1,2,3,4)\n",
        "print(data[0:2])\n"
      ],
      "metadata": {
        "colab": {
          "base_uri": "https://localhost:8080/"
        },
        "id": "bFTk-PSO12cM",
        "outputId": "732b75e6-48d5-426b-8ec4-4c872a292ae0"
      },
      "execution_count": null,
      "outputs": [
        {
          "output_type": "stream",
          "name": "stdout",
          "text": [
            "(1, 2)\n"
          ]
        }
      ]
    },
    {
      "cell_type": "code",
      "source": [
        "#tuple looping\n",
        "colors = ('red', 'green')\n",
        "for color in colors:\n",
        "  print(color)"
      ],
      "metadata": {
        "colab": {
          "base_uri": "https://localhost:8080/"
        },
        "id": "tC4VLfTC2OEB",
        "outputId": "2d680927-e9ff-4ae5-8029-f6184ef37d9b"
      },
      "execution_count": null,
      "outputs": [
        {
          "output_type": "stream",
          "name": "stdout",
          "text": [
            "red\n",
            "green\n"
          ]
        }
      ]
    },
    {
      "cell_type": "code",
      "source": [
        "#tuple len\n",
        "print(len(('apple', 'banana')))\n"
      ],
      "metadata": {
        "colab": {
          "base_uri": "https://localhost:8080/"
        },
        "id": "DGXvsb3M2iW2",
        "outputId": "3593221e-97e9-43f9-9920-480ea3a02765"
      },
      "execution_count": null,
      "outputs": [
        {
          "output_type": "stream",
          "name": "stdout",
          "text": [
            "2\n"
          ]
        }
      ]
    },
    {
      "cell_type": "code",
      "source": [
        "#in and not in\n",
        "my_tuple = ('a', 'b', 'c', 'd')\n",
        "print(\"b\" in my_tuple)\n",
        "print(\"k\" not in my_tuple)"
      ],
      "metadata": {
        "colab": {
          "base_uri": "https://localhost:8080/"
        },
        "id": "cvcL92wH2vZJ",
        "outputId": "5efe0799-6277-4023-e22f-04f48b91f150"
      },
      "execution_count": null,
      "outputs": [
        {
          "output_type": "stream",
          "name": "stdout",
          "text": [
            "True\n",
            "True\n"
          ]
        }
      ]
    },
    {
      "cell_type": "code",
      "source": [
        "#list ---> Tuple\n",
        "\n",
        "my_list = ['cat', 'dog', 5]\n",
        "tuple_= tuple(my_list)\n",
        "tuple_"
      ],
      "metadata": {
        "colab": {
          "base_uri": "https://localhost:8080/"
        },
        "id": "oLix2DQ73Jmy",
        "outputId": "25e59b77-90ee-4f10-c130-3cb632fd96a3"
      },
      "execution_count": null,
      "outputs": [
        {
          "output_type": "execute_result",
          "data": {
            "text/plain": [
              "('cat', 'dog', 5)"
            ]
          },
          "metadata": {},
          "execution_count": 1
        }
      ]
    },
    {
      "cell_type": "code",
      "source": [
        "# Tuple --> List\n",
        "my_tuple = ('cat', 'dog',5)\n",
        "p = list(my_tuple)\n",
        "print(p)"
      ],
      "metadata": {
        "colab": {
          "base_uri": "https://localhost:8080/"
        },
        "id": "8c7VI4BP3wKO",
        "outputId": "be1075b0-ecec-4710-e601-01db67e32967"
      },
      "execution_count": null,
      "outputs": [
        {
          "output_type": "stream",
          "name": "stdout",
          "text": [
            "['cat', 'dog', 5]\n"
          ]
        }
      ]
    },
    {
      "cell_type": "code",
      "source": [
        "#str --> List\n",
        "char_list = list('hello')\n",
        "print(char_list)"
      ],
      "metadata": {
        "colab": {
          "base_uri": "https://localhost:8080/"
        },
        "id": "EztCyYnl4Pmb",
        "outputId": "3248bf21-9440-4547-e6e1-fe37a18f14b7"
      },
      "execution_count": null,
      "outputs": [
        {
          "output_type": "stream",
          "name": "stdout",
          "text": [
            "['h', 'e', 'l', 'l', 'o']\n"
          ]
        }
      ]
    },
    {
      "cell_type": "code",
      "source": [
        "#A dictionary (dict) is a mutable, unordered, collection of key-value pairs\n",
        "dictionary = {\"key1\":\"value1\", \"key2\" : \"value2\"}\n",
        "dictionary\n",
        "my_phn = {\"brand\":\"apple\", \"color\":\"gray\", \"model\":\"iphone\", \"year\":2020}\n",
        "my_phn"
      ],
      "metadata": {
        "colab": {
          "base_uri": "https://localhost:8080/"
        },
        "id": "Iexk_yEW4dk9",
        "outputId": "1b6c3aae-ad87-4054-f9db-b0de0f31fd18"
      },
      "execution_count": null,
      "outputs": [
        {
          "output_type": "execute_result",
          "data": {
            "text/plain": [
              "{'brand': 'apple', 'color': 'gray', 'model': 'iphone', 'year': 2020}"
            ]
          },
          "metadata": {},
          "execution_count": 33
        }
      ]
    },
    {
      "cell_type": "code",
      "source": [
        "#retrieving data: Access a value by referencing its key inside square brackets:\n",
        "myphn = {\"brand\":\"apple\", \"color\":\"gray\", \"model\":\"iphone\", \"color\": \"black\"}\n",
        "print(myphn[\"brand\"])\n",
        "print(myphn[\"model\"])"
      ],
      "metadata": {
        "colab": {
          "base_uri": "https://localhost:8080/"
        },
        "id": "rJUn-N_s7wWg",
        "outputId": "fa4de213-553e-42c8-ec57-b414fd48b037"
      },
      "execution_count": null,
      "outputs": [
        {
          "output_type": "stream",
          "name": "stdout",
          "text": [
            "apple\n",
            "iphone\n"
          ]
        }
      ]
    },
    {
      "cell_type": "code",
      "source": [
        "\n",
        "#updating data :Change the value of an existing key by reassigning it\n",
        "myphn[\"brand\"]= \"oppo\"\n",
        "print(myphn)\n",
        "#You can also update multiple keys at once using the .update() method:\n",
        "myphn.update({\"model\": \"F29\", \"year\":2020})\n",
        "print(myphn)\n"
      ],
      "metadata": {
        "colab": {
          "base_uri": "https://localhost:8080/"
        },
        "id": "DLhQ387B9fcv",
        "outputId": "72221959-94bb-4fb7-ca7c-249aea90219d"
      },
      "execution_count": null,
      "outputs": [
        {
          "output_type": "stream",
          "name": "stdout",
          "text": [
            "{'brand': 'oppo', 'color': 'black', 'model': 'iphone'}\n",
            "{'brand': 'oppo', 'color': 'black', 'model': 'F29', 'year': 2020}\n"
          ]
        }
      ]
    },
    {
      "cell_type": "code",
      "source": [
        "\n",
        "#adding data :Add a new key-value pair by simply assigning a value to a new key:\n",
        "myphn['storage'] = '128GB'\n",
        "print(myphn)\n"
      ],
      "metadata": {
        "colab": {
          "base_uri": "https://localhost:8080/"
        },
        "id": "QPBvLtQS-oIm",
        "outputId": "7b097be7-b696-4515-c154-4ca7ee7ba5cf"
      },
      "execution_count": null,
      "outputs": [
        {
          "output_type": "stream",
          "name": "stdout",
          "text": [
            "{'brand': 'oppo', 'color': 'black', 'model': 'F29', 'year': 2020, 'storage': '128GB'}\n"
          ]
        }
      ]
    },
    {
      "cell_type": "code",
      "source": [
        "#You can remove key-value pairs using two common methods:\n",
        "#using del\n",
        "del myphn[\"color\"]\n",
        "print(myphn)\n",
        "#using .pop\n",
        "removed_value = myphn.pop(\"storage\")\n",
        "print(removed_value)\n",
        "print(myphn)"
      ],
      "metadata": {
        "colab": {
          "base_uri": "https://localhost:8080/"
        },
        "id": "F6Bbm1tY_pHo",
        "outputId": "a387f3d4-c9ab-42e9-febe-e5be70a57a21"
      },
      "execution_count": null,
      "outputs": [
        {
          "output_type": "stream",
          "name": "stdout",
          "text": [
            "{'brand': 'oppo', 'model': 'F29', 'year': 2020, 'storage': '128GB'}\n",
            "128GB\n",
            "{'brand': 'oppo', 'model': 'F29', 'year': 2020}\n"
          ]
        }
      ]
    },
    {
      "cell_type": "code",
      "source": [
        "if \"brand\" in myphn:\n",
        "  print(\"brand exists:\" , myphn['brand'])\n",
        "else:\n",
        "  print(\"brand key not found\")"
      ],
      "metadata": {
        "colab": {
          "base_uri": "https://localhost:8080/"
        },
        "id": "lbKhwSKlALSz",
        "outputId": "39d82a81-eef2-41a3-9c0b-a115a8466a0c"
      },
      "execution_count": null,
      "outputs": [
        {
          "output_type": "stream",
          "name": "stdout",
          "text": [
            "brand exists: oppo\n"
          ]
        }
      ]
    },
    {
      "cell_type": "code",
      "source": [
        "#seperate only keys, values, items in list/tuples format using built- in menthods and operations\n",
        "print(list(myphn.keys()))"
      ],
      "metadata": {
        "colab": {
          "base_uri": "https://localhost:8080/"
        },
        "id": "RaBk2OQRBjVO",
        "outputId": "cace0509-7d20-4537-f09f-afec026649b6"
      },
      "execution_count": null,
      "outputs": [
        {
          "output_type": "stream",
          "name": "stdout",
          "text": [
            "['brand', 'model', 'year']\n"
          ]
        }
      ]
    },
    {
      "cell_type": "code",
      "source": [
        "print(tuple(myphn.values()))"
      ],
      "metadata": {
        "colab": {
          "base_uri": "https://localhost:8080/"
        },
        "id": "PhBieljZEUW9",
        "outputId": "7763018c-ba2e-41d1-f688-633cb2244e12"
      },
      "execution_count": null,
      "outputs": [
        {
          "output_type": "stream",
          "name": "stdout",
          "text": [
            "('oppo', 'F29', 2020)\n"
          ]
        }
      ]
    },
    {
      "cell_type": "code",
      "source": [
        "myphn = {\"brand\":\"apple\", \"color\":\"gray\", \"model\":\"iphone\", \"color\": \"black\"}\n",
        "for key, value in myphn.items():\n",
        "  print(\"Key\", \":\", key, \"Value\",\": \",value)\n"
      ],
      "metadata": {
        "colab": {
          "base_uri": "https://localhost:8080/"
        },
        "id": "0BK2WvT_EacE",
        "outputId": "87b45119-ba50-4822-feb1-0766879839bc"
      },
      "execution_count": null,
      "outputs": [
        {
          "output_type": "stream",
          "name": "stdout",
          "text": [
            "Key : brand Value :  apple\n",
            "Key : color Value :  black\n",
            "Key : model Value :  iphone\n"
          ]
        }
      ]
    },
    {
      "cell_type": "code",
      "source": [
        "myphone = {'brand': 'apple', 'model': 'iPhone 13', 'color': 'black'}\n",
        "for key, value in myphone.items():\n",
        "    print(f\"Key: {key}, Value: {value}\")\n",
        "\n",
        "# Output:\n",
        "# Key: brand, Value: apple\n",
        "# Key: model, Value: iPhone 13\n",
        "# Key: color, Value: black"
      ],
      "metadata": {
        "colab": {
          "base_uri": "https://localhost:8080/"
        },
        "id": "A-UQzSNuEx7s",
        "outputId": "449abe72-f039-40c2-89df-4e0f624a0b23"
      },
      "execution_count": null,
      "outputs": [
        {
          "output_type": "stream",
          "name": "stdout",
          "text": [
            "Key: brand, Value: apple\n",
            "Key: model, Value: iPhone 13\n",
            "Key: color, Value: black\n"
          ]
        }
      ]
    },
    {
      "cell_type": "code",
      "source": [
        "#operators\n",
        "#using in operators\n",
        "if 'brand' in myphn:\n",
        "  print(\"brand is available\")\n",
        "\n"
      ],
      "metadata": {
        "colab": {
          "base_uri": "https://localhost:8080/"
        },
        "id": "HdNNjiM3GRV7",
        "outputId": "22bd6a1a-2b79-4869-e5a3-25fab5b784e1"
      },
      "execution_count": null,
      "outputs": [
        {
          "output_type": "stream",
          "name": "stdout",
          "text": [
            "brand is available\n"
          ]
        }
      ]
    },
    {
      "cell_type": "code",
      "source": [
        "#using not in operators\n",
        "if 'storage' not in myphn:\n",
        "  print(\"color info is missing\")"
      ],
      "metadata": {
        "colab": {
          "base_uri": "https://localhost:8080/"
        },
        "id": "TWQHo6SXIKpe",
        "outputId": "b2959e58-6d45-4347-dbb4-1b52391efed7"
      },
      "execution_count": null,
      "outputs": [
        {
          "output_type": "stream",
          "name": "stdout",
          "text": [
            "color info is missing\n"
          ]
        }
      ]
    },
    {
      "cell_type": "code",
      "source": [
        "#advanced usage & practical applications\n",
        "#nested dictionaries\n",
        "all={'prajwal':{'samosa':4, 'jalebi': 10},\n",
        "     'vivek': {'chakli': 3, 'samosa' : 3},\n",
        "     'pranav':{'chiwda':2, 'oreo':1}\n",
        "     }\n",
        "print(all)\n"
      ],
      "metadata": {
        "colab": {
          "base_uri": "https://localhost:8080/"
        },
        "id": "EshTESiOIhZp",
        "outputId": "2e41fbf8-42d1-4e5f-dd4c-9281849041b2"
      },
      "execution_count": null,
      "outputs": [
        {
          "output_type": "stream",
          "name": "stdout",
          "text": [
            "{'prajwal': {'samosa': 4, 'jalebi': 10}, 'vivek': {'chakli': 3, 'samosa': 3}, 'pranav': {'chiwda': 2, 'oreo': 1}}\n"
          ]
        }
      ]
    },
    {
      "cell_type": "code",
      "source": [
        "#Iterating over nested dicts\n",
        "for guest, items in all.items():\n",
        "  print(f\"{guest} brought:\")\n",
        "  for items, quantity in items.items():\n",
        "    print(f\"{items} : {quantity}\")"
      ],
      "metadata": {
        "colab": {
          "base_uri": "https://localhost:8080/"
        },
        "id": "BJ4ucf1IJifr",
        "outputId": "5e333f10-89c1-49db-e671-9b27f0e14677"
      },
      "execution_count": null,
      "outputs": [
        {
          "output_type": "stream",
          "name": "stdout",
          "text": [
            "prajwal brought:\n",
            "samosa : 4\n",
            "jalebi : 10\n",
            "vivek brought:\n",
            "chakli : 3\n",
            "samosa : 3\n",
            "pranav brought:\n",
            "chiwda : 2\n",
            "oreo : 1\n"
          ]
        }
      ]
    },
    {
      "cell_type": "code",
      "source": [
        "def totalbrought(guests, item):\n",
        "  total = 0\n",
        "  for guests, items in guests.items():\n",
        "    total += items.get(item, 0)\n",
        "  return total\n",
        "\n",
        "  all={'prajwal':{'samosa':4, 'jalebi': 10},\n",
        "     'vivek': {'chakli': 3, 'samosa' : 3},\n",
        "     'pranav':{'chiwda':2, 'oreo':1}\n",
        "     }\n",
        "print('Total chakli:', totalbrought(all, 'jalebi'))"
      ],
      "metadata": {
        "colab": {
          "base_uri": "https://localhost:8080/"
        },
        "id": "cix95_GPKBAm",
        "outputId": "28bdab5b-84dc-4640-dbdc-379927ad5948"
      },
      "execution_count": null,
      "outputs": [
        {
          "output_type": "stream",
          "name": "stdout",
          "text": [
            "Total chakli: 10\n"
          ]
        }
      ]
    },
    {
      "cell_type": "code",
      "source": [
        "#sets = stores an unordered collection of unique elements.\n",
        "#sets are ideal for mathematical operations like unions, intersections, and differences.\n",
        "# No Duplicates: Each element in a set is unique.\n",
        "# Unordered: The order of elements is not maintained.\n",
        "v = {1,2,3,4}\n",
        "v"
      ],
      "metadata": {
        "colab": {
          "base_uri": "https://localhost:8080/"
        },
        "id": "qcpTfpIULWOz",
        "outputId": "45c96a16-5ba9-4614-81ef-5bfb33c65597"
      },
      "execution_count": null,
      "outputs": [
        {
          "output_type": "execute_result",
          "data": {
            "text/plain": [
              "{1, 2, 3, 4}"
            ]
          },
          "metadata": {},
          "execution_count": 120
        }
      ]
    },
    {
      "cell_type": "code",
      "source": [
        "v.add(5)\n",
        "v\n",
        "v.remove(1)\n",
        "v"
      ],
      "metadata": {
        "colab": {
          "base_uri": "https://localhost:8080/"
        },
        "id": "JeLmsIvCOW9h",
        "outputId": "f789a567-66dc-4ad2-cea3-c443293baa47"
      },
      "execution_count": null,
      "outputs": [
        {
          "output_type": "execute_result",
          "data": {
            "text/plain": [
              "{2, 3, 4, 5}"
            ]
          },
          "metadata": {},
          "execution_count": 124
        }
      ]
    },
    {
      "cell_type": "code",
      "source": [
        "print(4 in v)"
      ],
      "metadata": {
        "colab": {
          "base_uri": "https://localhost:8080/"
        },
        "id": "ASn7a-QcOcCc",
        "outputId": "f75383eb-ca2b-459b-d576-19a9164c127c"
      },
      "execution_count": null,
      "outputs": [
        {
          "output_type": "stream",
          "name": "stdout",
          "text": [
            "True\n"
          ]
        }
      ]
    },
    {
      "cell_type": "code",
      "source": [
        "print(3 not in v)"
      ],
      "metadata": {
        "colab": {
          "base_uri": "https://localhost:8080/"
        },
        "id": "tLdY1ZRXTmgj",
        "outputId": "7a5f352b-5163-4fd9-d9ba-6566bb0c7916"
      },
      "execution_count": null,
      "outputs": [
        {
          "output_type": "stream",
          "name": "stdout",
          "text": [
            "False\n"
          ]
        }
      ]
    },
    {
      "cell_type": "code",
      "source": [
        "#union (|):The union of two sets contains all the unique elements that appear in either set.\n",
        "primes = {2, 3, 5, 7}\n",
        "odds = {1, 3, 5, 7, 9}\n",
        "print(primes | odds)\n",
        "\n",
        "\n",
        "print(primes.union(odds))"
      ],
      "metadata": {
        "colab": {
          "base_uri": "https://localhost:8080/"
        },
        "id": "wTgSoL9QTp49",
        "outputId": "3f88688e-94cb-4dc2-a9f4-19804e043fc5"
      },
      "execution_count": null,
      "outputs": [
        {
          "output_type": "stream",
          "name": "stdout",
          "text": [
            "{1, 2, 3, 5, 7, 9}\n",
            "{1, 2, 3, 5, 7, 9}\n"
          ]
        }
      ]
    },
    {
      "cell_type": "code",
      "source": [
        "#intersection (&) ; The intersection of two sets contains only the elements that are found in both sets.\n",
        "print(primes & odds)\n",
        "\n",
        "print(primes.intersection(odds))\n"
      ],
      "metadata": {
        "colab": {
          "base_uri": "https://localhost:8080/"
        },
        "id": "TMQTDrMMT5e2",
        "outputId": "92eed127-a933-42a0-c2d9-f1a3fa7318b6"
      },
      "execution_count": null,
      "outputs": [
        {
          "output_type": "stream",
          "name": "stdout",
          "text": [
            "{3, 5, 7}\n",
            "{3, 5, 7}\n"
          ]
        }
      ]
    },
    {
      "cell_type": "code",
      "source": [
        "#difference (-):The difference between two sets contains the elements that are in the first set but not in the second.\n",
        "print(primes - odds)\n",
        "\n",
        "print(primes.difference(odds))\n"
      ],
      "metadata": {
        "colab": {
          "base_uri": "https://localhost:8080/"
        },
        "id": "y0rAT8WuUZds",
        "outputId": "e37aea70-61bd-4476-faee-7044a3f99067"
      },
      "execution_count": null,
      "outputs": [
        {
          "output_type": "stream",
          "name": "stdout",
          "text": [
            "{2}\n",
            "{2}\n"
          ]
        }
      ]
    },
    {
      "cell_type": "code",
      "source": [
        "#symmetric difference (^):\n",
        "print(primes ^ odds)\n",
        "\n",
        "print(primes.symmetric_difference(odds))"
      ],
      "metadata": {
        "colab": {
          "base_uri": "https://localhost:8080/"
        },
        "id": "CEczocXoUuwG",
        "outputId": "a2fe3aab-c154-4050-ddf1-5a72fd4a9d79"
      },
      "execution_count": null,
      "outputs": [
        {
          "output_type": "stream",
          "name": "stdout",
          "text": [
            "{1, 2, 9}\n",
            "{1, 2, 9}\n"
          ]
        }
      ]
    },
    {
      "cell_type": "code",
      "source": [
        "#adding elements\n",
        "#add(): Adds a single element to the set.\n",
        "#update(): Adds multiple elements (from an iterable) to the set.\n",
        "numbers = {1,2,3}\n",
        "numbers.add(4)\n",
        "print(numbers)\n",
        "numbers.update([5,6,7])\n",
        "print(numbers)"
      ],
      "metadata": {
        "colab": {
          "base_uri": "https://localhost:8080/"
        },
        "id": "5XRErzElVGQH",
        "outputId": "00c0c40c-5a09-4c92-b24b-6730b3f56783"
      },
      "execution_count": null,
      "outputs": [
        {
          "output_type": "stream",
          "name": "stdout",
          "text": [
            "{1, 2, 3, 4}\n",
            "{1, 2, 3, 4, 5, 6, 7}\n"
          ]
        }
      ]
    },
    {
      "cell_type": "code",
      "source": [
        "# removing elements\n",
        "# remove(): Removes a specified element. If the element is not found, it raises a KeyError.\n",
        "# discard(): Removes a specified element. If the element is not found, it does nothing.\n",
        "# pop(): Removes and returns an arbitrary element from the set. Since sets are unordered, you don't know which element gets removed.\n",
        "# clear(): Removes all elements from the set.\n",
        "\n",
        "numbers= {1,2,3,4,5}\n",
        "numbers.remove(3)\n",
        "print(numbers)\n",
        "\n",
        "numbers.discard(2)\n",
        "print(numbers)\n",
        "\n",
        "\n",
        "popped_value = numbers.pop()\n",
        "print(\"popped:\", popped_value)\n",
        "print(numbers)\n",
        "\n",
        "numbers.clear()\n",
        "print(numbers)"
      ],
      "metadata": {
        "colab": {
          "base_uri": "https://localhost:8080/"
        },
        "id": "FnYf6R9VWMpX",
        "outputId": "9ce69296-970a-485a-9c18-fb26fe9cde36"
      },
      "execution_count": null,
      "outputs": [
        {
          "output_type": "stream",
          "name": "stdout",
          "text": [
            "{1, 2, 4, 5}\n",
            "{1, 4, 5}\n",
            "popped: 1\n",
            "{4, 5}\n",
            "set()\n"
          ]
        }
      ]
    },
    {
      "cell_type": "code",
      "source": [
        "# changing values in set\n",
        "# set elements are immutable (you cannot change a value directly),\n",
        "# to \"change\" an element you must remove the old element and add the new element.\n",
        "colors = {'red','blue','green'}\n",
        "colors.discard('blue')\n",
        "colors.add('yellow')\n",
        "colors"
      ],
      "metadata": {
        "colab": {
          "base_uri": "https://localhost:8080/"
        },
        "id": "TPhmMtlvXhnO",
        "outputId": "1983d955-c08b-432f-a657-32c1c4c2040f"
      },
      "execution_count": null,
      "outputs": [
        {
          "output_type": "execute_result",
          "data": {
            "text/plain": [
              "{'green', 'red', 'yellow'}"
            ]
          },
          "metadata": {},
          "execution_count": 154
        }
      ]
    },
    {
      "cell_type": "markdown",
      "source": [
        "exercise\n"
      ],
      "metadata": {
        "id": "tdKWMq2kamND"
      }
    },
    {
      "cell_type": "code",
      "source": [
        "student = {\"name\":\"harshada\", \"Gender\":\"female\", \"age\":23, \"programming language\":\"python\"}\n",
        "student.update({\"roll number\": 43})\n",
        "print(student)"
      ],
      "metadata": {
        "colab": {
          "base_uri": "https://localhost:8080/"
        },
        "id": "X7p7crAZZECO",
        "outputId": "84b00fe7-bd12-4835-bc47-f3b9d85a505e"
      },
      "execution_count": null,
      "outputs": [
        {
          "output_type": "stream",
          "name": "stdout",
          "text": [
            "{'name': 'harshada', 'Gender': 'female', 'age': 23, 'programming language': 'python', 'roll number': 43}\n"
          ]
        }
      ]
    },
    {
      "cell_type": "code",
      "source": [
        "def match_string(string, substring):\n",
        "    string = 'ABRACADABRA'\n",
        "    substring = 'A'\n",
        "    count= 0\n",
        "    for i in string:\n",
        "      if substring == i:\n",
        "         count+=1\n",
        "    print(count)\n",
        "\n",
        "match_string(string, substring)"
      ],
      "metadata": {
        "colab": {
          "base_uri": "https://localhost:8080/"
        },
        "id": "e_tfXqE8bJwh",
        "outputId": "f2e6fe03-1199-4839-c912-56334f2cad89"
      },
      "execution_count": null,
      "outputs": [
        {
          "output_type": "stream",
          "name": "stdout",
          "text": [
            "5\n"
          ]
        }
      ]
    },
    {
      "cell_type": "code",
      "source": [
        "def total_bill(first, second):\n",
        "    stock = {'banana':6, 'apple':0, 'orange':32, 'pear':15}\n",
        "    prices ={'banana':4, 'apple':2, 'orange':1.5, 'pear':3}\n",
        "    total = 0\n",
        "    for i in stock.keys():\n",
        "        total += stock[i] * prices[i]\n",
        "    print(total)\n",
        "total_bill(stock, prices)\n",
        "\n"
      ],
      "metadata": {
        "colab": {
          "base_uri": "https://localhost:8080/"
        },
        "id": "-K-YSGG3ckU1",
        "outputId": "cdc65887-25d9-4e2e-fab3-e3d84f52857e"
      },
      "execution_count": null,
      "outputs": [
        {
          "output_type": "stream",
          "name": "stdout",
          "text": [
            "117.0\n"
          ]
        }
      ]
    },
    {
      "cell_type": "code",
      "source": [
        "def create_dict(keys_list):\n",
        "    sampleDict = {}\n",
        "    for i in keys_list:\n",
        "      sampleDict[i] =input(f'enter {i} :')\n",
        "\n",
        "    return sampleDict\n",
        "\n",
        "keys_list = [\"Name\", \"Birth Month\", \"Programming Language\", \"Salary\"]\n",
        "create_dict(keys_list)"
      ],
      "metadata": {
        "colab": {
          "base_uri": "https://localhost:8080/"
        },
        "id": "Fawvv-izzH0H",
        "outputId": "bb3cdb41-debb-4ca2-d288-be934b96d161"
      },
      "execution_count": null,
      "outputs": [
        {
          "name": "stdout",
          "output_type": "stream",
          "text": [
            "enter Name :h\n",
            "enter Birth Month :jan\n",
            "enter Programming Language :c++\n",
            "enter Salary :35\n"
          ]
        },
        {
          "output_type": "execute_result",
          "data": {
            "text/plain": [
              "{'Name': 'h',\n",
              " 'Birth Month': 'jan',\n",
              " 'Programming Language': 'c++',\n",
              " 'Salary': '35'}"
            ]
          },
          "metadata": {},
          "execution_count": 165
        }
      ]
    },
    {
      "cell_type": "code",
      "source": [
        " ## use of f fucntion\n",
        "age = 78\n",
        "print(f'wertyui {age} ')"
      ],
      "metadata": {
        "colab": {
          "base_uri": "https://localhost:8080/"
        },
        "id": "Y5hWbzU83lLG",
        "outputId": "bb2cd7c1-6f19-406b-9a61-08c17ad13a20"
      },
      "execution_count": null,
      "outputs": [
        {
          "output_type": "stream",
          "name": "stdout",
          "text": [
            "wertyui 78 \n"
          ]
        }
      ]
    },
    {
      "cell_type": "code",
      "source": [
        "def unique_elements(dicionary):\n",
        "\n",
        "    marks = {\"English\": 78, \"Maths\": 89, \"Science\": 92,\n",
        "            \"History\": 89, \"Geography\": 77, \"Physics\": 92, \"Chemistry\": 78}\n",
        "    a= list(set(marks.values()))\n",
        "    c = a.sort(reverse = True)\n",
        "    return a\n",
        "unique_elements(a)\n"
      ],
      "metadata": {
        "colab": {
          "base_uri": "https://localhost:8080/"
        },
        "id": "kmWK1Mah4oCq",
        "outputId": "fa60e639-128b-4d7d-fa2f-625bac0586ec"
      },
      "execution_count": null,
      "outputs": [
        {
          "output_type": "execute_result",
          "data": {
            "text/plain": [
              "[92, 89, 78, 77]"
            ]
          },
          "metadata": {},
          "execution_count": 224
        }
      ]
    },
    {
      "cell_type": "code",
      "source": [
        "def count_vowels(countries):\n",
        "\n",
        "    asian_countries = ('afghanistan', 'bangladesh', 'bhutan', 'china', 'india', 'iran', 'iraq', 'israel', 'japan')\n",
        "    vowels = 'aeiou'\n",
        "    d = {}\n",
        "\n",
        "    for char in asian_countries:\n",
        "      c = 0\n",
        "      for i in char:\n",
        "          if i in vowels:\n",
        "            c += 1\n",
        "      d[char] = c\n",
        "\n",
        "\n",
        "    return d\n",
        "\n",
        "count_vowels(asian_countries)\n",
        "\n"
      ],
      "metadata": {
        "colab": {
          "base_uri": "https://localhost:8080/"
        },
        "id": "NHsWRIYDF7g8",
        "outputId": "2298a4fe-8e24-4ee1-b5fd-3d6e5a0242c5"
      },
      "execution_count": null,
      "outputs": [
        {
          "output_type": "execute_result",
          "data": {
            "text/plain": [
              "{'afghanistan': 4,\n",
              " 'bangladesh': 3,\n",
              " 'bhutan': 2,\n",
              " 'china': 2,\n",
              " 'india': 3,\n",
              " 'iran': 2,\n",
              " 'iraq': 2,\n",
              " 'israel': 3,\n",
              " 'japan': 2}"
            ]
          },
          "metadata": {},
          "execution_count": 29
        }
      ]
    },
    {
      "cell_type": "code",
      "source": [],
      "metadata": {
        "id": "J4cxP_1ddkLL"
      },
      "execution_count": null,
      "outputs": []
    },
    {
      "cell_type": "code",
      "source": [
        "for i in range(1000,3001):\n",
        "  if i % 2==0:\n",
        "    print(i, end = \",\")"
      ],
      "metadata": {
        "colab": {
          "base_uri": "https://localhost:8080/"
        },
        "id": "TwpqbRG3Nw-x",
        "outputId": "7b5ed812-b644-42e2-fc05-b802e633958c"
      },
      "execution_count": null,
      "outputs": [
        {
          "output_type": "stream",
          "name": "stdout",
          "text": [
            "1000,1002,1004,1006,1008,1010,1012,1014,1016,1018,1020,1022,1024,1026,1028,1030,1032,1034,1036,1038,1040,1042,1044,1046,1048,1050,1052,1054,1056,1058,1060,1062,1064,1066,1068,1070,1072,1074,1076,1078,1080,1082,1084,1086,1088,1090,1092,1094,1096,1098,1100,1102,1104,1106,1108,1110,1112,1114,1116,1118,1120,1122,1124,1126,1128,1130,1132,1134,1136,1138,1140,1142,1144,1146,1148,1150,1152,1154,1156,1158,1160,1162,1164,1166,1168,1170,1172,1174,1176,1178,1180,1182,1184,1186,1188,1190,1192,1194,1196,1198,1200,1202,1204,1206,1208,1210,1212,1214,1216,1218,1220,1222,1224,1226,1228,1230,1232,1234,1236,1238,1240,1242,1244,1246,1248,1250,1252,1254,1256,1258,1260,1262,1264,1266,1268,1270,1272,1274,1276,1278,1280,1282,1284,1286,1288,1290,1292,1294,1296,1298,1300,1302,1304,1306,1308,1310,1312,1314,1316,1318,1320,1322,1324,1326,1328,1330,1332,1334,1336,1338,1340,1342,1344,1346,1348,1350,1352,1354,1356,1358,1360,1362,1364,1366,1368,1370,1372,1374,1376,1378,1380,1382,1384,1386,1388,1390,1392,1394,1396,1398,1400,1402,1404,1406,1408,1410,1412,1414,1416,1418,1420,1422,1424,1426,1428,1430,1432,1434,1436,1438,1440,1442,1444,1446,1448,1450,1452,1454,1456,1458,1460,1462,1464,1466,1468,1470,1472,1474,1476,1478,1480,1482,1484,1486,1488,1490,1492,1494,1496,1498,1500,1502,1504,1506,1508,1510,1512,1514,1516,1518,1520,1522,1524,1526,1528,1530,1532,1534,1536,1538,1540,1542,1544,1546,1548,1550,1552,1554,1556,1558,1560,1562,1564,1566,1568,1570,1572,1574,1576,1578,1580,1582,1584,1586,1588,1590,1592,1594,1596,1598,1600,1602,1604,1606,1608,1610,1612,1614,1616,1618,1620,1622,1624,1626,1628,1630,1632,1634,1636,1638,1640,1642,1644,1646,1648,1650,1652,1654,1656,1658,1660,1662,1664,1666,1668,1670,1672,1674,1676,1678,1680,1682,1684,1686,1688,1690,1692,1694,1696,1698,1700,1702,1704,1706,1708,1710,1712,1714,1716,1718,1720,1722,1724,1726,1728,1730,1732,1734,1736,1738,1740,1742,1744,1746,1748,1750,1752,1754,1756,1758,1760,1762,1764,1766,1768,1770,1772,1774,1776,1778,1780,1782,1784,1786,1788,1790,1792,1794,1796,1798,1800,1802,1804,1806,1808,1810,1812,1814,1816,1818,1820,1822,1824,1826,1828,1830,1832,1834,1836,1838,1840,1842,1844,1846,1848,1850,1852,1854,1856,1858,1860,1862,1864,1866,1868,1870,1872,1874,1876,1878,1880,1882,1884,1886,1888,1890,1892,1894,1896,1898,1900,1902,1904,1906,1908,1910,1912,1914,1916,1918,1920,1922,1924,1926,1928,1930,1932,1934,1936,1938,1940,1942,1944,1946,1948,1950,1952,1954,1956,1958,1960,1962,1964,1966,1968,1970,1972,1974,1976,1978,1980,1982,1984,1986,1988,1990,1992,1994,1996,1998,2000,2002,2004,2006,2008,2010,2012,2014,2016,2018,2020,2022,2024,2026,2028,2030,2032,2034,2036,2038,2040,2042,2044,2046,2048,2050,2052,2054,2056,2058,2060,2062,2064,2066,2068,2070,2072,2074,2076,2078,2080,2082,2084,2086,2088,2090,2092,2094,2096,2098,2100,2102,2104,2106,2108,2110,2112,2114,2116,2118,2120,2122,2124,2126,2128,2130,2132,2134,2136,2138,2140,2142,2144,2146,2148,2150,2152,2154,2156,2158,2160,2162,2164,2166,2168,2170,2172,2174,2176,2178,2180,2182,2184,2186,2188,2190,2192,2194,2196,2198,2200,2202,2204,2206,2208,2210,2212,2214,2216,2218,2220,2222,2224,2226,2228,2230,2232,2234,2236,2238,2240,2242,2244,2246,2248,2250,2252,2254,2256,2258,2260,2262,2264,2266,2268,2270,2272,2274,2276,2278,2280,2282,2284,2286,2288,2290,2292,2294,2296,2298,2300,2302,2304,2306,2308,2310,2312,2314,2316,2318,2320,2322,2324,2326,2328,2330,2332,2334,2336,2338,2340,2342,2344,2346,2348,2350,2352,2354,2356,2358,2360,2362,2364,2366,2368,2370,2372,2374,2376,2378,2380,2382,2384,2386,2388,2390,2392,2394,2396,2398,2400,2402,2404,2406,2408,2410,2412,2414,2416,2418,2420,2422,2424,2426,2428,2430,2432,2434,2436,2438,2440,2442,2444,2446,2448,2450,2452,2454,2456,2458,2460,2462,2464,2466,2468,2470,2472,2474,2476,2478,2480,2482,2484,2486,2488,2490,2492,2494,2496,2498,2500,2502,2504,2506,2508,2510,2512,2514,2516,2518,2520,2522,2524,2526,2528,2530,2532,2534,2536,2538,2540,2542,2544,2546,2548,2550,2552,2554,2556,2558,2560,2562,2564,2566,2568,2570,2572,2574,2576,2578,2580,2582,2584,2586,2588,2590,2592,2594,2596,2598,2600,2602,2604,2606,2608,2610,2612,2614,2616,2618,2620,2622,2624,2626,2628,2630,2632,2634,2636,2638,2640,2642,2644,2646,2648,2650,2652,2654,2656,2658,2660,2662,2664,2666,2668,2670,2672,2674,2676,2678,2680,2682,2684,2686,2688,2690,2692,2694,2696,2698,2700,2702,2704,2706,2708,2710,2712,2714,2716,2718,2720,2722,2724,2726,2728,2730,2732,2734,2736,2738,2740,2742,2744,2746,2748,2750,2752,2754,2756,2758,2760,2762,2764,2766,2768,2770,2772,2774,2776,2778,2780,2782,2784,2786,2788,2790,2792,2794,2796,2798,2800,2802,2804,2806,2808,2810,2812,2814,2816,2818,2820,2822,2824,2826,2828,2830,2832,2834,2836,2838,2840,2842,2844,2846,2848,2850,2852,2854,2856,2858,2860,2862,2864,2866,2868,2870,2872,2874,2876,2878,2880,2882,2884,2886,2888,2890,2892,2894,2896,2898,2900,2902,2904,2906,2908,2910,2912,2914,2916,2918,2920,2922,2924,2926,2928,2930,2932,2934,2936,2938,2940,2942,2944,2946,2948,2950,2952,2954,2956,2958,2960,2962,2964,2966,2968,2970,2972,2974,2976,2978,2980,2982,2984,2986,2988,2990,2992,2994,2996,2998,3000,"
          ]
        }
      ]
    },
    {
      "cell_type": "code",
      "source": [
        "for i in range(1000,3001,2):\n",
        "  print(i,end=',')"
      ],
      "metadata": {
        "colab": {
          "base_uri": "https://localhost:8080/"
        },
        "id": "QO9ixfxhZx2O",
        "outputId": "ac931ffc-ce83-4a98-a90b-a21368017389"
      },
      "execution_count": null,
      "outputs": [
        {
          "output_type": "stream",
          "name": "stdout",
          "text": [
            "1000,1002,1004,1006,1008,1010,1012,1014,1016,1018,1020,1022,1024,1026,1028,1030,1032,1034,1036,1038,1040,1042,1044,1046,1048,1050,1052,1054,1056,1058,1060,1062,1064,1066,1068,1070,1072,1074,1076,1078,1080,1082,1084,1086,1088,1090,1092,1094,1096,1098,1100,1102,1104,1106,1108,1110,1112,1114,1116,1118,1120,1122,1124,1126,1128,1130,1132,1134,1136,1138,1140,1142,1144,1146,1148,1150,1152,1154,1156,1158,1160,1162,1164,1166,1168,1170,1172,1174,1176,1178,1180,1182,1184,1186,1188,1190,1192,1194,1196,1198,1200,1202,1204,1206,1208,1210,1212,1214,1216,1218,1220,1222,1224,1226,1228,1230,1232,1234,1236,1238,1240,1242,1244,1246,1248,1250,1252,1254,1256,1258,1260,1262,1264,1266,1268,1270,1272,1274,1276,1278,1280,1282,1284,1286,1288,1290,1292,1294,1296,1298,1300,1302,1304,1306,1308,1310,1312,1314,1316,1318,1320,1322,1324,1326,1328,1330,1332,1334,1336,1338,1340,1342,1344,1346,1348,1350,1352,1354,1356,1358,1360,1362,1364,1366,1368,1370,1372,1374,1376,1378,1380,1382,1384,1386,1388,1390,1392,1394,1396,1398,1400,1402,1404,1406,1408,1410,1412,1414,1416,1418,1420,1422,1424,1426,1428,1430,1432,1434,1436,1438,1440,1442,1444,1446,1448,1450,1452,1454,1456,1458,1460,1462,1464,1466,1468,1470,1472,1474,1476,1478,1480,1482,1484,1486,1488,1490,1492,1494,1496,1498,1500,1502,1504,1506,1508,1510,1512,1514,1516,1518,1520,1522,1524,1526,1528,1530,1532,1534,1536,1538,1540,1542,1544,1546,1548,1550,1552,1554,1556,1558,1560,1562,1564,1566,1568,1570,1572,1574,1576,1578,1580,1582,1584,1586,1588,1590,1592,1594,1596,1598,1600,1602,1604,1606,1608,1610,1612,1614,1616,1618,1620,1622,1624,1626,1628,1630,1632,1634,1636,1638,1640,1642,1644,1646,1648,1650,1652,1654,1656,1658,1660,1662,1664,1666,1668,1670,1672,1674,1676,1678,1680,1682,1684,1686,1688,1690,1692,1694,1696,1698,1700,1702,1704,1706,1708,1710,1712,1714,1716,1718,1720,1722,1724,1726,1728,1730,1732,1734,1736,1738,1740,1742,1744,1746,1748,1750,1752,1754,1756,1758,1760,1762,1764,1766,1768,1770,1772,1774,1776,1778,1780,1782,1784,1786,1788,1790,1792,1794,1796,1798,1800,1802,1804,1806,1808,1810,1812,1814,1816,1818,1820,1822,1824,1826,1828,1830,1832,1834,1836,1838,1840,1842,1844,1846,1848,1850,1852,1854,1856,1858,1860,1862,1864,1866,1868,1870,1872,1874,1876,1878,1880,1882,1884,1886,1888,1890,1892,1894,1896,1898,1900,1902,1904,1906,1908,1910,1912,1914,1916,1918,1920,1922,1924,1926,1928,1930,1932,1934,1936,1938,1940,1942,1944,1946,1948,1950,1952,1954,1956,1958,1960,1962,1964,1966,1968,1970,1972,1974,1976,1978,1980,1982,1984,1986,1988,1990,1992,1994,1996,1998,2000,2002,2004,2006,2008,2010,2012,2014,2016,2018,2020,2022,2024,2026,2028,2030,2032,2034,2036,2038,2040,2042,2044,2046,2048,2050,2052,2054,2056,2058,2060,2062,2064,2066,2068,2070,2072,2074,2076,2078,2080,2082,2084,2086,2088,2090,2092,2094,2096,2098,2100,2102,2104,2106,2108,2110,2112,2114,2116,2118,2120,2122,2124,2126,2128,2130,2132,2134,2136,2138,2140,2142,2144,2146,2148,2150,2152,2154,2156,2158,2160,2162,2164,2166,2168,2170,2172,2174,2176,2178,2180,2182,2184,2186,2188,2190,2192,2194,2196,2198,2200,2202,2204,2206,2208,2210,2212,2214,2216,2218,2220,2222,2224,2226,2228,2230,2232,2234,2236,2238,2240,2242,2244,2246,2248,2250,2252,2254,2256,2258,2260,2262,2264,2266,2268,2270,2272,2274,2276,2278,2280,2282,2284,2286,2288,2290,2292,2294,2296,2298,2300,2302,2304,2306,2308,2310,2312,2314,2316,2318,2320,2322,2324,2326,2328,2330,2332,2334,2336,2338,2340,2342,2344,2346,2348,2350,2352,2354,2356,2358,2360,2362,2364,2366,2368,2370,2372,2374,2376,2378,2380,2382,2384,2386,2388,2390,2392,2394,2396,2398,2400,2402,2404,2406,2408,2410,2412,2414,2416,2418,2420,2422,2424,2426,2428,2430,2432,2434,2436,2438,2440,2442,2444,2446,2448,2450,2452,2454,2456,2458,2460,2462,2464,2466,2468,2470,2472,2474,2476,2478,2480,2482,2484,2486,2488,2490,2492,2494,2496,2498,2500,2502,2504,2506,2508,2510,2512,2514,2516,2518,2520,2522,2524,2526,2528,2530,2532,2534,2536,2538,2540,2542,2544,2546,2548,2550,2552,2554,2556,2558,2560,2562,2564,2566,2568,2570,2572,2574,2576,2578,2580,2582,2584,2586,2588,2590,2592,2594,2596,2598,2600,2602,2604,2606,2608,2610,2612,2614,2616,2618,2620,2622,2624,2626,2628,2630,2632,2634,2636,2638,2640,2642,2644,2646,2648,2650,2652,2654,2656,2658,2660,2662,2664,2666,2668,2670,2672,2674,2676,2678,2680,2682,2684,2686,2688,2690,2692,2694,2696,2698,2700,2702,2704,2706,2708,2710,2712,2714,2716,2718,2720,2722,2724,2726,2728,2730,2732,2734,2736,2738,2740,2742,2744,2746,2748,2750,2752,2754,2756,2758,2760,2762,2764,2766,2768,2770,2772,2774,2776,2778,2780,2782,2784,2786,2788,2790,2792,2794,2796,2798,2800,2802,2804,2806,2808,2810,2812,2814,2816,2818,2820,2822,2824,2826,2828,2830,2832,2834,2836,2838,2840,2842,2844,2846,2848,2850,2852,2854,2856,2858,2860,2862,2864,2866,2868,2870,2872,2874,2876,2878,2880,2882,2884,2886,2888,2890,2892,2894,2896,2898,2900,2902,2904,2906,2908,2910,2912,2914,2916,2918,2920,2922,2924,2926,2928,2930,2932,2934,2936,2938,2940,2942,2944,2946,2948,2950,2952,2954,2956,2958,2960,2962,2964,2966,2968,2970,2972,2974,2976,2978,2980,2982,2984,2986,2988,2990,2992,2994,2996,2998,3000,"
          ]
        }
      ]
    },
    {
      "cell_type": "markdown",
      "source": [
        "quiz\n"
      ],
      "metadata": {
        "id": "zu6Rty9aqyFA"
      }
    },
    {
      "cell_type": "code",
      "source": [
        "fruits = ['apple','banana','cherry']\n",
        "fruits.append('orange')\n",
        "print(fruits)"
      ],
      "metadata": {
        "colab": {
          "base_uri": "https://localhost:8080/"
        },
        "id": "6fZkQNZjdYfx",
        "outputId": "faee0e97-a24a-480d-8ec1-ba1b20eaf500"
      },
      "execution_count": null,
      "outputs": [
        {
          "output_type": "stream",
          "name": "stdout",
          "text": [
            "['apple', 'banana', 'cherry', 'orange']\n"
          ]
        }
      ]
    },
    {
      "cell_type": "code",
      "source": [
        "fruits = {'apple', 'banana', ' cherry'}\n",
        "first_fruit, *rest_of_fruits = fruits\n",
        "print(first_fruit, rest_of_fruits)"
      ],
      "metadata": {
        "colab": {
          "base_uri": "https://localhost:8080/"
        },
        "id": "Yho_iUprd5iH",
        "outputId": "bd673a05-2672-4a84-c6b1-5f543f865748"
      },
      "execution_count": null,
      "outputs": [
        {
          "output_type": "stream",
          "name": "stdout",
          "text": [
            "apple [' cherry', 'banana']\n"
          ]
        }
      ]
    },
    {
      "cell_type": "code",
      "source": [
        "fruits = ('apple','banana', 'cherry')\n",
        "reversed_fruits = tuple(reversed(fruits))\n",
        "print(reversed_fruits)"
      ],
      "metadata": {
        "colab": {
          "base_uri": "https://localhost:8080/"
        },
        "id": "6nQJN973evZT",
        "outputId": "537a9f45-f57b-475e-80d2-dae712b550d9"
      },
      "execution_count": null,
      "outputs": [
        {
          "output_type": "stream",
          "name": "stdout",
          "text": [
            "('cherry', 'banana', 'apple')\n"
          ]
        }
      ]
    },
    {
      "cell_type": "code",
      "source": [
        "person = {'name': 'john', 'age':25, 'city':'newyork'}\n",
        "age = person.pop('age')\n",
        "person['age'] = age+1\n",
        "print(person)"
      ],
      "metadata": {
        "colab": {
          "base_uri": "https://localhost:8080/"
        },
        "id": "O9AN7SpzfRbB",
        "outputId": "d10973ec-a42e-4c59-9844-3b9adf53ebed"
      },
      "execution_count": null,
      "outputs": [
        {
          "output_type": "stream",
          "name": "stdout",
          "text": [
            "{'name': 'john', 'city': 'newyork', 'age': 26}\n"
          ]
        }
      ]
    },
    {
      "cell_type": "code",
      "source": [
        "a = {'apple', 'banana', 'cherry'}\n",
        "a.discard('banana')\n",
        "print(a)"
      ],
      "metadata": {
        "colab": {
          "base_uri": "https://localhost:8080/"
        },
        "id": "zG4-zFj7fnRU",
        "outputId": "71216e19-0699-4f19-9320-8235a09a9691"
      },
      "execution_count": null,
      "outputs": [
        {
          "output_type": "stream",
          "name": "stdout",
          "text": [
            "{'cherry', 'apple'}\n"
          ]
        }
      ]
    },
    {
      "cell_type": "code",
      "source": [
        "z = {'name':'alice', 'age':30, 'city':'londan'}\n",
        "z.update({'age': 31, 'city':'newyork'})\n",
        "print(z)"
      ],
      "metadata": {
        "colab": {
          "base_uri": "https://localhost:8080/"
        },
        "id": "6HaStHPOgGsp",
        "outputId": "de02dfb0-9279-4407-eaec-8642cfba68d3"
      },
      "execution_count": null,
      "outputs": [
        {
          "output_type": "stream",
          "name": "stdout",
          "text": [
            "{'name': 'alice', 'age': 31, 'city': 'newyork'}\n"
          ]
        }
      ]
    },
    {
      "cell_type": "code",
      "source": [
        "numbers=[1,2,3,4,5]\n",
        "print(numbers[5])"
      ],
      "metadata": {
        "colab": {
          "base_uri": "https://localhost:8080/",
          "height": 159
        },
        "id": "pHDewaLPhDpu",
        "outputId": "4ead1968-338d-441a-eba4-39e2cfa8bb7f"
      },
      "execution_count": null,
      "outputs": [
        {
          "output_type": "error",
          "ename": "IndexError",
          "evalue": "list index out of range",
          "traceback": [
            "\u001b[0;31m---------------------------------------------------------------------------\u001b[0m",
            "\u001b[0;31mIndexError\u001b[0m                                Traceback (most recent call last)",
            "\u001b[0;32m/tmp/ipython-input-29520423.py\u001b[0m in \u001b[0;36m<cell line: 0>\u001b[0;34m()\u001b[0m\n\u001b[1;32m      1\u001b[0m \u001b[0mnumbers\u001b[0m\u001b[0;34m=\u001b[0m\u001b[0;34m[\u001b[0m\u001b[0;36m1\u001b[0m\u001b[0;34m,\u001b[0m\u001b[0;36m2\u001b[0m\u001b[0;34m,\u001b[0m\u001b[0;36m3\u001b[0m\u001b[0;34m,\u001b[0m\u001b[0;36m4\u001b[0m\u001b[0;34m,\u001b[0m\u001b[0;36m5\u001b[0m\u001b[0;34m]\u001b[0m\u001b[0;34m\u001b[0m\u001b[0;34m\u001b[0m\u001b[0m\n\u001b[0;32m----> 2\u001b[0;31m \u001b[0mprint\u001b[0m\u001b[0;34m(\u001b[0m\u001b[0mnumbers\u001b[0m\u001b[0;34m[\u001b[0m\u001b[0;36m5\u001b[0m\u001b[0;34m]\u001b[0m\u001b[0;34m)\u001b[0m\u001b[0;34m\u001b[0m\u001b[0;34m\u001b[0m\u001b[0m\n\u001b[0m",
            "\u001b[0;31mIndexError\u001b[0m: list index out of range"
          ]
        }
      ]
    },
    {
      "cell_type": "code",
      "source": [
        "number = [1,2,3,4,5]\n",
        "number.append(number.pop(1))\n",
        "print(number)"
      ],
      "metadata": {
        "colab": {
          "base_uri": "https://localhost:8080/"
        },
        "id": "Bbw12bt5hRIt",
        "outputId": "9f1d0641-6719-4171-ffcd-1eb5ff499c65"
      },
      "execution_count": null,
      "outputs": [
        {
          "output_type": "stream",
          "name": "stdout",
          "text": [
            "[1, 3, 4, 5, 2]\n"
          ]
        }
      ]
    },
    {
      "cell_type": "code",
      "source": [
        "stud ={'name':'john', 'age':20, 'grade':'A'}\n",
        "stud['city'] = 'newyork'\n",
        "stud['age']= 21\n",
        "print(stud)"
      ],
      "metadata": {
        "colab": {
          "base_uri": "https://localhost:8080/"
        },
        "id": "k252OhZ8iQm5",
        "outputId": "e3e49e02-0c49-42eb-dd29-f65b56673543"
      },
      "execution_count": null,
      "outputs": [
        {
          "output_type": "stream",
          "name": "stdout",
          "text": [
            "{'name': 'john', 'age': 21, 'grade': 'A', 'city': 'newyork'}\n"
          ]
        }
      ]
    },
    {
      "cell_type": "code",
      "source": [
        "f= {'apple', 'banana', 'cherry'}\n",
        "print(f(1))"
      ],
      "metadata": {
        "colab": {
          "base_uri": "https://localhost:8080/",
          "height": 159
        },
        "id": "9rXdxwyTjuBs",
        "outputId": "01705107-ddcc-4562-9098-f062547b5e38"
      },
      "execution_count": null,
      "outputs": [
        {
          "output_type": "error",
          "ename": "TypeError",
          "evalue": "'set' object is not callable",
          "traceback": [
            "\u001b[0;31m---------------------------------------------------------------------------\u001b[0m",
            "\u001b[0;31mTypeError\u001b[0m                                 Traceback (most recent call last)",
            "\u001b[0;32m/tmp/ipython-input-2450493134.py\u001b[0m in \u001b[0;36m<cell line: 0>\u001b[0;34m()\u001b[0m\n\u001b[1;32m      1\u001b[0m \u001b[0mf\u001b[0m\u001b[0;34m=\u001b[0m \u001b[0;34m{\u001b[0m\u001b[0;34m'apple'\u001b[0m\u001b[0;34m,\u001b[0m \u001b[0;34m'banana'\u001b[0m\u001b[0;34m,\u001b[0m \u001b[0;34m'cherry'\u001b[0m\u001b[0;34m}\u001b[0m\u001b[0;34m\u001b[0m\u001b[0;34m\u001b[0m\u001b[0m\n\u001b[0;32m----> 2\u001b[0;31m \u001b[0mprint\u001b[0m\u001b[0;34m(\u001b[0m\u001b[0mf\u001b[0m\u001b[0;34m(\u001b[0m\u001b[0;36m1\u001b[0m\u001b[0;34m)\u001b[0m\u001b[0;34m)\u001b[0m\u001b[0;34m\u001b[0m\u001b[0;34m\u001b[0m\u001b[0m\n\u001b[0m",
            "\u001b[0;31mTypeError\u001b[0m: 'set' object is not callable"
          ]
        }
      ]
    },
    {
      "cell_type": "code",
      "source": [
        "frut = ('apple','banana','cherry')\n",
        "frut = frut + ('orange',)\n",
        "frut"
      ],
      "metadata": {
        "colab": {
          "base_uri": "https://localhost:8080/"
        },
        "id": "ZIoVZIEqkBxs",
        "outputId": "93d1d623-0513-44e1-8cf6-57349c420275"
      },
      "execution_count": null,
      "outputs": [
        {
          "output_type": "execute_result",
          "data": {
            "text/plain": [
              "('apple', 'banana', 'cherry', 'orange')"
            ]
          },
          "metadata": {},
          "execution_count": 27
        }
      ]
    },
    {
      "cell_type": "code",
      "source": [
        "num = [1,2,3,4,5]\n",
        "num.append(6)\n",
        "num.remove(2)\n",
        "print(num)"
      ],
      "metadata": {
        "colab": {
          "base_uri": "https://localhost:8080/"
        },
        "id": "kYnUbeZVkryD",
        "outputId": "82f270c5-6f8a-4b28-a1b0-0773074546f5"
      },
      "execution_count": null,
      "outputs": [
        {
          "output_type": "stream",
          "name": "stdout",
          "text": [
            "[1, 3, 4, 5, 6]\n"
          ]
        }
      ]
    },
    {
      "cell_type": "code",
      "source": [
        "fruts= ['apple', 'banana', 'cherry']\n",
        "fruts.append('orange')\n",
        "print(fruts)"
      ],
      "metadata": {
        "colab": {
          "base_uri": "https://localhost:8080/"
        },
        "id": "FRdg6FxplIES",
        "outputId": "4492e9be-bd6a-4801-8aaf-8585340c0cfc"
      },
      "execution_count": null,
      "outputs": [
        {
          "output_type": "stream",
          "name": "stdout",
          "text": [
            "['apple', 'banana', 'cherry', 'orange']\n"
          ]
        }
      ]
    },
    {
      "cell_type": "code",
      "source": [
        "set1 = {1,2,3}\n",
        "set2={3,4,5}\n",
        "set1.update(set2)\n",
        "print(set1)"
      ],
      "metadata": {
        "colab": {
          "base_uri": "https://localhost:8080/"
        },
        "id": "VRnbSjeBllY-",
        "outputId": "8e91387a-19f7-4071-b14b-7cf30a2c4d97"
      },
      "execution_count": null,
      "outputs": [
        {
          "output_type": "stream",
          "name": "stdout",
          "text": [
            "{1, 2, 3, 4, 5}\n"
          ]
        }
      ]
    },
    {
      "cell_type": "code",
      "source": [
        "def foo(lst):\n",
        "  lst.append(4)\n",
        "  my_list = [1,2]"
      ],
      "metadata": {
        "id": "2iRYS4rTRu6y"
      },
      "execution_count": null,
      "outputs": []
    }
  ]
}