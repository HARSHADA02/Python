{
  "nbformat": 4,
  "nbformat_minor": 0,
  "metadata": {
    "colab": {
      "provenance": [],
      "authorship_tag": "ABX9TyOsbzLs0gN++EShcHqvoRXF",
      "include_colab_link": true
    },
    "kernelspec": {
      "name": "python3",
      "display_name": "Python 3"
    },
    "language_info": {
      "name": "python"
    }
  },
  "cells": [
    {
      "cell_type": "markdown",
      "metadata": {
        "id": "view-in-github",
        "colab_type": "text"
      },
      "source": [
        "<a href=\"https://colab.research.google.com/github/HARSHADA02/Python/blob/main/Lists.ipynb\" target=\"_parent\"><img src=\"https://colab.research.google.com/assets/colab-badge.svg\" alt=\"Open In Colab\"/></a>"
      ]
    },
    {
      "cell_type": "code",
      "execution_count": null,
      "metadata": {
        "colab": {
          "base_uri": "https://localhost:8080/"
        },
        "id": "IpfQnqWl2lYV",
        "outputId": "3c065485-4e94-46e3-a9c2-7c55e52eda94"
      },
      "outputs": [
        {
          "output_type": "stream",
          "name": "stdout",
          "text": [
            "[1, 2.7, 'ram']\n"
          ]
        }
      ],
      "source": [
        "d= [1, 2.7, \"ram\"]\n",
        "print(d)"
      ]
    },
    {
      "cell_type": "code",
      "source": [
        "d[1]"
      ],
      "metadata": {
        "colab": {
          "base_uri": "https://localhost:8080/"
        },
        "id": "ncgsixaH2tLl",
        "outputId": "0499c87d-2409-4a56-c246-e4b6f73ec83d"
      },
      "execution_count": null,
      "outputs": [
        {
          "output_type": "execute_result",
          "data": {
            "text/plain": [
              "2.7"
            ]
          },
          "metadata": {},
          "execution_count": 2
        }
      ]
    },
    {
      "cell_type": "code",
      "source": [
        "d[-2]"
      ],
      "metadata": {
        "colab": {
          "base_uri": "https://localhost:8080/"
        },
        "id": "mHCox6KC2xOI",
        "outputId": "5ab8bf17-f5bf-418a-cadc-86f36ee8d2ec"
      },
      "execution_count": null,
      "outputs": [
        {
          "output_type": "execute_result",
          "data": {
            "text/plain": [
              "2.7"
            ]
          },
          "metadata": {},
          "execution_count": 3
        }
      ]
    },
    {
      "cell_type": "code",
      "source": [
        "d[2]"
      ],
      "metadata": {
        "colab": {
          "base_uri": "https://localhost:8080/",
          "height": 35
        },
        "id": "-MPYfSY-20Lz",
        "outputId": "41cf445a-034c-463f-c775-e6fa8c6d7511"
      },
      "execution_count": null,
      "outputs": [
        {
          "output_type": "execute_result",
          "data": {
            "text/plain": [
              "'ram'"
            ],
            "application/vnd.google.colaboratory.intrinsic+json": {
              "type": "string"
            }
          },
          "metadata": {},
          "execution_count": 4
        }
      ]
    },
    {
      "cell_type": "code",
      "source": [
        "d[-1]"
      ],
      "metadata": {
        "colab": {
          "base_uri": "https://localhost:8080/",
          "height": 35
        },
        "id": "gMjSR6Th22Q2",
        "outputId": "13d43855-fdbe-4385-a67a-5e6b2e326f0b"
      },
      "execution_count": null,
      "outputs": [
        {
          "output_type": "execute_result",
          "data": {
            "text/plain": [
              "'ram'"
            ],
            "application/vnd.google.colaboratory.intrinsic+json": {
              "type": "string"
            }
          },
          "metadata": {},
          "execution_count": 5
        }
      ]
    },
    {
      "cell_type": "code",
      "source": [
        "l= [10, 20, 30, 40, 50, 60, 70, 80]\n",
        "print(l)"
      ],
      "metadata": {
        "colab": {
          "base_uri": "https://localhost:8080/"
        },
        "id": "ar93Kcqj24bG",
        "outputId": "fdfef845-3892-4553-df22-0d0e570407f4"
      },
      "execution_count": null,
      "outputs": [
        {
          "output_type": "stream",
          "name": "stdout",
          "text": [
            "[10, 20, 30, 40, 50, 60, 70, 80]\n"
          ]
        }
      ]
    },
    {
      "cell_type": "code",
      "source": [
        "l[1:5:1]"
      ],
      "metadata": {
        "colab": {
          "base_uri": "https://localhost:8080/"
        },
        "id": "ON4Y5eSN3FY9",
        "outputId": "86ce3385-79e7-44a1-e31e-02a28eed3fd0"
      },
      "execution_count": null,
      "outputs": [
        {
          "output_type": "execute_result",
          "data": {
            "text/plain": [
              "[20, 30, 40, 50]"
            ]
          },
          "metadata": {},
          "execution_count": 9
        }
      ]
    },
    {
      "cell_type": "code",
      "source": [
        "l[1:5]"
      ],
      "metadata": {
        "colab": {
          "base_uri": "https://localhost:8080/"
        },
        "id": "q-0Bp42J3Kfc",
        "outputId": "583a6e36-b7cc-4e8a-83fd-0632a83b9e41"
      },
      "execution_count": null,
      "outputs": [
        {
          "output_type": "execute_result",
          "data": {
            "text/plain": [
              "[20, 30, 40, 50]"
            ]
          },
          "metadata": {},
          "execution_count": 10
        }
      ]
    },
    {
      "cell_type": "code",
      "source": [
        "l[:4]"
      ],
      "metadata": {
        "colab": {
          "base_uri": "https://localhost:8080/"
        },
        "id": "ikhS_xUw3Oqb",
        "outputId": "18d31900-0474-4c2b-9a85-053d713db739"
      },
      "execution_count": null,
      "outputs": [
        {
          "output_type": "execute_result",
          "data": {
            "text/plain": [
              "[10, 20, 30, 40]"
            ]
          },
          "metadata": {},
          "execution_count": 11
        }
      ]
    },
    {
      "cell_type": "code",
      "source": [
        "l[5:]"
      ],
      "metadata": {
        "colab": {
          "base_uri": "https://localhost:8080/"
        },
        "id": "Zjqgl_jS3SLm",
        "outputId": "31a44711-0445-4b62-e4b7-ff545646d5c0"
      },
      "execution_count": null,
      "outputs": [
        {
          "output_type": "execute_result",
          "data": {
            "text/plain": [
              "[60, 70, 80]"
            ]
          },
          "metadata": {},
          "execution_count": 12
        }
      ]
    },
    {
      "cell_type": "code",
      "source": [
        "l[1:6:2]"
      ],
      "metadata": {
        "colab": {
          "base_uri": "https://localhost:8080/"
        },
        "id": "Yy6uEFQ53WyT",
        "outputId": "5a304f42-5b2a-473f-912c-4b198884fc14"
      },
      "execution_count": null,
      "outputs": [
        {
          "output_type": "execute_result",
          "data": {
            "text/plain": [
              "[20, 40, 60]"
            ]
          },
          "metadata": {},
          "execution_count": 13
        }
      ]
    },
    {
      "cell_type": "code",
      "source": [
        "l[:4:2]"
      ],
      "metadata": {
        "colab": {
          "base_uri": "https://localhost:8080/"
        },
        "id": "6jgd6fMC3exx",
        "outputId": "bb8f48fd-e3c6-4c1c-fc1f-e37aaa7478a6"
      },
      "execution_count": null,
      "outputs": [
        {
          "output_type": "execute_result",
          "data": {
            "text/plain": [
              "[10, 30]"
            ]
          },
          "metadata": {},
          "execution_count": 14
        }
      ]
    },
    {
      "cell_type": "code",
      "source": [
        "l[-1:-5:-1]"
      ],
      "metadata": {
        "colab": {
          "base_uri": "https://localhost:8080/"
        },
        "id": "7RQHjPqm3hc-",
        "outputId": "d29b4280-88a4-4658-ffd5-ba6693faa19d"
      },
      "execution_count": null,
      "outputs": [
        {
          "output_type": "execute_result",
          "data": {
            "text/plain": [
              "[80, 70, 60, 50]"
            ]
          },
          "metadata": {},
          "execution_count": 15
        }
      ]
    },
    {
      "cell_type": "code",
      "source": [
        "l[:-3:-1]"
      ],
      "metadata": {
        "colab": {
          "base_uri": "https://localhost:8080/"
        },
        "id": "F_XQbSKj3m6G",
        "outputId": "86c1a74c-47fe-4891-ae5a-09be6071c78d"
      },
      "execution_count": null,
      "outputs": [
        {
          "output_type": "execute_result",
          "data": {
            "text/plain": [
              "[80, 70]"
            ]
          },
          "metadata": {},
          "execution_count": 17
        }
      ]
    },
    {
      "cell_type": "code",
      "source": [
        "l[-5: :-1]"
      ],
      "metadata": {
        "colab": {
          "base_uri": "https://localhost:8080/"
        },
        "id": "znro0LLe3wia",
        "outputId": "578e9c28-3adf-43aa-cc91-49cf67a89def"
      },
      "execution_count": null,
      "outputs": [
        {
          "output_type": "execute_result",
          "data": {
            "text/plain": [
              "[40, 30, 20, 10]"
            ]
          },
          "metadata": {},
          "execution_count": 20
        }
      ]
    },
    {
      "cell_type": "code",
      "source": [
        "l[: : -1]"
      ],
      "metadata": {
        "colab": {
          "base_uri": "https://localhost:8080/"
        },
        "id": "SXicYyRF35C-",
        "outputId": "ffe4fd13-bada-4b4d-a7da-fb041cadf071"
      },
      "execution_count": null,
      "outputs": [
        {
          "output_type": "execute_result",
          "data": {
            "text/plain": [
              "[80, 70, 60, 50, 40, 30, 20, 10]"
            ]
          },
          "metadata": {},
          "execution_count": 21
        }
      ]
    },
    {
      "cell_type": "code",
      "source": [
        "l[-1:-5]"
      ],
      "metadata": {
        "colab": {
          "base_uri": "https://localhost:8080/"
        },
        "id": "pOLihrJX4HYi",
        "outputId": "7c021b2b-6a22-43ed-f7ce-f4eb96885588"
      },
      "execution_count": null,
      "outputs": [
        {
          "output_type": "execute_result",
          "data": {
            "text/plain": [
              "[]"
            ]
          },
          "metadata": {},
          "execution_count": 22
        }
      ]
    },
    {
      "cell_type": "code",
      "source": [
        "l[-5: -1]"
      ],
      "metadata": {
        "colab": {
          "base_uri": "https://localhost:8080/"
        },
        "id": "kURT_JJn4LkJ",
        "outputId": "808992be-a0ab-4303-ee78-1d16e69febf5"
      },
      "execution_count": null,
      "outputs": [
        {
          "output_type": "execute_result",
          "data": {
            "text/plain": [
              "[40, 50, 60, 70]"
            ]
          },
          "metadata": {},
          "execution_count": 25
        }
      ]
    },
    {
      "cell_type": "code",
      "source": [
        "a= ['pen', 'pencil', 'eraser', 'books']\n",
        "print(a)"
      ],
      "metadata": {
        "colab": {
          "base_uri": "https://localhost:8080/"
        },
        "id": "tdE4agKp4Qff",
        "outputId": "90384c4d-2bf6-4e7f-f99c-eea8b8688fc9"
      },
      "execution_count": 70,
      "outputs": [
        {
          "output_type": "stream",
          "name": "stdout",
          "text": [
            "['pen', 'pencil', 'eraser', 'books']\n"
          ]
        }
      ]
    },
    {
      "cell_type": "code",
      "source": [
        "#slicing\n",
        "print(a[1:4])"
      ],
      "metadata": {
        "colab": {
          "base_uri": "https://localhost:8080/"
        },
        "id": "fWF3qjJw_Mzk",
        "outputId": "09cbb828-1911-4b50-c5c5-8f078c84fe79"
      },
      "execution_count": 63,
      "outputs": [
        {
          "output_type": "stream",
          "name": "stdout",
          "text": [
            "['pencil', 'eraser', 'books']\n"
          ]
        }
      ]
    },
    {
      "cell_type": "code",
      "source": [
        "a = a[0:-1]\n",
        "a"
      ],
      "metadata": {
        "colab": {
          "base_uri": "https://localhost:8080/"
        },
        "id": "b3xsxdw9_Ww9",
        "outputId": "614976cc-d7c9-447b-8f45-3382632b6851"
      },
      "execution_count": 71,
      "outputs": [
        {
          "output_type": "execute_result",
          "data": {
            "text/plain": [
              "['pen', 'pencil', 'eraser']"
            ]
          },
          "metadata": {},
          "execution_count": 71
        }
      ]
    },
    {
      "cell_type": "code",
      "source": [
        "\n",
        "a[:2]"
      ],
      "metadata": {
        "colab": {
          "base_uri": "https://localhost:8080/"
        },
        "id": "Gicds-Le_eR8",
        "outputId": "3bc43a2c-28d9-4357-9c07-e57c41144612"
      },
      "execution_count": null,
      "outputs": [
        {
          "output_type": "execute_result",
          "data": {
            "text/plain": [
              "['pen', 'pencil']"
            ]
          },
          "metadata": {},
          "execution_count": 99
        }
      ]
    },
    {
      "cell_type": "code",
      "source": [
        "a[1:]"
      ],
      "metadata": {
        "colab": {
          "base_uri": "https://localhost:8080/"
        },
        "id": "xleA5EHs_mBx",
        "outputId": "37e4298a-893b-4186-e84c-fbb0ac05b016"
      },
      "execution_count": null,
      "outputs": [
        {
          "output_type": "execute_result",
          "data": {
            "text/plain": [
              "['pencil', 'eraser', 'books']"
            ]
          },
          "metadata": {},
          "execution_count": 100
        }
      ]
    },
    {
      "cell_type": "code",
      "source": [
        "a[:]"
      ],
      "metadata": {
        "colab": {
          "base_uri": "https://localhost:8080/"
        },
        "id": "8Seh9LXB_o3S",
        "outputId": "b16db7a0-4518-4cd6-a367-30d4257d17ff"
      },
      "execution_count": null,
      "outputs": [
        {
          "output_type": "execute_result",
          "data": {
            "text/plain": [
              "['pen', 'pencil', 'eraser', 'books']"
            ]
          },
          "metadata": {},
          "execution_count": 101
        }
      ]
    },
    {
      "cell_type": "code",
      "source": [
        "a[1] = 'scale'\n",
        "print(a)"
      ],
      "metadata": {
        "colab": {
          "base_uri": "https://localhost:8080/"
        },
        "id": "2skkPQuf_sVT",
        "outputId": "c27e0e2f-5f67-4651-d5d6-aa5e366f361e"
      },
      "execution_count": null,
      "outputs": [
        {
          "output_type": "stream",
          "name": "stdout",
          "text": [
            "['pen', 'scale', 'eraser', 'books']\n"
          ]
        }
      ]
    },
    {
      "cell_type": "code",
      "source": [
        "a[2] = a[1]\n",
        "print(a)"
      ],
      "metadata": {
        "colab": {
          "base_uri": "https://localhost:8080/"
        },
        "id": "n5ObxQYWBLkW",
        "outputId": "8831110e-e6cf-4ddc-e5be-56315d13b6ac"
      },
      "execution_count": null,
      "outputs": [
        {
          "output_type": "stream",
          "name": "stdout",
          "text": [
            "['pen', 'scale', 'scale', 'books']\n"
          ]
        }
      ]
    },
    {
      "cell_type": "code",
      "source": [
        "a[-1] = 12345\n",
        "print(a)"
      ],
      "metadata": {
        "colab": {
          "base_uri": "https://localhost:8080/"
        },
        "id": "FFFNLA_kBUKs",
        "outputId": "f13002ad-daec-4f6b-9371-9c7dccbbbf85"
      },
      "execution_count": null,
      "outputs": [
        {
          "output_type": "stream",
          "name": "stdout",
          "text": [
            "['pen', 'scale', 'scale', 12345]\n"
          ]
        }
      ]
    },
    {
      "cell_type": "code",
      "source": [
        "#using append\n",
        "a.append(\"ball\")\n",
        "print(a)"
      ],
      "metadata": {
        "colab": {
          "base_uri": "https://localhost:8080/"
        },
        "id": "RW6TzANpBbwb",
        "outputId": "4f51b10d-6233-4216-e851-6c7684736dd0"
      },
      "execution_count": null,
      "outputs": [
        {
          "output_type": "stream",
          "name": "stdout",
          "text": [
            "['pen', 'scale', 'scale', 12345, 'ball']\n"
          ]
        }
      ]
    },
    {
      "cell_type": "code",
      "source": [
        "\n",
        "#using insert\n",
        "a.insert(1, 'phone')\n",
        "print(a)"
      ],
      "metadata": {
        "colab": {
          "base_uri": "https://localhost:8080/"
        },
        "id": "R2j4FeCgB2nl",
        "outputId": "fd5b0fc9-d2b7-4bc3-a544-e270fc4d7afb"
      },
      "execution_count": null,
      "outputs": [
        {
          "output_type": "stream",
          "name": "stdout",
          "text": [
            "['pen', 'phone', 'scale', 'scale', 12345, 'ball']\n"
          ]
        }
      ]
    },
    {
      "cell_type": "code",
      "source": [
        "a.insert(-1, \"laptop\")\n",
        "print(a)"
      ],
      "metadata": {
        "colab": {
          "base_uri": "https://localhost:8080/"
        },
        "id": "xUDXzvBXCFjX",
        "outputId": "ab050949-a4be-4fdd-b97b-673f2310304c"
      },
      "execution_count": null,
      "outputs": [
        {
          "output_type": "stream",
          "name": "stdout",
          "text": [
            "['pen', 'phone', 'scale', 'scale', 12345, 'laptop', 'ball']\n"
          ]
        }
      ]
    },
    {
      "cell_type": "code",
      "source": [
        "#using del\n",
        "del a[0]\n",
        "print(a)"
      ],
      "metadata": {
        "colab": {
          "base_uri": "https://localhost:8080/"
        },
        "id": "dl287e06ENXS",
        "outputId": "c1bf9b21-f929-4655-f7f7-efa7c471c052"
      },
      "execution_count": null,
      "outputs": [
        {
          "output_type": "stream",
          "name": "stdout",
          "text": [
            "['phone', 'scale', 'scale', 12345, 'laptop', 'ball']\n"
          ]
        }
      ]
    },
    {
      "cell_type": "code",
      "source": [
        "#using remove\n",
        "a.remove(12345)\n",
        "print(a)"
      ],
      "metadata": {
        "colab": {
          "base_uri": "https://localhost:8080/"
        },
        "id": "VCqdxpRUEZYP",
        "outputId": "107c7ae0-b908-4dd6-8092-57f00fefa86d"
      },
      "execution_count": null,
      "outputs": [
        {
          "output_type": "stream",
          "name": "stdout",
          "text": [
            "['phone', 'scale', 'scale', 'laptop', 'ball']\n"
          ]
        }
      ]
    },
    {
      "cell_type": "code",
      "source": [
        "a.remove(\"scale\")\n",
        "print(a)"
      ],
      "metadata": {
        "colab": {
          "base_uri": "https://localhost:8080/"
        },
        "id": "eue3wXz3Epb5",
        "outputId": "541210f8-5dc2-4126-97bd-bc8ee6e82ea8"
      },
      "execution_count": null,
      "outputs": [
        {
          "output_type": "stream",
          "name": "stdout",
          "text": [
            "['phone', 'scale', 'laptop', 'ball']\n"
          ]
        }
      ]
    },
    {
      "cell_type": "code",
      "source": [
        "#list concatenation(+)\n",
        "[1,2,3] + ['a', 'b', 'c']\n"
      ],
      "metadata": {
        "colab": {
          "base_uri": "https://localhost:8080/"
        },
        "id": "A26CBV0NEtdE",
        "outputId": "e8b0f33d-445c-4291-cf1e-038c8e21bdb2"
      },
      "execution_count": null,
      "outputs": [
        {
          "output_type": "execute_result",
          "data": {
            "text/plain": [
              "[1, 2, 3, 'a', 'b', 'c']"
            ]
          },
          "metadata": {},
          "execution_count": 113
        }
      ]
    },
    {
      "cell_type": "code",
      "source": [
        "f= [1,2,3]\n",
        "f= f + ['a', 'b', 'c']\n",
        "print(f)"
      ],
      "metadata": {
        "colab": {
          "base_uri": "https://localhost:8080/"
        },
        "id": "Eh2dveexFL3r",
        "outputId": "94d796a2-e3c1-46ad-b883-e93305e3171d"
      },
      "execution_count": null,
      "outputs": [
        {
          "output_type": "stream",
          "name": "stdout",
          "text": [
            "[1, 2, 3, 'a', 'b', 'c']\n"
          ]
        }
      ]
    },
    {
      "cell_type": "code",
      "source": [
        "#list replication\n",
        "['x', 'y','z']*4"
      ],
      "metadata": {
        "colab": {
          "base_uri": "https://localhost:8080/"
        },
        "id": "Z5dbCoV4FcrH",
        "outputId": "22c0be98-4f54-46ce-e0ad-69cfd4185119"
      },
      "execution_count": null,
      "outputs": [
        {
          "output_type": "execute_result",
          "data": {
            "text/plain": [
              "['x', 'y', 'z', 'x', 'y', 'z', 'x', 'y', 'z', 'x', 'y', 'z']"
            ]
          },
          "metadata": {},
          "execution_count": 117
        }
      ]
    },
    {
      "cell_type": "code",
      "source": [
        "'howdy' in ['hello', 'hi', 'howdy', 'heyas']"
      ],
      "metadata": {
        "colab": {
          "base_uri": "https://localhost:8080/"
        },
        "id": "Nn0POG35FsxL",
        "outputId": "5f7c3b59-1343-4c5f-f2d2-7b3e681b3a83"
      },
      "execution_count": null,
      "outputs": [
        {
          "output_type": "execute_result",
          "data": {
            "text/plain": [
              "True"
            ]
          },
          "metadata": {},
          "execution_count": 119
        }
      ]
    },
    {
      "cell_type": "code",
      "source": [
        "'cat' in ['hello', 'hi', 'howdy', 'heyas']"
      ],
      "metadata": {
        "colab": {
          "base_uri": "https://localhost:8080/"
        },
        "id": "anW3igzgGaOm",
        "outputId": "ccf853be-2a03-43ba-cfb2-a5408b96e71a"
      },
      "execution_count": null,
      "outputs": [
        {
          "output_type": "execute_result",
          "data": {
            "text/plain": [
              "False"
            ]
          },
          "metadata": {},
          "execution_count": 120
        }
      ]
    },
    {
      "cell_type": "code",
      "source": [
        "mypets = ['sheru', 'oreo', 'badal']\n",
        "print(\"enter a pet name:\")\n",
        "name = input()\n",
        "\n",
        "if name not in mypets:\n",
        "  print('i do not have a pet named ' + name )\n",
        "else:\n",
        "  print(name + ' is my pet.')\n"
      ],
      "metadata": {
        "colab": {
          "base_uri": "https://localhost:8080/"
        },
        "id": "wpD4_whmGhq5",
        "outputId": "07b3d3c8-3e90-40f1-db35-4c5372b3f467"
      },
      "execution_count": null,
      "outputs": [
        {
          "output_type": "stream",
          "name": "stdout",
          "text": [
            "enter a pet name:\n",
            "moti\n",
            "i do not have a pet named moti\n"
          ]
        }
      ]
    },
    {
      "cell_type": "code",
      "source": [],
      "metadata": {
        "id": "pZ6JUS1SGyAQ"
      },
      "execution_count": null,
      "outputs": []
    },
    {
      "cell_type": "code",
      "source": [
        "f= [1,2,3]\n",
        "int_x = int(1.0)\n",
        "f[int_x]"
      ],
      "metadata": {
        "colab": {
          "base_uri": "https://localhost:8080/"
        },
        "id": "4Gtfx1A7UYXN",
        "outputId": "694b9a45-94da-4579-d272-0500fc757310"
      },
      "execution_count": null,
      "outputs": [
        {
          "output_type": "execute_result",
          "data": {
            "text/plain": [
              "2"
            ]
          },
          "metadata": {},
          "execution_count": 7
        }
      ]
    },
    {
      "cell_type": "code",
      "source": [
        "eg=[['pen', 'pencil'], [10,20,30,40,50]]\n",
        "eg[0]"
      ],
      "metadata": {
        "colab": {
          "base_uri": "https://localhost:8080/"
        },
        "id": "x5ehH4S8UjQH",
        "outputId": "295e6208-b513-4d05-98fd-896cd61961dd"
      },
      "execution_count": null,
      "outputs": [
        {
          "output_type": "execute_result",
          "data": {
            "text/plain": [
              "['pen', 'pencil']"
            ]
          },
          "metadata": {},
          "execution_count": 8
        }
      ]
    },
    {
      "cell_type": "code",
      "source": [
        "eg[0][0]"
      ],
      "metadata": {
        "colab": {
          "base_uri": "https://localhost:8080/",
          "height": 35
        },
        "id": "Bi84rg8KWTBc",
        "outputId": "8e9281ce-7f08-4e17-f13c-594dac5d5444"
      },
      "execution_count": null,
      "outputs": [
        {
          "output_type": "execute_result",
          "data": {
            "text/plain": [
              "'pen'"
            ],
            "application/vnd.google.colaboratory.intrinsic+json": {
              "type": "string"
            }
          },
          "metadata": {},
          "execution_count": 9
        }
      ]
    },
    {
      "cell_type": "code",
      "source": [
        "eg[1][3]"
      ],
      "metadata": {
        "colab": {
          "base_uri": "https://localhost:8080/"
        },
        "id": "rxleEhgmWVxk",
        "outputId": "024e1dcc-7b64-443f-fb7e-69c9c2388849"
      },
      "execution_count": null,
      "outputs": [
        {
          "output_type": "execute_result",
          "data": {
            "text/plain": [
              "40"
            ]
          },
          "metadata": {},
          "execution_count": 10
        }
      ]
    },
    {
      "cell_type": "code",
      "source": [
        "eg[1]"
      ],
      "metadata": {
        "colab": {
          "base_uri": "https://localhost:8080/"
        },
        "id": "UNXrtilBWbvj",
        "outputId": "b22e8622-edee-4bb1-ccc3-0af25a696b30"
      },
      "execution_count": null,
      "outputs": [
        {
          "output_type": "execute_result",
          "data": {
            "text/plain": [
              "[10, 20, 30, 40, 50]"
            ]
          },
          "metadata": {},
          "execution_count": 11
        }
      ]
    },
    {
      "cell_type": "code",
      "source": [
        "no = [[2,4,6], [8,10,12]]"
      ],
      "metadata": {
        "id": "qqp9lv4dWfTg"
      },
      "execution_count": null,
      "outputs": []
    },
    {
      "cell_type": "code",
      "source": [
        "print(no[1][0])"
      ],
      "metadata": {
        "colab": {
          "base_uri": "https://localhost:8080/"
        },
        "id": "2nAh6nmJWthb",
        "outputId": "4d19b229-59f2-443b-cf43-c0e16a0130fc"
      },
      "execution_count": null,
      "outputs": [
        {
          "output_type": "stream",
          "name": "stdout",
          "text": [
            "8\n"
          ]
        }
      ]
    },
    {
      "cell_type": "code",
      "source": [
        "#len of list\n",
        "stationary = ['pen','pencil','eraser','books']\n",
        "print(len(stationary))"
      ],
      "metadata": {
        "colab": {
          "base_uri": "https://localhost:8080/"
        },
        "id": "nROtAZOUWzlp",
        "outputId": "2245a8b6-2389-4510-8065-09a34ebcf586"
      },
      "execution_count": null,
      "outputs": [
        {
          "output_type": "stream",
          "name": "stdout",
          "text": [
            "4\n"
          ]
        }
      ]
    },
    {
      "cell_type": "code",
      "source": [
        "#using nested list of len\n",
        "eg=[['pen', 'pencil'], [10,20,30,40,50]]\n",
        "print(len(eg[1]))"
      ],
      "metadata": {
        "colab": {
          "base_uri": "https://localhost:8080/"
        },
        "id": "T317v2hrXU9t",
        "outputId": "da3b0722-2d0e-4505-98cd-82e959835482"
      },
      "execution_count": null,
      "outputs": [
        {
          "output_type": "stream",
          "name": "stdout",
          "text": [
            "5\n"
          ]
        }
      ]
    },
    {
      "cell_type": "code",
      "source": [
        "#indexing-is used to access a single element from a list\n",
        "#its start from zero based indexing, means first element is at index 0 and second at 1 and so on\n",
        "example = ['pen', 'pencil', 'eraser', 'books']\n",
        "(example[2])"
      ],
      "metadata": {
        "colab": {
          "base_uri": "https://localhost:8080/",
          "height": 35
        },
        "id": "Au7piJYwXZWq",
        "outputId": "6ad34684-de63-49fc-d2ee-9708392aa2f9"
      },
      "execution_count": null,
      "outputs": [
        {
          "output_type": "execute_result",
          "data": {
            "text/plain": [
              "'eraser'"
            ],
            "application/vnd.google.colaboratory.intrinsic+json": {
              "type": "string"
            }
          },
          "metadata": {},
          "execution_count": 19
        }
      ]
    },
    {
      "cell_type": "code",
      "source": [
        "#SLicing:\n",
        "# Slicing extracts a portion (or sublist) of a list to create a new list.\n",
        "# The general slicing syntax is: list[start:end:step]\n",
        "# start: Where the slice begins (inclusive).\n",
        "# end: Where the slice ends (exclusive).\n",
        "# step: The interval between elements (optional)"
      ],
      "metadata": {
        "id": "YSBF-iASZSsE"
      },
      "execution_count": null,
      "outputs": []
    },
    {
      "cell_type": "code",
      "source": [
        "eg= [ 'pen', 'pencil', 'eraser', 'books']"
      ],
      "metadata": {
        "id": "tRXn3dYRZh_6"
      },
      "execution_count": null,
      "outputs": []
    },
    {
      "cell_type": "code",
      "source": [
        "eg[1:4]"
      ],
      "metadata": {
        "colab": {
          "base_uri": "https://localhost:8080/"
        },
        "id": "2VOuCj9AZh8Y",
        "outputId": "2ad8ed22-1ff6-4474-a0bf-7d682eb564b2"
      },
      "execution_count": null,
      "outputs": [
        {
          "output_type": "execute_result",
          "data": {
            "text/plain": [
              "['pencil', 'eraser', 'books']"
            ]
          },
          "metadata": {},
          "execution_count": 21
        }
      ]
    },
    {
      "cell_type": "code",
      "source": [
        "eg[1:3]"
      ],
      "metadata": {
        "colab": {
          "base_uri": "https://localhost:8080/"
        },
        "id": "dJe4nQ7YZh6T",
        "outputId": "b79e1bee-1148-4d82-aba4-a516b59ce824"
      },
      "execution_count": null,
      "outputs": [
        {
          "output_type": "execute_result",
          "data": {
            "text/plain": [
              "['pencil', 'eraser']"
            ]
          },
          "metadata": {},
          "execution_count": 22
        }
      ]
    },
    {
      "cell_type": "code",
      "source": [
        "eg[0:-1]"
      ],
      "metadata": {
        "colab": {
          "base_uri": "https://localhost:8080/"
        },
        "id": "5JbJHER8Zh3s",
        "outputId": "4d9e2229-7f60-4d7e-c7bd-84cac32f227a"
      },
      "execution_count": null,
      "outputs": [
        {
          "output_type": "execute_result",
          "data": {
            "text/plain": [
              "['pen', 'pencil', 'eraser']"
            ]
          },
          "metadata": {},
          "execution_count": 23
        }
      ]
    },
    {
      "cell_type": "code",
      "source": [
        "#changing value in a list\n",
        "eg[1] = 'scale'\n",
        "eg\n"
      ],
      "metadata": {
        "colab": {
          "base_uri": "https://localhost:8080/"
        },
        "id": "OxP8bWvjZh1j",
        "outputId": "e4a84094-2d52-4f19-e997-3cc9daacc775"
      },
      "execution_count": null,
      "outputs": [
        {
          "output_type": "execute_result",
          "data": {
            "text/plain": [
              "['pen', 'scale', 'eraser', 'books']"
            ]
          },
          "metadata": {},
          "execution_count": 29
        }
      ]
    },
    {
      "cell_type": "code",
      "source": [
        "#append:\n",
        "eg.append(\"ball\")\n",
        "eg"
      ],
      "metadata": {
        "colab": {
          "base_uri": "https://localhost:8080/"
        },
        "id": "YS196k3Iak7G",
        "outputId": "03311449-8358-4640-d291-a2499551532c"
      },
      "execution_count": null,
      "outputs": [
        {
          "output_type": "execute_result",
          "data": {
            "text/plain": [
              "['pen', 'scale', 'eraser', 'books', 'ball']"
            ]
          },
          "metadata": {},
          "execution_count": 30
        }
      ]
    },
    {
      "cell_type": "code",
      "source": [
        "#insert\n",
        "eg.insert(2, \"laptop\")\n",
        "eg"
      ],
      "metadata": {
        "colab": {
          "base_uri": "https://localhost:8080/"
        },
        "id": "Jq25_hlDatxq",
        "outputId": "63644972-99f4-4901-fb1a-9aeb6da2f78b"
      },
      "execution_count": null,
      "outputs": [
        {
          "output_type": "execute_result",
          "data": {
            "text/plain": [
              "['pen', 'scale', 'laptop', 'eraser', 'books', 'ball']"
            ]
          },
          "metadata": {},
          "execution_count": 32
        }
      ]
    },
    {
      "cell_type": "code",
      "source": [
        "#del\n",
        "del eg[3]\n",
        "eg"
      ],
      "metadata": {
        "colab": {
          "base_uri": "https://localhost:8080/"
        },
        "id": "L4eGGNuxa0Zb",
        "outputId": "d658cb34-39a1-4c06-eec5-a20c78d1ac37"
      },
      "execution_count": null,
      "outputs": [
        {
          "output_type": "execute_result",
          "data": {
            "text/plain": [
              "['pen', 'scale', 'laptop', 'books', 'ball']"
            ]
          },
          "metadata": {},
          "execution_count": 33
        }
      ]
    },
    {
      "cell_type": "code",
      "source": [
        "#remove\n",
        "eg.remove('books')"
      ],
      "metadata": {
        "id": "Z5Htn6rwa9Co"
      },
      "execution_count": null,
      "outputs": []
    },
    {
      "cell_type": "code",
      "source": [
        "#loops\n",
        "#looping directly over the list elements rather than using range.\n",
        "for i in [0,1,2,3]:\n",
        "  print(i)"
      ],
      "metadata": {
        "colab": {
          "base_uri": "https://localhost:8080/"
        },
        "id": "FxV-jgStbD2K",
        "outputId": "29a55a0e-4dc2-49d9-a913-3550e82cfbef"
      },
      "execution_count": null,
      "outputs": [
        {
          "output_type": "stream",
          "name": "stdout",
          "text": [
            "0\n",
            "1\n",
            "2\n",
            "3\n"
          ]
        }
      ]
    },
    {
      "cell_type": "code",
      "source": [
        "numbers= [10,20,30,40]\n",
        "for number in numbers:\n",
        "  print(number)"
      ],
      "metadata": {
        "colab": {
          "base_uri": "https://localhost:8080/"
        },
        "id": "XDE97VgEcn6B",
        "outputId": "27b443a5-8915-4e66-e4ba-1477cfd79bee"
      },
      "execution_count": null,
      "outputs": [
        {
          "output_type": "stream",
          "name": "stdout",
          "text": [
            "10\n",
            "20\n",
            "30\n",
            "40\n"
          ]
        }
      ]
    },
    {
      "cell_type": "code",
      "source": [
        "numbers = [10,20,30,40]\n",
        "index = 0\n",
        "while index < len(numbers):\n",
        "  print(numbers[index])\n",
        "  index +=1"
      ],
      "metadata": {
        "colab": {
          "base_uri": "https://localhost:8080/"
        },
        "id": "MayP3Lbic5_W",
        "outputId": "a5e05774-7ab0-4600-d8c8-5a8e0e2acbf9"
      },
      "execution_count": 16,
      "outputs": [
        {
          "output_type": "stream",
          "name": "stdout",
          "text": [
            "10\n",
            "20\n",
            "30\n",
            "40\n"
          ]
        }
      ]
    },
    {
      "cell_type": "code",
      "source": [
        "items = [['books', 15], ['pen', 2], ['notebook', 5]]\n",
        "for product, price in items:\n",
        "  print(product, \"costs\", price)"
      ],
      "metadata": {
        "colab": {
          "base_uri": "https://localhost:8080/"
        },
        "id": "kcBwEF_8dJQ9",
        "outputId": "47e912e0-a1d2-4569-d0f0-d9302a80e03c"
      },
      "execution_count": 17,
      "outputs": [
        {
          "output_type": "stream",
          "name": "stdout",
          "text": [
            "books costs 15\n",
            "pen costs 2\n",
            "notebook costs 5\n"
          ]
        }
      ]
    },
    {
      "cell_type": "code",
      "source": [
        "items = [['pencil', 1], ['eraser', 2], ['ruler', 3]]\n",
        "index = 0\n",
        "while index < len(items):\n",
        "  product, price = items[index]\n",
        "  print(product, \"costs\", price)\n",
        "  index +=1"
      ],
      "metadata": {
        "colab": {
          "base_uri": "https://localhost:8080/"
        },
        "id": "aHvIYjgidyt4",
        "outputId": "959462eb-ba45-4d70-f887-9536f517e859"
      },
      "execution_count": 18,
      "outputs": [
        {
          "output_type": "stream",
          "name": "stdout",
          "text": [
            "pencil costs 1\n",
            "eraser costs 2\n",
            "ruler costs 3\n"
          ]
        }
      ]
    },
    {
      "cell_type": "code",
      "source": [
        "petname = []\n",
        "while True:\n",
        "  print('enter pet name ' + str(len(petname)+ 1) + ' (or press enter to stop):')\n",
        "  name= input()\n",
        "  if name == '':\n",
        "    break\n",
        "  petname.append(name)\n",
        "print(\"the pet name are:\")\n",
        "for name in petname:\n",
        "   print(' ' + name)"
      ],
      "metadata": {
        "colab": {
          "base_uri": "https://localhost:8080/"
        },
        "id": "gpTpolMfegvI",
        "outputId": "130928f6-0d78-40d0-f4c2-f3576766b20d"
      },
      "execution_count": 19,
      "outputs": [
        {
          "output_type": "stream",
          "name": "stdout",
          "text": [
            "enter pet name 1 (or press enter to stop):\n",
            "moti\n",
            "enter pet name 2 (or press enter to stop):\n",
            "tony\n",
            "enter pet name 3 (or press enter to stop):\n",
            "daizy\n",
            "enter pet name 4 (or press enter to stop):\n",
            "\n",
            "the pet name are:\n",
            " moti\n",
            " tony\n",
            " daizy\n"
          ]
        }
      ]
    },
    {
      "cell_type": "code",
      "source": [
        "def reverse_list(list_numbers):\n",
        "    list1 = [8, 6, 4, 2, 0 ]\n",
        "    print( list1[::-1])\n",
        "reverse_list(list1)\n"
      ],
      "metadata": {
        "colab": {
          "base_uri": "https://localhost:8080/"
        },
        "id": "xrR39mx4fw9j",
        "outputId": "9773c294-86d1-4994-82bc-c30d272fd535"
      },
      "execution_count": 29,
      "outputs": [
        {
          "output_type": "stream",
          "name": "stdout",
          "text": [
            "[0, 2, 4, 6, 8]\n"
          ]
        }
      ]
    },
    {
      "cell_type": "code",
      "source": [
        "def square_list(list_numbers):\n",
        "    list2 = [1, 2, 3, 4, 5]\n",
        "    for i in list2:\n",
        "        print(i**2)\n",
        "square_list(list2)\n",
        "\n"
      ],
      "metadata": {
        "colab": {
          "base_uri": "https://localhost:8080/"
        },
        "id": "NGhssQrpjB4Z",
        "outputId": "c2f29f64-9900-4a51-9286-367b61440842"
      },
      "execution_count": 33,
      "outputs": [
        {
          "output_type": "stream",
          "name": "stdout",
          "text": [
            "1\n",
            "4\n",
            "9\n",
            "16\n",
            "25\n"
          ]
        }
      ]
    },
    {
      "cell_type": "code",
      "source": [
        "def to_append(fruits, new_fruit):\n",
        "    fruits=['banana','orange', 'mango', 'lemon']\n",
        "    new_fruit = 'blueberry'\n",
        "    fruits.append('blueberry')\n",
        "    fruits.insert(2, \"blueberry\")\n",
        "    del fruits[-1]\n",
        "    print(fruits)\n",
        "to_append(fruits, new_fruit)"
      ],
      "metadata": {
        "colab": {
          "base_uri": "https://localhost:8080/"
        },
        "id": "QHL0wsRYkglp",
        "outputId": "0be58d60-65a9-44d2-e574-4b73c323a959"
      },
      "execution_count": null,
      "outputs": [
        {
          "output_type": "stream",
          "name": "stdout",
          "text": [
            "['banana', 'orange', 'blueberry', 'mango', 'lemon']\n"
          ]
        }
      ]
    },
    {
      "cell_type": "code",
      "source": [
        "def remove_spaces(list_names):\n",
        "\n",
        "    list3 = ['vivek', '', 'ankur', 'aiadventures', '','pranav']\n",
        "    list3.remove(\"\")\n",
        "    list3.remove(\"\")\n",
        "    # del list3[-2]\n",
        "    return list3\n",
        "remove_spaces(list3)"
      ],
      "metadata": {
        "colab": {
          "base_uri": "https://localhost:8080/"
        },
        "id": "cdc9JY9cocgs",
        "outputId": "891d3df3-94bc-4d51-c720-5df394b15200"
      },
      "execution_count": null,
      "outputs": [
        {
          "output_type": "execute_result",
          "data": {
            "text/plain": [
              "['vivek', 'ankur', 'aiadventures', 'pranav']"
            ]
          },
          "metadata": {},
          "execution_count": 113
        }
      ]
    },
    {
      "cell_type": "code",
      "source": [
        "def reverse_list(first, second):\n",
        "    list4 = [10, 20, 30, 40]\n",
        "    list5 = [100, 200, 300, 400]\n",
        "    return list4 + list5[ : : -1]\n",
        "reverse_list(list4, list5)\n"
      ],
      "metadata": {
        "colab": {
          "base_uri": "https://localhost:8080/"
        },
        "id": "5JE1RQUesLF8",
        "outputId": "88ac20f7-009a-49ac-f831-47fd25e5a5a9"
      },
      "execution_count": null,
      "outputs": [
        {
          "output_type": "execute_result",
          "data": {
            "text/plain": [
              "[10, 20, 30, 40, 400, 300, 200, 100]"
            ]
          },
          "metadata": {},
          "execution_count": 126
        }
      ]
    },
    {
      "cell_type": "code",
      "source": [
        "def remove_duplicates(sample_list):\n",
        "    sample_list = [4, 2, 5, 2, 3, 4, 1]\n",
        "    sample_list.remove(2)\n",
        "    sample_list.remove(4)\n",
        "    print(sorted(sample_list))\n",
        "remove_duplicates(sample_list)"
      ],
      "metadata": {
        "colab": {
          "base_uri": "https://localhost:8080/"
        },
        "id": "QG_SxQ65t0cq",
        "outputId": "19f7dfab-be00-4d2c-8360-3724b0f45f74"
      },
      "execution_count": null,
      "outputs": [
        {
          "output_type": "stream",
          "name": "stdout",
          "text": [
            "[1, 2, 3, 4, 5]\n"
          ]
        }
      ]
    },
    {
      "cell_type": "code",
      "source": [
        "def fashionably_late(arrivals, name):\n",
        " party_attendees = ['adela', 'fleda', 'owen', 'may', 'mona', 'gilbert', 'ford']\n",
        " new = party_attendees[int(len((party_attendees))//2)+1:-1]\n",
        " if party_attendees == new:\n",
        "  return False\n",
        " elif party_attendees != new:\n",
        "   return True\n"
      ],
      "metadata": {
        "id": "ycm422xmvjAK"
      },
      "execution_count": null,
      "outputs": []
    },
    {
      "cell_type": "code",
      "source": [
        "print(fashionably_late(new, 'Mona'))\n",
        "# Output: True"
      ],
      "metadata": {
        "colab": {
          "base_uri": "https://localhost:8080/"
        },
        "id": "bNYmkpsHyuMm",
        "outputId": "0865c21e-d0df-4be5-8473-35d148e562fe"
      },
      "execution_count": null,
      "outputs": [
        {
          "output_type": "stream",
          "name": "stdout",
          "text": [
            "True\n"
          ]
        }
      ]
    },
    {
      "cell_type": "code",
      "source": [
        "party_attendees = ['adela' ,'fleda', 'owen', 'may', 'mona', 'gilbert','ford']\n",
        "\n",
        "new = party_attendees[int(len((party_attendees))//2)+1 : -1]"
      ],
      "metadata": {
        "id": "yEQElzkVxnqM"
      },
      "execution_count": 38,
      "outputs": []
    },
    {
      "cell_type": "code",
      "source": [
        "\n",
        "def fashionably_late(arrivals, name):\n",
        "  party_attendees = ['adela' ,'fleda', 'owen', 'may', 'mona', 'gilbert','ford']\n",
        "  new = party_attendees[int(len((party_attendees))//2)+1 : -1]\n",
        "  if name in new:\n",
        "    return True\n",
        "  elif name not in new:\n",
        "    return False\n",
        "\n",
        "\n",
        "\n",
        "fashionably_late(new, 'ford')\n"
      ],
      "metadata": {
        "colab": {
          "base_uri": "https://localhost:8080/"
        },
        "id": "6SvGLke21IL2",
        "outputId": "946c6c7a-a34c-45b4-b6df-3b1343c62b44"
      },
      "execution_count": 60,
      "outputs": [
        {
          "output_type": "execute_result",
          "data": {
            "text/plain": [
              "False"
            ]
          },
          "metadata": {},
          "execution_count": 60
        }
      ]
    },
    {
      "cell_type": "code",
      "source": [
        "#def list_operations(first, second):\n",
        "first = ['Ai', 'Adventures', 'Python']\n",
        "second = [10, 20, 30]\n",
        "print(\"Elements of the 1st List:\", first)\n",
        "print(\"Elements of the 1st List:\", second)\n",
        "a =  [len(first[0]), len(first[1]), len(first[2])]\n",
        "result = []\n",
        "for i in a:\n",
        "  print(result.append(i), result.append(second))\n",
        "\n",
        "\n",
        "\n",
        "\n"
      ],
      "metadata": {
        "colab": {
          "base_uri": "https://localhost:8080/"
        },
        "id": "UGaTUGIt3D0n",
        "outputId": "5bfdda94-88a5-49c9-8dfa-123c8bbf6c49"
      },
      "execution_count": 34,
      "outputs": [
        {
          "output_type": "stream",
          "name": "stdout",
          "text": [
            "Elements of the 1st List: ['Ai', 'Adventures', 'Python']\n",
            "Elements of the 1st List: [10, 20, 30]\n",
            "None None\n",
            "None None\n",
            "None None\n"
          ]
        }
      ]
    },
    {
      "cell_type": "code",
      "source": [],
      "metadata": {
        "id": "HsJl0cB84aqF"
      },
      "execution_count": null,
      "outputs": []
    },
    {
      "cell_type": "code",
      "source": [
        "def list_operations(first, second):\n",
        "    result = []\n",
        "    for i in range(len(first)):\n",
        "        # Add element from first list (replace string with its length)\n",
        "        if isinstance(first[i], str):\n",
        "            result.append(len(first[i]))\n",
        "        else:\n",
        "            result.append(first[i])\n",
        "\n",
        "        # Add element from second list as is\n",
        "        if i < len(second):\n",
        "            result.append(second[i])\n",
        "    return result\n",
        "\n",
        "# Example usage\n",
        "first = ['Ai', 'Adventures', 'Python']\n",
        "second = [10, 20, 30]\n",
        "print(\"Elements of the 1st List:\", first)\n",
        "print(\"Elements of the 2nd List:\", second)\n",
        "\n",
        "combined = list_operations(first, second)\n",
        "print(\"Combined and processed list:\", combined)\n"
      ],
      "metadata": {
        "colab": {
          "base_uri": "https://localhost:8080/"
        },
        "id": "jLZf3dIf7qUW",
        "outputId": "cbd4b37d-fe52-48a5-8a5c-5ae3b814bb2c"
      },
      "execution_count": null,
      "outputs": [
        {
          "output_type": "stream",
          "name": "stdout",
          "text": [
            "Elements of the 1st List: ['Ai', 'Adventures', 'Python']\n",
            "Elements of the 2nd List: [10, 20, 30]\n",
            "Combined and processed list: [2, 10, 10, 20, 6, 30]\n"
          ]
        }
      ]
    },
    {
      "cell_type": "code",
      "source": [
        "def list_operations(first, second):\n",
        "    combined = []\n",
        "    max_len = max(len(first), len(second))\n",
        "\n",
        "    for i in range(max_len):\n",
        "        if i < len(first):\n",
        "            try:\n",
        "                combined.append(len(first[i]))\n",
        "            except TypeError:\n",
        "                combined.append(first[i])\n",
        "\n",
        "        if i < len(second):\n",
        "            try:\n",
        "                combined.append(len(second[i]))\n",
        "            except TypeError:\n",
        "                combined.append(second[i])\n",
        "\n",
        "    return combined\n",
        "\n",
        "# Example usage\n",
        "first = ['Ai', 'Adventures', 'Python']\n",
        "second = [10, 20, 30]\n",
        "print(\"Elements of the 1st List:\", first)\n",
        "print(\"Elements of the 2nd List:\", second)\n",
        "print(\"List with alternate elements from the above 2 lists:\", list_operations(first, second))\n"
      ],
      "metadata": {
        "id": "DKTwjDm_COd8",
        "outputId": "da223a0a-e3be-43dc-bbc0-9dd1db7c50c5",
        "colab": {
          "base_uri": "https://localhost:8080/"
        }
      },
      "execution_count": null,
      "outputs": [
        {
          "output_type": "stream",
          "name": "stdout",
          "text": [
            "Elements of the 1st List: ['Ai', 'Adventures', 'Python']\n",
            "Elements of the 2nd List: [10, 20, 30]\n",
            "List with alternate elements from the above 2 lists: [2, 10, 10, 20, 6, 30]\n"
          ]
        }
      ]
    },
    {
      "cell_type": "code",
      "source": [
        "a=[1,2,3,4]\n",
        "a[0:-1]\n",
        "a"
      ],
      "metadata": {
        "id": "tcEkqz7CCPbG",
        "colab": {
          "base_uri": "https://localhost:8080/"
        },
        "outputId": "d056cea4-7a83-4a49-eb28-c740c1ffc15b"
      },
      "execution_count": 74,
      "outputs": [
        {
          "output_type": "execute_result",
          "data": {
            "text/plain": [
              "[1, 2, 3, 4]"
            ]
          },
          "metadata": {},
          "execution_count": 74
        }
      ]
    },
    {
      "cell_type": "code",
      "source": [
        "def list_operations(first, second):\n",
        "   combined = []\n",
        "   first = ['Ai', 'Adventures', 'Python']\n",
        "   second = [10, 20, 30]\n",
        "   a =  []\n",
        "   for i in first:\n",
        "     a.append(len(i))\n",
        "   print(a)\n",
        "   for i in range (len(a)):\n",
        "      combined.append(a[i])\n",
        "      combined.append(second[i])\n",
        "\n",
        "   return combined\n",
        "\n",
        "\n",
        "\n"
      ],
      "metadata": {
        "id": "enMCxRpRzZHb"
      },
      "execution_count": 100,
      "outputs": []
    },
    {
      "cell_type": "code",
      "source": [
        "list_operations(a,second)"
      ],
      "metadata": {
        "colab": {
          "base_uri": "https://localhost:8080/"
        },
        "id": "ptOm7k6T1Yuh",
        "outputId": "4c814588-20b0-46f6-bf75-4f73db209216"
      },
      "execution_count": 101,
      "outputs": [
        {
          "output_type": "stream",
          "name": "stdout",
          "text": [
            "[2, 10, 6]\n"
          ]
        },
        {
          "output_type": "execute_result",
          "data": {
            "text/plain": [
              "[2, 10, 10, 20, 6, 30]"
            ]
          },
          "metadata": {},
          "execution_count": 101
        }
      ]
    },
    {
      "cell_type": "code",
      "source": [
        "def list_operations(first, second):\n",
        "    store = []\n",
        "    first = ['jan', 'february', 'march', 72]\n",
        "    a= len(first[0]), len(first[1]), len(first[2]), int(72)\n",
        "    print(a)\n",
        "    second = [10, 20, 30,'april']\n",
        "    b= 10, 20, 30, len(second[3])\n",
        "    print(b)\n",
        "    for i in range(len(a)):\n",
        "      store.append(a[i])\n",
        "      store.append(b[i])\n",
        "    return(store)\n",
        "list_operations(first, second)"
      ],
      "metadata": {
        "colab": {
          "base_uri": "https://localhost:8080/"
        },
        "id": "VzI0PWRF1c9w",
        "outputId": "e7274d62-878b-4cde-851b-391f8c6e23b2"
      },
      "execution_count": 119,
      "outputs": [
        {
          "output_type": "stream",
          "name": "stdout",
          "text": [
            "(3, 8, 5, 72)\n",
            "(10, 20, 30, 5)\n"
          ]
        },
        {
          "output_type": "execute_result",
          "data": {
            "text/plain": [
              "[3, 10, 8, 20, 5, 30, 72, 5]"
            ]
          },
          "metadata": {},
          "execution_count": 119
        }
      ]
    },
    {
      "cell_type": "code",
      "source": [
        "A = \"HIII\"\n",
        "for i in \"fghjsj\":\n",
        "  print(i)"
      ],
      "metadata": {
        "colab": {
          "base_uri": "https://localhost:8080/"
        },
        "id": "ag_FA7Lq5LzB",
        "outputId": "044a830e-806c-4bda-f7e6-5f6e1dbd9c5e"
      },
      "execution_count": 121,
      "outputs": [
        {
          "output_type": "stream",
          "name": "stdout",
          "text": [
            "f\n",
            "g\n",
            "h\n",
            "j\n",
            "s\n",
            "j\n"
          ]
        }
      ]
    },
    {
      "cell_type": "code",
      "source": [],
      "metadata": {
        "id": "OcS2tRqTHH1F"
      },
      "execution_count": null,
      "outputs": []
    }
  ]
}