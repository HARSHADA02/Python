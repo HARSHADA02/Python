{
  "nbformat": 4,
  "nbformat_minor": 0,
  "metadata": {
    "colab": {
      "provenance": [],
      "authorship_tag": "ABX9TyPmKLnMqznT7WbFs9FMm/mu",
      "include_colab_link": true
    },
    "kernelspec": {
      "name": "python3",
      "display_name": "Python 3"
    },
    "language_info": {
      "name": "python"
    }
  },
  "cells": [
    {
      "cell_type": "markdown",
      "metadata": {
        "id": "view-in-github",
        "colab_type": "text"
      },
      "source": [
        "<a href=\"https://colab.research.google.com/github/HARSHADA02/Python/blob/main/Expression_%26_flow_control.ipynb\" target=\"_parent\"><img src=\"https://colab.research.google.com/assets/colab-badge.svg\" alt=\"Open In Colab\"/></a>"
      ]
    },
    {
      "cell_type": "code",
      "execution_count": null,
      "metadata": {
        "colab": {
          "base_uri": "https://localhost:8080/"
        },
        "id": "niPXs5YZzRXS",
        "outputId": "9bbf5ae8-3802-4ce4-98a6-fe26e36f0741"
      },
      "outputs": [
        {
          "output_type": "execute_result",
          "data": {
            "text/plain": [
              "4"
            ]
          },
          "metadata": {},
          "execution_count": 1
        }
      ],
      "source": [
        "2+2"
      ]
    },
    {
      "cell_type": "code",
      "source": [
        "boat_side = \"right\"\n",
        "missionaries_on_right = 3\n",
        "cannibals_on_right = 3\n",
        "missionaries_on_left = 0\n",
        "cannibals_on_left = 0\n",
        "while True :\n",
        "\n",
        "    if boat_side == \"right\":\n",
        "        print(\"M = \",missionaries_on_left, \"C =\",cannibals_on_left, \"|-----B|\", \"M = \", missionaries_on_right , \"C = \", cannibals_on_right)\n",
        "    elif boat_side == \"left\":\n",
        "        print(\"M = \",missionaries_on_left, \"C =\",cannibals_on_left, \"|B-----|\", \"M = \", missionaries_on_right , \"C = \", cannibals_on_right)\n",
        "\n",
        "\n",
        "\n",
        "    missionaries = int(input(\"Enter the Missionaries:\"))\n",
        "    cannibals = int(input(\"Enter the cannibals:\"))\n",
        "\n",
        "    people = missionaries + cannibals\n",
        "    if people < 1 and people > 2:\n",
        "        print(\"invalid move 1\")\n",
        "        continue\n",
        "\n",
        "    if boat_side == \"right\" :\n",
        "      if missionaries > missionaries_on_right or cannibals > cannibals_on_right:\n",
        "           print(\"invalid move 2\")\n",
        "           continue\n",
        "\n",
        "    cannibals_on_right  = cannibals_on_right - cannibals\n",
        "    cannibals_on_left = cannibals_on_left + cannibals\n",
        "    missionaries_on_right = missionaries_on_right - missionaries\n",
        "    missionaries_on_left = missionaries_on_left +missionaries\n",
        "\n",
        "    if boat_side == \"left\":\n",
        "        print(\"M = \", missionaries_on_left, \"C = \", cannibals_on_left, \"|B-----|\", \"M = \", missionaries_on_right, \"C = \", cannibals_on_right)\n",
        "\n",
        "    else:\n",
        "      if missionaries >= missionaries_on_left or cannibals >= cannibals_on_left:\n",
        "          print(\"invalid move 2\")\n",
        "          continue\n",
        "\n",
        "\n",
        "      missionaries_on_left = missionaries_on_left - missionaries\n",
        "      missionaries_on_right = missionaries_on_right + missionaries\n",
        "      cannibals_on_left = cannibals_on_left - cannibals\n",
        "      cannibals_on_right = cannibals_on_right + cannibals\n",
        "      boat_side ==\"right\"\n",
        "\n",
        "    if missionaries <= cannibals_on_right and missionaries_on_right >= 0:\n",
        "      print(\"You Lose\")\n",
        "      break\n",
        "\n",
        "    if missionaries <= cannibals_on_left and missionaries_on_left >= 0:\n",
        "      print(\"You Lose\")\n",
        "      break\n",
        "\n",
        "    if missionaries_on_left== 3 and cannibals_on_left == 3:\n",
        "      print(\"You Win\")\n",
        "      break\n",
        "\n",
        "    print(\"Game Over\")\n",
        "\n"
      ],
      "metadata": {
        "colab": {
          "base_uri": "https://localhost:8080/",
          "height": 443
        },
        "id": "fe7sOKPZw4TA",
        "outputId": "dd1b3ef7-5019-4b4f-c08b-c8a6a143963c"
      },
      "execution_count": null,
      "outputs": [
        {
          "output_type": "stream",
          "name": "stdout",
          "text": [
            "M =  0 C = 0 |-----B| M =  3 C =  3\n",
            "Enter the Missionaries:0\n",
            "Enter the cannibals:2\n",
            "invalid move 2\n",
            "M =  0 C = 2 |-----B| M =  3 C =  1\n"
          ]
        },
        {
          "output_type": "error",
          "ename": "KeyboardInterrupt",
          "evalue": "Interrupted by user",
          "traceback": [
            "\u001b[0;31m---------------------------------------------------------------------------\u001b[0m",
            "\u001b[0;31mKeyboardInterrupt\u001b[0m                         Traceback (most recent call last)",
            "\u001b[0;32m/tmp/ipython-input-1358351783.py\u001b[0m in \u001b[0;36m<cell line: 0>\u001b[0;34m()\u001b[0m\n\u001b[1;32m     13\u001b[0m \u001b[0;34m\u001b[0m\u001b[0m\n\u001b[1;32m     14\u001b[0m \u001b[0;34m\u001b[0m\u001b[0m\n\u001b[0;32m---> 15\u001b[0;31m     \u001b[0mmissionaries\u001b[0m \u001b[0;34m=\u001b[0m \u001b[0mint\u001b[0m\u001b[0;34m(\u001b[0m\u001b[0minput\u001b[0m\u001b[0;34m(\u001b[0m\u001b[0;34m\"Enter the Missionaries:\"\u001b[0m\u001b[0;34m)\u001b[0m\u001b[0;34m)\u001b[0m\u001b[0;34m\u001b[0m\u001b[0;34m\u001b[0m\u001b[0m\n\u001b[0m\u001b[1;32m     16\u001b[0m     \u001b[0mcannibals\u001b[0m \u001b[0;34m=\u001b[0m \u001b[0mint\u001b[0m\u001b[0;34m(\u001b[0m\u001b[0minput\u001b[0m\u001b[0;34m(\u001b[0m\u001b[0;34m\"Enter the cannibals:\"\u001b[0m\u001b[0;34m)\u001b[0m\u001b[0;34m)\u001b[0m\u001b[0;34m\u001b[0m\u001b[0;34m\u001b[0m\u001b[0m\n\u001b[1;32m     17\u001b[0m \u001b[0;34m\u001b[0m\u001b[0m\n",
            "\u001b[0;32m/usr/local/lib/python3.12/dist-packages/ipykernel/kernelbase.py\u001b[0m in \u001b[0;36mraw_input\u001b[0;34m(self, prompt)\u001b[0m\n\u001b[1;32m   1175\u001b[0m                 \u001b[0;34m\"raw_input was called, but this frontend does not support input requests.\"\u001b[0m\u001b[0;34m\u001b[0m\u001b[0;34m\u001b[0m\u001b[0m\n\u001b[1;32m   1176\u001b[0m             )\n\u001b[0;32m-> 1177\u001b[0;31m         return self._input_request(\n\u001b[0m\u001b[1;32m   1178\u001b[0m             \u001b[0mstr\u001b[0m\u001b[0;34m(\u001b[0m\u001b[0mprompt\u001b[0m\u001b[0;34m)\u001b[0m\u001b[0;34m,\u001b[0m\u001b[0;34m\u001b[0m\u001b[0;34m\u001b[0m\u001b[0m\n\u001b[1;32m   1179\u001b[0m             \u001b[0mself\u001b[0m\u001b[0;34m.\u001b[0m\u001b[0m_parent_ident\u001b[0m\u001b[0;34m[\u001b[0m\u001b[0;34m\"shell\"\u001b[0m\u001b[0;34m]\u001b[0m\u001b[0;34m,\u001b[0m\u001b[0;34m\u001b[0m\u001b[0;34m\u001b[0m\u001b[0m\n",
            "\u001b[0;32m/usr/local/lib/python3.12/dist-packages/ipykernel/kernelbase.py\u001b[0m in \u001b[0;36m_input_request\u001b[0;34m(self, prompt, ident, parent, password)\u001b[0m\n\u001b[1;32m   1217\u001b[0m             \u001b[0;32mexcept\u001b[0m \u001b[0mKeyboardInterrupt\u001b[0m\u001b[0;34m:\u001b[0m\u001b[0;34m\u001b[0m\u001b[0;34m\u001b[0m\u001b[0m\n\u001b[1;32m   1218\u001b[0m                 \u001b[0;31m# re-raise KeyboardInterrupt, to truncate traceback\u001b[0m\u001b[0;34m\u001b[0m\u001b[0;34m\u001b[0m\u001b[0m\n\u001b[0;32m-> 1219\u001b[0;31m                 \u001b[0;32mraise\u001b[0m \u001b[0mKeyboardInterrupt\u001b[0m\u001b[0;34m(\u001b[0m\u001b[0;34m\"Interrupted by user\"\u001b[0m\u001b[0;34m)\u001b[0m \u001b[0;32mfrom\u001b[0m \u001b[0;32mNone\u001b[0m\u001b[0;34m\u001b[0m\u001b[0;34m\u001b[0m\u001b[0m\n\u001b[0m\u001b[1;32m   1220\u001b[0m             \u001b[0;32mexcept\u001b[0m \u001b[0mException\u001b[0m\u001b[0;34m:\u001b[0m\u001b[0;34m\u001b[0m\u001b[0;34m\u001b[0m\u001b[0m\n\u001b[1;32m   1221\u001b[0m                 \u001b[0mself\u001b[0m\u001b[0;34m.\u001b[0m\u001b[0mlog\u001b[0m\u001b[0;34m.\u001b[0m\u001b[0mwarning\u001b[0m\u001b[0;34m(\u001b[0m\u001b[0;34m\"Invalid Message:\"\u001b[0m\u001b[0;34m,\u001b[0m \u001b[0mexc_info\u001b[0m\u001b[0;34m=\u001b[0m\u001b[0;32mTrue\u001b[0m\u001b[0;34m)\u001b[0m\u001b[0;34m\u001b[0m\u001b[0;34m\u001b[0m\u001b[0m\n",
            "\u001b[0;31mKeyboardInterrupt\u001b[0m: Interrupted by user"
          ]
        }
      ]
    },
    {
      "cell_type": "code",
      "source": [
        "2"
      ],
      "metadata": {
        "id": "BO2EeA65w4Yg"
      },
      "execution_count": null,
      "outputs": []
    },
    {
      "cell_type": "code",
      "source": [
        "boat_side = \"right\"\n",
        "missionaries_on_right = 3\n",
        "cannibals_on_right = 3\n",
        "missionaries_on_left = 0\n",
        "cannibals_on_left = 0\n",
        "\n",
        "def print_state():\n",
        "    if boat_side == \"right\":\n",
        "        print(f\"M = {missionaries_on_left} C = {cannibals_on_left} |-----B| M = {missionaries_on_right} C = {cannibals_on_right}\")\n",
        "    else:\n",
        "        print(f\"M = {missionaries_on_left} C = {cannibals_on_left} |B-----| M = {missionaries_on_right} C = {cannibals_on_right}\")\n",
        "\n",
        "print_state()\n",
        "\n",
        "while True:\n",
        "    missionaries = int(input(\"Enter the number of Missionaries to move (0-2): \"))\n",
        "    cannibals = int(input(\"Enter the number of Cannibals to move (0-2): \"))\n",
        "\n",
        "    total = missionaries + cannibals\n",
        "    if total < 1 or total >2:\n",
        "        print(\"Invalid move: You must move 1 or 2 people.\")\n",
        "        continue\n",
        "\n",
        "    if boat_side == \"right\":\n",
        "        if missionaries > missionaries_on_right or cannibals > cannibals_on_right:\n",
        "            print(\"Invalid move: Not enough people on the right side.\")\n",
        "            continue\n",
        "\n",
        "        # Move to left\n",
        "        missionaries_on_right -= missionaries\n",
        "        cannibals_on_right -= cannibals\n",
        "        missionaries_on_left += missionaries\n",
        "        cannibals_on_left += cannibals\n",
        "        boat_side = \"left\"\n",
        "\n",
        "    else: # boat is on the left\n",
        "        if missionaries > missionaries_on_left or cannibals > cannibals_on_left:\n",
        "            print(\"Invalid move: Not enough people on the left side.\")\n",
        "            continue\n",
        "\n",
        "        # Move to right\n",
        "        missionaries_on_left -= missionaries\n",
        "        cannibals_on_left -= cannibals\n",
        "        missionaries_on_right += missionaries\n",
        "        cannibals_on_right += cannibals\n",
        "        boat_side = \"right\"\n",
        "\n",
        "\n",
        "    print_state()\n",
        "\n",
        "    # Check lose condition on right\n",
        "    if missionaries_on_right > 0 and cannibals_on_right > missionaries_on_right:\n",
        "        print(\"You Lose: Cannibals ate the missionaries on the right side!\")\n",
        "        break\n",
        "\n",
        "    # Check lose condition on left\n",
        "    if missionaries_on_left > 0 and cannibals_on_left > missionaries_on_left:\n",
        "        print(\"You Lose: Cannibals ate the missionaries on the left side!\")\n",
        "        break\n",
        "\n",
        "    # Win condition\n",
        "    if missionaries_on_left == 3 and cannibals_on_left == 3:\n",
        "        print(\"Congratulations! You Win!\")\n",
        "        break\n",
        "\n",
        "print(\"Game Over\")"
      ],
      "metadata": {
        "colab": {
          "base_uri": "https://localhost:8080/"
        },
        "id": "6ucThZr9w4bt",
        "outputId": "5dd7f401-a3f6-4183-cd21-a787684cae09"
      },
      "execution_count": null,
      "outputs": [
        {
          "output_type": "stream",
          "name": "stdout",
          "text": [
            "M = 0 C = 0 |-----B| M = 3 C = 3\n",
            "Enter the number of Missionaries to move (0-2): 0\n",
            "Enter the number of Cannibals to move (0-2): 2\n",
            "M = 0 C = 2 |B-----| M = 3 C = 1\n",
            "Enter the number of Missionaries to move (0-2): 0\n",
            "Enter the number of Cannibals to move (0-2): 1\n",
            "M = 0 C = 1 |-----B| M = 3 C = 2\n",
            "Enter the number of Missionaries to move (0-2): 0\n",
            "Enter the number of Cannibals to move (0-2): 2\n",
            "M = 0 C = 3 |B-----| M = 3 C = 0\n",
            "Enter the number of Missionaries to move (0-2): 0\n",
            "Enter the number of Cannibals to move (0-2): 1\n",
            "M = 0 C = 2 |-----B| M = 3 C = 1\n",
            "Enter the number of Missionaries to move (0-2): 2\n",
            "Enter the number of Cannibals to move (0-2): 0\n",
            "M = 2 C = 2 |B-----| M = 1 C = 1\n",
            "Enter the number of Missionaries to move (0-2): 1\n",
            "Enter the number of Cannibals to move (0-2): 1\n",
            "M = 1 C = 1 |-----B| M = 2 C = 2\n",
            "Enter the number of Missionaries to move (0-2): 2\n",
            "Enter the number of Cannibals to move (0-2): 0\n",
            "M = 3 C = 1 |B-----| M = 0 C = 2\n",
            "Enter the number of Missionaries to move (0-2): 0\n",
            "Enter the number of Cannibals to move (0-2): 1\n",
            "M = 3 C = 0 |-----B| M = 0 C = 3\n",
            "Enter the number of Missionaries to move (0-2): 0\n",
            "Enter the number of Cannibals to move (0-2): 2\n",
            "M = 3 C = 2 |B-----| M = 0 C = 1\n",
            "Enter the number of Missionaries to move (0-2): 0\n",
            "Enter the number of Cannibals to move (0-2): 1\n",
            "M = 3 C = 1 |-----B| M = 0 C = 2\n",
            "Enter the number of Missionaries to move (0-2): 0\n",
            "Enter the number of Cannibals to move (0-2): 2\n",
            "M = 3 C = 3 |B-----| M = 0 C = 0\n",
            "Congratulations! You Win!\n",
            "Game Over\n"
          ]
        }
      ]
    },
    {
      "cell_type": "code",
      "source": [
        "11122#####final code ####\n",
        "### Your code ###\n",
        "boat_side = \"right\"\n",
        "missionaries_on_right = 3\n",
        "cannibals_on_right = 3\n",
        "missionaries_on_left = 0\n",
        "cannibals_on_left = 0\n",
        "\n",
        "print(\"M = \",missionaries_on_left, \"C =\",cannibals_on_left, \"|-----B|\", \"M = \", missionaries_on_right , \"C = \", cannibals_on_right)\n",
        "\n",
        "while True :\n",
        "\n",
        "  missionaries = int(input(\"Enter the Missionaries:\"))\n",
        "  cannibals = int(input(\"Enter the cannibals:\"))\n",
        "\n",
        "  people = missionaries + cannibals\n",
        "  if people ==1 and people == 2:\n",
        "    print(\"invalid move 1\")\n",
        "    continue\n",
        "\n",
        "  if boat_side == \"right\" :\n",
        "    print(\"right baot is on right side\")\n",
        "  else:\n",
        "    print(\"left side\")\n",
        "\n",
        "  if missionaries >= missionaries_on_right:\n",
        "    print(\"invalid move 2\")\n",
        "  elif cannibals >= cannibals_on_right:\n",
        "    print(\"invalid move 2\")\n",
        "    continue\n",
        "\n",
        "  cannibals_on_right  = cannibals_on_right - cannibals\n",
        "  cannibals_on_left = cannibals_on_left + cannibals\n",
        "  missionaries_on_right = missionaries_on_right - missionaries\n",
        "  missionaries_on_left = missionaries_on_left +missionaries\n",
        "\n",
        "  \"M = \", missionaries_on_left, \"C = \", cannibals_on_left, \"|B-----|\", \"M = \", missionaries_on_right, \"C = \", cannibals_on_right\n",
        "\n",
        "  if boat_side == \"left\" :\n",
        "    print(\"left baot is on left side\")\n",
        "  else:\n",
        "    print(\"right side\")\n",
        "\n",
        "  if missionaries >= missionaries_on_left or cannibals >= cannibals_on_left:\n",
        "    print(\"invalid move 2\")\n",
        "    continue\n",
        "\n",
        "\n",
        "  missionaries_on_left = missionaries_on_left - missionaries\n",
        "  missionaries_on_right = missionaries_on_right + missionaries\n",
        "  cannibals_on_left = cannibals_on_left - cannibals\n",
        "  cannibals_on_right = cannibals_on_right + cannibals\n",
        "\n",
        "  \"M = \", missionaries_on_left , \"C = \", cannibals_on_left, \"|------B|\", \"M = \", missionaries_on_right, \"C = \", cannibals_on_right\n",
        "\n",
        "  if missionaries <= cannibals_on_right and missionaries_on_right >= 0:\n",
        "    print(\"You Lose\")\n",
        "    break\n",
        "  elif missionaries <= cannibals_on_left and missionaries_on_left >= 0:\n",
        "    print(\"You Lose\")\n",
        "    break\n",
        "\n",
        "  if missionaries_on_left== 3 and cannibals_on_left == 3:\n",
        "    print(\"You Win\")\n",
        "    break\n",
        "\n",
        "print(\"Game Over\")\n",
        "\n"
      ],
      "metadata": {
        "id": "xgmyBX-P_w7c"
      },
      "execution_count": null,
      "outputs": []
    },
    {
      "cell_type": "code",
      "source": [
        "1+2*3"
      ],
      "metadata": {
        "colab": {
          "base_uri": "https://localhost:8080/"
        },
        "id": "U_Wkz_vkzgZU",
        "outputId": "390c93a8-1295-41db-e0f4-4fade427a1d7"
      },
      "execution_count": null,
      "outputs": [
        {
          "output_type": "execute_result",
          "data": {
            "text/plain": [
              "7"
            ]
          },
          "metadata": {},
          "execution_count": 2
        }
      ]
    },
    {
      "cell_type": "code",
      "source": [
        "(1+2)*3"
      ],
      "metadata": {
        "colab": {
          "base_uri": "https://localhost:8080/"
        },
        "id": "3BT-uKUmzglP",
        "outputId": "32ef53f4-bdc2-423a-f9af-94c3dfba05d5"
      },
      "execution_count": null,
      "outputs": [
        {
          "output_type": "execute_result",
          "data": {
            "text/plain": [
              "9"
            ]
          },
          "metadata": {},
          "execution_count": 3
        }
      ]
    },
    {
      "cell_type": "code",
      "source": [
        "123456789*456789"
      ],
      "metadata": {
        "colab": {
          "base_uri": "https://localhost:8080/"
        },
        "id": "nDu3wAvizgxO",
        "outputId": "1bc4fa67-c19e-460b-fa07-f72ad53cb72d"
      },
      "execution_count": null,
      "outputs": [
        {
          "output_type": "execute_result",
          "data": {
            "text/plain": [
              "56393703190521"
            ]
          },
          "metadata": {},
          "execution_count": 4
        }
      ]
    },
    {
      "cell_type": "code",
      "source": [
        "10+2*3-4/2"
      ],
      "metadata": {
        "colab": {
          "base_uri": "https://localhost:8080/"
        },
        "id": "QeB0ZuOXzg0x",
        "outputId": "2036b048-75f4-478e-e38c-2ae84004a512"
      },
      "execution_count": null,
      "outputs": [
        {
          "output_type": "execute_result",
          "data": {
            "text/plain": [
              "14.0"
            ]
          },
          "metadata": {},
          "execution_count": 5
        }
      ]
    },
    {
      "cell_type": "markdown",
      "source": [
        "Python"
      ],
      "metadata": {
        "id": "cKtR53w7ziK3"
      }
    },
    {
      "cell_type": "code",
      "source": [
        "(20%3)+(5**2//4)"
      ],
      "metadata": {
        "colab": {
          "base_uri": "https://localhost:8080/"
        },
        "id": "eXW0icsnzdCA",
        "outputId": "7a099e50-cc0d-4f45-a1a8-0d6341ae0c7b"
      },
      "execution_count": null,
      "outputs": [
        {
          "output_type": "execute_result",
          "data": {
            "text/plain": [
              "8"
            ]
          },
          "metadata": {},
          "execution_count": 5
        }
      ]
    },
    {
      "cell_type": "code",
      "source": [
        "((3+5)*2-4)**2/8"
      ],
      "metadata": {
        "colab": {
          "base_uri": "https://localhost:8080/"
        },
        "id": "9MlRcpn61mJK",
        "outputId": "ecdc99e2-d4dc-49d4-8736-752b1eef1ef0"
      },
      "execution_count": null,
      "outputs": [
        {
          "output_type": "execute_result",
          "data": {
            "text/plain": [
              "18.0"
            ]
          },
          "metadata": {},
          "execution_count": 7
        }
      ]
    },
    {
      "cell_type": "code",
      "source": [
        "2+3*4"
      ],
      "metadata": {
        "colab": {
          "base_uri": "https://localhost:8080/"
        },
        "id": "5wa35m6y2Dbt",
        "outputId": "1a741b8a-7f27-498d-cae0-e524408d51db"
      },
      "execution_count": null,
      "outputs": [
        {
          "output_type": "execute_result",
          "data": {
            "text/plain": [
              "14"
            ]
          },
          "metadata": {},
          "execution_count": 8
        }
      ]
    },
    {
      "cell_type": "code",
      "source": [
        "(2+3)*4"
      ],
      "metadata": {
        "colab": {
          "base_uri": "https://localhost:8080/"
        },
        "id": "MhPmoG1h2fbh",
        "outputId": "1c7cbdc1-1a64-4904-b408-e4ef14770dd0"
      },
      "execution_count": null,
      "outputs": [
        {
          "output_type": "execute_result",
          "data": {
            "text/plain": [
              "20"
            ]
          },
          "metadata": {},
          "execution_count": 9
        }
      ]
    },
    {
      "cell_type": "code",
      "source": [
        "10/2+5*2"
      ],
      "metadata": {
        "colab": {
          "base_uri": "https://localhost:8080/"
        },
        "id": "kHZSdjBa2m9k",
        "outputId": "b38aba12-645e-49e5-f0ed-adf1b5c718ce"
      },
      "execution_count": null,
      "outputs": [
        {
          "output_type": "execute_result",
          "data": {
            "text/plain": [
              "15.0"
            ]
          },
          "metadata": {},
          "execution_count": 10
        }
      ]
    },
    {
      "cell_type": "code",
      "source": [
        "(5+10)*3**2"
      ],
      "metadata": {
        "colab": {
          "base_uri": "https://localhost:8080/"
        },
        "id": "zvGmgkrH2we5",
        "outputId": "4ef5621d-fbaf-4710-8249-d20e53839a41"
      },
      "execution_count": null,
      "outputs": [
        {
          "output_type": "execute_result",
          "data": {
            "text/plain": [
              "135"
            ]
          },
          "metadata": {},
          "execution_count": 14
        }
      ]
    },
    {
      "cell_type": "code",
      "source": [
        "(5+10)*3**2"
      ],
      "metadata": {
        "colab": {
          "base_uri": "https://localhost:8080/"
        },
        "id": "SFh_oTsa4Gpo",
        "outputId": "60d4cf39-5672-4cb7-825f-fe66cb84a56e"
      },
      "execution_count": null,
      "outputs": [
        {
          "output_type": "execute_result",
          "data": {
            "text/plain": [
              "135"
            ]
          },
          "metadata": {},
          "execution_count": 13
        }
      ]
    },
    {
      "cell_type": "code",
      "source": [
        "((5+5)*2)-(3**2)"
      ],
      "metadata": {
        "colab": {
          "base_uri": "https://localhost:8080/"
        },
        "id": "4fitQ7KU4Mnx",
        "outputId": "96dd5088-cf50-4f64-d1fa-513c420d92f2"
      },
      "execution_count": null,
      "outputs": [
        {
          "output_type": "execute_result",
          "data": {
            "text/plain": [
              "11"
            ]
          },
          "metadata": {},
          "execution_count": 15
        }
      ]
    },
    {
      "cell_type": "code",
      "source": [
        "(((2+3)*4)**2-(10//3))%7"
      ],
      "metadata": {
        "colab": {
          "base_uri": "https://localhost:8080/"
        },
        "id": "dME1sY014exF",
        "outputId": "eccab6d2-6b15-4841-d0a9-09cfe8cb1033"
      },
      "execution_count": null,
      "outputs": [
        {
          "output_type": "execute_result",
          "data": {
            "text/plain": [
              "5"
            ]
          },
          "metadata": {},
          "execution_count": 16
        }
      ]
    },
    {
      "cell_type": "code",
      "source": [
        "10-4+2"
      ],
      "metadata": {
        "colab": {
          "base_uri": "https://localhost:8080/"
        },
        "id": "JrVXYoyr4x-e",
        "outputId": "1efd91c2-4c24-4761-d03c-fe980f32f036"
      },
      "execution_count": null,
      "outputs": [
        {
          "output_type": "execute_result",
          "data": {
            "text/plain": [
              "8"
            ]
          },
          "metadata": {},
          "execution_count": 17
        }
      ]
    },
    {
      "cell_type": "code",
      "source": [
        "2**3**2"
      ],
      "metadata": {
        "colab": {
          "base_uri": "https://localhost:8080/"
        },
        "id": "Z6nOqVET5ECl",
        "outputId": "0616dd08-78a6-4de8-e424-aac11d684075"
      },
      "execution_count": null,
      "outputs": [
        {
          "output_type": "execute_result",
          "data": {
            "text/plain": [
              "512"
            ]
          },
          "metadata": {},
          "execution_count": 18
        }
      ]
    },
    {
      "cell_type": "code",
      "source": [
        "(4-1)*((7+3)/(3-1))"
      ],
      "metadata": {
        "colab": {
          "base_uri": "https://localhost:8080/"
        },
        "id": "lsNZiPtq5GOV",
        "outputId": "6d410388-3919-4116-a3ab-0c23e0958760"
      },
      "execution_count": null,
      "outputs": [
        {
          "output_type": "execute_result",
          "data": {
            "text/plain": [
              "15.0"
            ]
          },
          "metadata": {},
          "execution_count": 19
        }
      ]
    },
    {
      "cell_type": "code",
      "source": [
        "56 % 7 * - 2"
      ],
      "metadata": {
        "colab": {
          "base_uri": "https://localhost:8080/"
        },
        "id": "RekkAllY5aXC",
        "outputId": "92886671-b411-433c-8a13-81d2105f7209"
      },
      "execution_count": null,
      "outputs": [
        {
          "output_type": "execute_result",
          "data": {
            "text/plain": [
              "0"
            ]
          },
          "metadata": {},
          "execution_count": 24
        }
      ]
    },
    {
      "cell_type": "code",
      "source": [
        "40 + 5 * 2\n",
        "\n",
        "\n",
        "\n",
        "#SyntaxError: invalid syntax"
      ],
      "metadata": {
        "colab": {
          "base_uri": "https://localhost:8080/"
        },
        "id": "8mv-_Rzm51GK",
        "outputId": "116b4134-dc55-44b3-848f-3ab3c1fb4c03"
      },
      "execution_count": null,
      "outputs": [
        {
          "output_type": "execute_result",
          "data": {
            "text/plain": [
              "50"
            ]
          },
          "metadata": {},
          "execution_count": 6
        }
      ]
    },
    {
      "cell_type": "code",
      "source": [
        "'ai'+\" \" + 'adventures'  # Result: 'aiadventures'"
      ],
      "metadata": {
        "colab": {
          "base_uri": "https://localhost:8080/",
          "height": 35
        },
        "id": "_COisala6hPd",
        "outputId": "9a9f9ac9-0f37-454c-de74-2f9a00251201"
      },
      "execution_count": null,
      "outputs": [
        {
          "output_type": "execute_result",
          "data": {
            "text/plain": [
              "'ai adventures'"
            ],
            "application/vnd.google.colaboratory.intrinsic+json": {
              "type": "string"
            }
          },
          "metadata": {},
          "execution_count": 7
        }
      ]
    },
    {
      "cell_type": "code",
      "source": [
        "'harshada'*5"
      ],
      "metadata": {
        "colab": {
          "base_uri": "https://localhost:8080/",
          "height": 35
        },
        "id": "bzU8zulU8qpN",
        "outputId": "1db3cee9-8463-4678-865b-e2609c500f9c"
      },
      "execution_count": null,
      "outputs": [
        {
          "output_type": "execute_result",
          "data": {
            "text/plain": [
              "'harshadaharshadaharshadaharshadaharshada'"
            ],
            "application/vnd.google.colaboratory.intrinsic+json": {
              "type": "string"
            }
          },
          "metadata": {},
          "execution_count": 10
        }
      ]
    },
    {
      "cell_type": "code",
      "source": [
        "10-5"
      ],
      "metadata": {
        "colab": {
          "base_uri": "https://localhost:8080/"
        },
        "id": "TxDZ-vLg89Ol",
        "outputId": "d62948dc-a710-4eec-e78a-4616f6492cc1"
      },
      "execution_count": null,
      "outputs": [
        {
          "output_type": "execute_result",
          "data": {
            "text/plain": [
              "5"
            ]
          },
          "metadata": {},
          "execution_count": 32
        }
      ]
    },
    {
      "cell_type": "code",
      "source": [
        "7*3"
      ],
      "metadata": {
        "colab": {
          "base_uri": "https://localhost:8080/"
        },
        "id": "bvCesg3e9wXj",
        "outputId": "84e437be-5050-42b8-e74d-2df871071c81"
      },
      "execution_count": null,
      "outputs": [
        {
          "output_type": "execute_result",
          "data": {
            "text/plain": [
              "21"
            ]
          },
          "metadata": {},
          "execution_count": 33
        }
      ]
    },
    {
      "cell_type": "code",
      "source": [
        "-8+12"
      ],
      "metadata": {
        "colab": {
          "base_uri": "https://localhost:8080/"
        },
        "id": "EWZYpgIa9xsP",
        "outputId": "bf708592-39c1-4e32-b780-af4e24bf1945"
      },
      "execution_count": null,
      "outputs": [
        {
          "output_type": "execute_result",
          "data": {
            "text/plain": [
              "4"
            ]
          },
          "metadata": {},
          "execution_count": 34
        }
      ]
    },
    {
      "cell_type": "code",
      "source": [
        "33.9*15"
      ],
      "metadata": {
        "colab": {
          "base_uri": "https://localhost:8080/"
        },
        "id": "74i02Em-9-Bh",
        "outputId": "6913459e-4477-4f9c-84d3-2b42a291ed35"
      },
      "execution_count": null,
      "outputs": [
        {
          "output_type": "execute_result",
          "data": {
            "text/plain": [
              "508.5"
            ]
          },
          "metadata": {},
          "execution_count": 35
        }
      ]
    },
    {
      "cell_type": "code",
      "source": [
        "5.5/2"
      ],
      "metadata": {
        "colab": {
          "base_uri": "https://localhost:8080/"
        },
        "id": "mgODJfAO-Cfy",
        "outputId": "7b7a442a-609d-4799-8114-03737d031cad"
      },
      "execution_count": null,
      "outputs": [
        {
          "output_type": "execute_result",
          "data": {
            "text/plain": [
              "2.75"
            ]
          },
          "metadata": {},
          "execution_count": 36
        }
      ]
    },
    {
      "cell_type": "code",
      "source": [
        "-4.2+3.1"
      ],
      "metadata": {
        "colab": {
          "base_uri": "https://localhost:8080/"
        },
        "id": "cwrZ3ASz-GM6",
        "outputId": "23091b0e-ab29-4c63-ae81-b16f6fe9eeda"
      },
      "execution_count": null,
      "outputs": [
        {
          "output_type": "execute_result",
          "data": {
            "text/plain": [
              "-1.1"
            ]
          },
          "metadata": {},
          "execution_count": 37
        }
      ]
    },
    {
      "cell_type": "code",
      "source": [
        "\"hello world\""
      ],
      "metadata": {
        "colab": {
          "base_uri": "https://localhost:8080/",
          "height": 35
        },
        "id": "_yGPkMEK-Ln3",
        "outputId": "720b0a7b-cbab-4831-a92f-33c132a553c5"
      },
      "execution_count": null,
      "outputs": [
        {
          "output_type": "execute_result",
          "data": {
            "text/plain": [
              "'hello world'"
            ],
            "application/vnd.google.colaboratory.intrinsic+json": {
              "type": "string"
            }
          },
          "metadata": {},
          "execution_count": 38
        }
      ]
    },
    {
      "cell_type": "code",
      "source": [
        "\"1\" *5"
      ],
      "metadata": {
        "colab": {
          "base_uri": "https://localhost:8080/",
          "height": 35
        },
        "id": "9EyvDqjB-RqS",
        "outputId": "465ba403-dd72-4723-9cf7-60062050132b"
      },
      "execution_count": null,
      "outputs": [
        {
          "output_type": "execute_result",
          "data": {
            "text/plain": [
              "'11111'"
            ],
            "application/vnd.google.colaboratory.intrinsic+json": {
              "type": "string"
            }
          },
          "metadata": {},
          "execution_count": 39
        }
      ]
    },
    {
      "cell_type": "code",
      "source": [
        "\"ai\" + \"adventures\""
      ],
      "metadata": {
        "colab": {
          "base_uri": "https://localhost:8080/",
          "height": 35
        },
        "id": "vHHxusPW-Vif",
        "outputId": "a3d067d0-96a3-4cb4-d875-eb8226b789c8"
      },
      "execution_count": null,
      "outputs": [
        {
          "output_type": "execute_result",
          "data": {
            "text/plain": [
              "'aiadventures'"
            ],
            "application/vnd.google.colaboratory.intrinsic+json": {
              "type": "string"
            }
          },
          "metadata": {},
          "execution_count": 40
        }
      ]
    },
    {
      "cell_type": "code",
      "source": [
        "\"ai \" + \"adventures\""
      ],
      "metadata": {
        "colab": {
          "base_uri": "https://localhost:8080/",
          "height": 35
        },
        "id": "SvXs4YNJ-xtF",
        "outputId": "93e1f8fb-e91c-427e-a673-8eb87dedb01e"
      },
      "execution_count": null,
      "outputs": [
        {
          "output_type": "execute_result",
          "data": {
            "text/plain": [
              "'ai adventures'"
            ],
            "application/vnd.google.colaboratory.intrinsic+json": {
              "type": "string"
            }
          },
          "metadata": {},
          "execution_count": 41
        }
      ]
    },
    {
      "cell_type": "code",
      "source": [
        "  \"ai \" * 5"
      ],
      "metadata": {
        "colab": {
          "base_uri": "https://localhost:8080/",
          "height": 35
        },
        "id": "SeDcKLr2-9wM",
        "outputId": "5ed3a4ad-4a80-45ce-b2f7-4b1e51bfc4df"
      },
      "execution_count": null,
      "outputs": [
        {
          "output_type": "execute_result",
          "data": {
            "text/plain": [
              "'ai ai ai ai ai '"
            ],
            "application/vnd.google.colaboratory.intrinsic+json": {
              "type": "string"
            }
          },
          "metadata": {},
          "execution_count": 44
        }
      ]
    },
    {
      "cell_type": "code",
      "source": [
        "a = 26\n",
        "print(a)"
      ],
      "metadata": {
        "colab": {
          "base_uri": "https://localhost:8080/"
        },
        "id": "uQpHRStZ_D0n",
        "outputId": "c5cf296a-ea69-48a6-9375-fe69d41c753b"
      },
      "execution_count": null,
      "outputs": [
        {
          "output_type": "stream",
          "name": "stdout",
          "text": [
            "26\n"
          ]
        }
      ]
    },
    {
      "cell_type": "code",
      "source": [
        "print(a+5)\n"
      ],
      "metadata": {
        "colab": {
          "base_uri": "https://localhost:8080/"
        },
        "id": "21Qc_v-_BIsR",
        "outputId": "e24d74a2-03ee-40e9-e57d-cda7b93fd057"
      },
      "execution_count": null,
      "outputs": [
        {
          "output_type": "stream",
          "name": "stdout",
          "text": [
            "31\n"
          ]
        }
      ]
    },
    {
      "cell_type": "code",
      "source": [
        "c = a+5\n",
        "print(c)"
      ],
      "metadata": {
        "colab": {
          "base_uri": "https://localhost:8080/"
        },
        "id": "06eqb_6JBOwg",
        "outputId": "26ad7bb8-1a9d-4d8c-b2d9-9aadd5dbb37c"
      },
      "execution_count": null,
      "outputs": [
        {
          "output_type": "stream",
          "name": "stdout",
          "text": [
            "31\n"
          ]
        }
      ]
    },
    {
      "cell_type": "code",
      "source": [
        "apples = 9\n",
        "balls = 2\n",
        "\n",
        "print((int(apples + balls)) ** 2)  # Result: 121\n",
        "print(apples // balls)        # Result: 4"
      ],
      "metadata": {
        "colab": {
          "base_uri": "https://localhost:8080/"
        },
        "id": "Wsm7R-nVBVyD",
        "outputId": "6fe9f630-dd93-41e6-fabd-1cbdc5d177f4"
      },
      "execution_count": null,
      "outputs": [
        {
          "output_type": "stream",
          "name": "stdout",
          "text": [
            "121\n",
            "4\n"
          ]
        }
      ]
    },
    {
      "cell_type": "code",
      "source": [
        "apples = input(\"enter the number of aaples\")\n",
        "print(apples)"
      ],
      "metadata": {
        "colab": {
          "base_uri": "https://localhost:8080/"
        },
        "id": "l-tqSItSBsFr",
        "outputId": "208b4ade-8956-40a5-bede-c0366037d594"
      },
      "execution_count": null,
      "outputs": [
        {
          "output_type": "stream",
          "name": "stdout",
          "text": [
            "enter the number of aaples10\n",
            "10\n"
          ]
        }
      ]
    },
    {
      "cell_type": "code",
      "source": [
        "var = 10\n",
        "print(var)"
      ],
      "metadata": {
        "colab": {
          "base_uri": "https://localhost:8080/"
        },
        "id": "yhSM7MwgCZBd",
        "outputId": "ccc0d14a-9987-4884-ddf5-3afb78131017"
      },
      "execution_count": null,
      "outputs": [
        {
          "output_type": "stream",
          "name": "stdout",
          "text": [
            "10\n"
          ]
        }
      ]
    },
    {
      "cell_type": "code",
      "source": [
        "print(var*2)"
      ],
      "metadata": {
        "colab": {
          "base_uri": "https://localhost:8080/"
        },
        "id": "UpPIuQAXC1cq",
        "outputId": "362ebf8d-4b71-4af2-a7dc-04a31e247605"
      },
      "execution_count": null,
      "outputs": [
        {
          "output_type": "stream",
          "name": "stdout",
          "text": [
            "20\n"
          ]
        }
      ]
    },
    {
      "cell_type": "code",
      "source": [
        "cars = 12\n",
        "bikes = 25\n",
        "(cars+bikes)"
      ],
      "metadata": {
        "colab": {
          "base_uri": "https://localhost:8080/"
        },
        "id": "15ukMbfaC7EH",
        "outputId": "763888d7-eadf-48c0-db3c-1d15186790a2"
      },
      "execution_count": null,
      "outputs": [
        {
          "output_type": "execute_result",
          "data": {
            "text/plain": [
              "37"
            ]
          },
          "metadata": {},
          "execution_count": 59
        }
      ]
    },
    {
      "cell_type": "code",
      "source": [
        "(cars-bikes)*2"
      ],
      "metadata": {
        "colab": {
          "base_uri": "https://localhost:8080/"
        },
        "id": "S726AIuQDN9G",
        "outputId": "a20f4938-633f-4c29-f9cd-655e6be481c8"
      },
      "execution_count": null,
      "outputs": [
        {
          "output_type": "execute_result",
          "data": {
            "text/plain": [
              "-26"
            ]
          },
          "metadata": {},
          "execution_count": 61
        }
      ]
    },
    {
      "cell_type": "code",
      "source": [
        "print(\"hello world\")\n",
        "print"
      ],
      "metadata": {
        "colab": {
          "base_uri": "https://localhost:8080/"
        },
        "id": "zmJExWxKDUhn",
        "outputId": "0d2f8228-bfd6-437b-90cd-3b6c780da42e"
      },
      "execution_count": null,
      "outputs": [
        {
          "output_type": "stream",
          "name": "stdout",
          "text": [
            "hello world\n"
          ]
        },
        {
          "output_type": "execute_result",
          "data": {
            "text/plain": [
              "<function print(*args, sep=' ', end='\\n', file=None, flush=False)>"
            ]
          },
          "metadata": {},
          "execution_count": 62
        }
      ]
    },
    {
      "cell_type": "code",
      "source": [
        "a=input(\"enter a value\")"
      ],
      "metadata": {
        "colab": {
          "base_uri": "https://localhost:8080/"
        },
        "id": "akvyIhwhEMkY",
        "outputId": "3041763e-49e5-48e3-d8f8-8315aaab5fa9"
      },
      "execution_count": null,
      "outputs": [
        {
          "name": "stdout",
          "output_type": "stream",
          "text": [
            "enter a value10\n"
          ]
        }
      ]
    },
    {
      "cell_type": "code",
      "source": [
        "print(a)"
      ],
      "metadata": {
        "colab": {
          "base_uri": "https://localhost:8080/"
        },
        "id": "iCmsoaibEUrq",
        "outputId": "e7719874-0f34-4668-f778-c2cbe6ee76d7"
      },
      "execution_count": null,
      "outputs": [
        {
          "output_type": "stream",
          "name": "stdout",
          "text": [
            "10\n"
          ]
        }
      ]
    },
    {
      "cell_type": "code",
      "source": [
        "myname = input(\"what is your name?\")\n",
        "print('It is good to meet you,' +\" \"+ myname)\n"
      ],
      "metadata": {
        "colab": {
          "base_uri": "https://localhost:8080/"
        },
        "id": "V8zGbxo-Ec_Y",
        "outputId": "b768805c-344e-4e00-eba6-6f830275f473"
      },
      "execution_count": null,
      "outputs": [
        {
          "output_type": "stream",
          "name": "stdout",
          "text": [
            "what is your name?harshada\n",
            "It is good to meet you, harshada\n"
          ]
        }
      ]
    },
    {
      "cell_type": "code",
      "source": [
        "var = 43\n",
        "var = 49\n",
        "print(var)"
      ],
      "metadata": {
        "colab": {
          "base_uri": "https://localhost:8080/"
        },
        "id": "hwSM-T5DFENV",
        "outputId": "98bf153f-c02c-4d54-fe22-8478e276ff28"
      },
      "execution_count": null,
      "outputs": [
        {
          "output_type": "stream",
          "name": "stdout",
          "text": [
            "49\n"
          ]
        }
      ]
    },
    {
      "cell_type": "code",
      "source": [
        "string = \" harshda\"\n",
        "string =\" ai \"\n",
        "print(string)"
      ],
      "metadata": {
        "colab": {
          "base_uri": "https://localhost:8080/"
        },
        "id": "lMZluuLvF2vT",
        "outputId": "3e81021a-d9e1-49ae-ab43-3b13b784de7c"
      },
      "execution_count": null,
      "outputs": [
        {
          "output_type": "stream",
          "name": "stdout",
          "text": [
            " ai \n"
          ]
        }
      ]
    },
    {
      "cell_type": "code",
      "source": [
        "myName = 'Harshada'\n",
        "print('The length of your name is:')\n",
        "print(len(myName))  # where myName is a variable containing a string\n",
        "\n",
        "# Additional Examples:\n",
        "print(len('hello'))        # Returns 5\n",
        "len('I am happy.')  # Returns 11\n",
        "len('')             # Returns 0"
      ],
      "metadata": {
        "colab": {
          "base_uri": "https://localhost:8080/"
        },
        "id": "l-vLHCrcGDj4",
        "outputId": "0019b3e0-14d3-4556-ab98-65b7aca0b6c2"
      },
      "execution_count": null,
      "outputs": [
        {
          "output_type": "stream",
          "name": "stdout",
          "text": [
            "The length of your name is:\n",
            "8\n",
            "5\n"
          ]
        },
        {
          "output_type": "execute_result",
          "data": {
            "text/plain": [
              "0"
            ]
          },
          "metadata": {},
          "execution_count": 74
        }
      ]
    },
    {
      "cell_type": "code",
      "source": [
        "# This program says hello and asks for my name.\n",
        "print('Hello world!')\n",
        "print('What is your name?')    # ask for their name\n",
        "myName = input()  # stores the input from the user in 'myName'\n",
        "print('It is good to meet you, ' + myName)\n",
        "print('The length of your name is:')\n",
        "print(len(myName))  # displays the length of the name entered by the user\n",
        "print('What is your age?')    # ask for their age\n",
        "myAge = input()  # stores the input from the user in 'myAge'\n",
        "print('You will be ' + str(int(myAge) + 1) + ' in a year.')  # calculates the user's age next year"
      ],
      "metadata": {
        "colab": {
          "base_uri": "https://localhost:8080/"
        },
        "id": "ikm-hqQ5G5Is",
        "outputId": "a67387b5-67f9-4f60-c5d1-bc6c20d52b4b"
      },
      "execution_count": null,
      "outputs": [
        {
          "output_type": "stream",
          "name": "stdout",
          "text": [
            "Hello world!\n",
            "What is your name?\n",
            "harshada\n",
            "It is good to meet you, harshada\n",
            "The length of your name is:\n",
            "8\n",
            "What is your age?\n",
            "26\n",
            "You will be 27 in a year.\n"
          ]
        }
      ]
    },
    {
      "cell_type": "code",
      "source": [
        "print('I am ' + str(24) + ' years old.')"
      ],
      "metadata": {
        "colab": {
          "base_uri": "https://localhost:8080/"
        },
        "id": "R45L64HoHtGB",
        "outputId": "645c90eb-585a-4197-c3c9-19f42b97f578"
      },
      "execution_count": null,
      "outputs": [
        {
          "output_type": "stream",
          "name": "stdout",
          "text": [
            "I am 24 years old.\n"
          ]
        }
      ]
    },
    {
      "cell_type": "code",
      "source": [
        "print(\"The length of your name is:\")"
      ],
      "metadata": {
        "colab": {
          "base_uri": "https://localhost:8080/"
        },
        "id": "aej2XOGNHtDl",
        "outputId": "dd5cf695-f7d6-4545-b0fc-94d1ae252301"
      },
      "execution_count": null,
      "outputs": [
        {
          "output_type": "stream",
          "name": "stdout",
          "text": [
            "The length of your name is:\n"
          ]
        }
      ]
    },
    {
      "cell_type": "code",
      "source": [
        "myname = \"Harshada\"\n",
        "print(\"The length of your name is:\" )\n",
        "print(len(myname))"
      ],
      "metadata": {
        "colab": {
          "base_uri": "https://localhost:8080/"
        },
        "id": "b6PiQk4iHtBY",
        "outputId": "7ff32b96-8bea-4a16-985b-3c45e8b4defb"
      },
      "execution_count": null,
      "outputs": [
        {
          "output_type": "stream",
          "name": "stdout",
          "text": [
            "The length of your name is:\n",
            "8\n"
          ]
        }
      ]
    },
    {
      "cell_type": "code",
      "source": [
        "print(len(\"harshada\"))"
      ],
      "metadata": {
        "colab": {
          "base_uri": "https://localhost:8080/"
        },
        "id": "_ktcTu0cHs_U",
        "outputId": "3c814052-e813-4c77-a88e-b2aec4a84364"
      },
      "execution_count": null,
      "outputs": [
        {
          "output_type": "stream",
          "name": "stdout",
          "text": [
            "8\n"
          ]
        }
      ]
    },
    {
      "cell_type": "code",
      "source": [
        "print(\"hello world\")\n",
        "print(\"what is your name?\")\n",
        "myname = input()\n",
        "print(\"It is good to meet you,\" +myname)\n",
        "print(\"The length of your name is:\")\n",
        "print(len(myname))\n",
        "print(\"what is your age?\")\n",
        "myage = input()\n",
        "print(\"you will be \" + str(int(myage)+1)  + ' in a year.')"
      ],
      "metadata": {
        "colab": {
          "base_uri": "https://localhost:8080/"
        },
        "id": "eng5Zo67Hs9F",
        "outputId": "ed68b52c-0287-494b-982b-6ba62a5a4798"
      },
      "execution_count": null,
      "outputs": [
        {
          "output_type": "stream",
          "name": "stdout",
          "text": [
            "hello world\n",
            "what is your name?\n",
            "Harshada\n",
            "It is good to meet you,Harshada\n",
            "The length of your name is:\n",
            "8\n",
            "what is your age?\n",
            "25\n",
            "you will be 26 in a year.\n"
          ]
        }
      ]
    },
    {
      "cell_type": "code",
      "source": [
        "print(\"i am \" + str(24) + \" years old\")"
      ],
      "metadata": {
        "colab": {
          "base_uri": "https://localhost:8080/"
        },
        "id": "jdIl8L6fHs6q",
        "outputId": "af4e5d4e-cdef-40f3-c343-bfe71ac3dae9"
      },
      "execution_count": null,
      "outputs": [
        {
          "output_type": "stream",
          "name": "stdout",
          "text": [
            "i am 24 years old\n"
          ]
        }
      ]
    },
    {
      "cell_type": "code",
      "source": [
        "a= 101\n",
        "converted = int(a)\n",
        "print(a)"
      ],
      "metadata": {
        "colab": {
          "base_uri": "https://localhost:8080/"
        },
        "id": "9wK9gl1uHs4B",
        "outputId": "dd8b5479-0efa-4ecc-bce3-98a55dbc399a"
      },
      "execution_count": null,
      "outputs": [
        {
          "output_type": "stream",
          "name": "stdout",
          "text": [
            "101\n"
          ]
        }
      ]
    },
    {
      "cell_type": "code",
      "source": [
        "8-(3*2)-(1+1)"
      ],
      "metadata": {
        "colab": {
          "base_uri": "https://localhost:8080/"
        },
        "id": "5qn136C3LhK1",
        "outputId": "5f23ded3-b773-4aec-9717-0fa827599609"
      },
      "execution_count": null,
      "outputs": [
        {
          "output_type": "execute_result",
          "data": {
            "text/plain": [
              "0"
            ]
          },
          "metadata": {},
          "execution_count": 94
        }
      ]
    },
    {
      "cell_type": "code",
      "source": [
        "1500*9.5*20"
      ],
      "metadata": {
        "colab": {
          "base_uri": "https://localhost:8080/"
        },
        "id": "EPfTKDFvMIzU",
        "outputId": "6368dddb-d77f-4790-b174-0d0507b006cf"
      },
      "execution_count": null,
      "outputs": [
        {
          "output_type": "execute_result",
          "data": {
            "text/plain": [
              "285000.0"
            ]
          },
          "metadata": {},
          "execution_count": 95
        }
      ]
    },
    {
      "cell_type": "code",
      "source": [
        "P=1500\n",
        "R=9.5\n",
        "T=20\n",
        "SI=P*R*T\n",
        "print(SI)\n"
      ],
      "metadata": {
        "colab": {
          "base_uri": "https://localhost:8080/"
        },
        "id": "J-Opzo-aMb2Z",
        "outputId": "cc3ba5ba-dba2-4ce1-d449-75e5e1480056"
      },
      "execution_count": null,
      "outputs": [
        {
          "output_type": "stream",
          "name": "stdout",
          "text": [
            "285000.0\n"
          ]
        }
      ]
    },
    {
      "cell_type": "code",
      "source": [
        "i=1\n",
        "i+=1\n",
        "i"
      ],
      "metadata": {
        "colab": {
          "base_uri": "https://localhost:8080/"
        },
        "id": "zb2tI_OC3Bsn",
        "outputId": "86d0fd89-268f-4665-b492-9c9338340e8d"
      },
      "execution_count": 8,
      "outputs": [
        {
          "output_type": "execute_result",
          "data": {
            "text/plain": [
              "2"
            ]
          },
          "metadata": {},
          "execution_count": 8
        }
      ]
    },
    {
      "cell_type": "code",
      "source": [
        "i = \"i love python!\"\n",
        "\n",
        "print(i)"
      ],
      "metadata": {
        "colab": {
          "base_uri": "https://localhost:8080/"
        },
        "id": "GT-OSJ0QFtOB",
        "outputId": "b6ead815-fd07-45aa-e256-ced8db08d418"
      },
      "execution_count": null,
      "outputs": [
        {
          "output_type": "stream",
          "name": "stdout",
          "text": [
            "i love python!\n"
          ]
        }
      ]
    },
    {
      "cell_type": "code",
      "source": [
        "P=1500\n",
        "r=0.043\n",
        "n=4\n",
        "t=6\n",
        "CI = P*(1+r/n)**n*t\n",
        "print(CI)"
      ],
      "metadata": {
        "colab": {
          "base_uri": "https://localhost:8080/"
        },
        "id": "sZ6sVF4IM-kR",
        "outputId": "e92db313-c88d-418f-a776-8e3c598aee1a"
      },
      "execution_count": null,
      "outputs": [
        {
          "output_type": "stream",
          "name": "stdout",
          "text": [
            "9393.285217879726\n"
          ]
        }
      ]
    },
    {
      "cell_type": "code",
      "source": [
        "c=253\n",
        "F=(c*9/5)+32\n",
        "print(F)"
      ],
      "metadata": {
        "colab": {
          "base_uri": "https://localhost:8080/"
        },
        "id": "kjb7ErcCNUtD",
        "outputId": "7660a74d-0a24-4d13-e3b2-24c75d7ed293"
      },
      "execution_count": null,
      "outputs": [
        {
          "output_type": "stream",
          "name": "stdout",
          "text": [
            "487.4\n"
          ]
        }
      ]
    },
    {
      "cell_type": "code",
      "source": [
        "a=input()\n",
        "b=input()\n",
        "print(a +\" \" + b)"
      ],
      "metadata": {
        "colab": {
          "base_uri": "https://localhost:8080/"
        },
        "id": "o3q6VlJnNwPS",
        "outputId": "2e831a93-69b5-4101-d381-310ed814ed71"
      },
      "execution_count": null,
      "outputs": [
        {
          "output_type": "stream",
          "name": "stdout",
          "text": [
            "harshada\n",
            "wakchaure\n",
            "harshada wakchaure\n"
          ]
        }
      ]
    },
    {
      "cell_type": "code",
      "source": [
        "a= \"Jan\"\n",
        "b= 1999\n",
        "c= (a +\" \" +str(int(b)))\n",
        "print(c)\n",
        "print(\"The length of \" , len(c))\n"
      ],
      "metadata": {
        "colab": {
          "base_uri": "https://localhost:8080/"
        },
        "id": "Usr445NNOK9Q",
        "outputId": "4c604868-c65b-4377-9420-98c172ccffab"
      },
      "execution_count": null,
      "outputs": [
        {
          "output_type": "stream",
          "name": "stdout",
          "text": [
            "Jan 1999\n",
            "The length of  8\n"
          ]
        }
      ]
    },
    {
      "cell_type": "code",
      "source": [
        "team = \"mi\"\n",
        "num = 4\n",
        "print(team * num)"
      ],
      "metadata": {
        "colab": {
          "base_uri": "https://localhost:8080/"
        },
        "id": "Op_laoQwO7Yd",
        "outputId": "7d9ca7e5-d59a-4af9-af9f-c918aeba0958"
      },
      "execution_count": null,
      "outputs": [
        {
          "output_type": "stream",
          "name": "stdout",
          "text": [
            "mimimimi\n"
          ]
        }
      ]
    },
    {
      "cell_type": "code",
      "source": [
        "height = int(input(\"Enter the height : \"))\n",
        "weight = int(input(\"Enter the weight : \"))\n",
        "age = int(input(\"Enter the age : \"))\n",
        "num = int(input(\"Enter the num : \"))\n",
        "a= height /num\n",
        "b= weight // num\n",
        "c= age ** num\n",
        "print(a+b+c)\n"
      ],
      "metadata": {
        "colab": {
          "base_uri": "https://localhost:8080/"
        },
        "id": "ZyrEv4-bRPGx",
        "outputId": "3f591f5c-a339-47ea-f636-dcbba8c122f3"
      },
      "execution_count": null,
      "outputs": [
        {
          "output_type": "stream",
          "name": "stdout",
          "text": [
            "Enter the height : 5\n",
            "Enter the weight : 48\n",
            "Enter the age : 26\n",
            "Enter the num : 2\n",
            "702.5\n"
          ]
        }
      ]
    },
    {
      "cell_type": "code",
      "source": [
        "print(\"Welcome \" + \" to \" + \" AIAdventures!\")"
      ],
      "metadata": {
        "colab": {
          "base_uri": "https://localhost:8080/"
        },
        "id": "lB27IqF0S7am",
        "outputId": "a58f1c5f-9d8a-4766-98f5-43b7b7829f87"
      },
      "execution_count": null,
      "outputs": [
        {
          "output_type": "stream",
          "name": "stdout",
          "text": [
            "Welcome  to  AIAdventures!\n"
          ]
        }
      ]
    },
    {
      "cell_type": "code",
      "source": [
        "print(\"python\" + \" is powerful!\")"
      ],
      "metadata": {
        "colab": {
          "base_uri": "https://localhost:8080/"
        },
        "id": "C4n6ERffYrRN",
        "outputId": "8a818fe9-b9c2-46bf-d768-ec566854ab3a"
      },
      "execution_count": null,
      "outputs": [
        {
          "output_type": "stream",
          "name": "stdout",
          "text": [
            "python is powerful!\n"
          ]
        }
      ]
    },
    {
      "cell_type": "code",
      "source": [
        "string = \"hello\" + \"!\" *3\n",
        "print(string)"
      ],
      "metadata": {
        "colab": {
          "base_uri": "https://localhost:8080/"
        },
        "id": "NoBtjGcTZVvX",
        "outputId": "d39adda2-515a-49db-b12f-71048613407e"
      },
      "execution_count": null,
      "outputs": [
        {
          "output_type": "stream",
          "name": "stdout",
          "text": [
            "hello!!!\n"
          ]
        }
      ]
    },
    {
      "cell_type": "code",
      "source": [
        "print(\"Welcome \" + \"to \"+ \" channel!\")"
      ],
      "metadata": {
        "colab": {
          "base_uri": "https://localhost:8080/"
        },
        "id": "XKcJBJn_acoX",
        "outputId": "12978e3a-f44d-47fc-8c42-3729061ccb7e"
      },
      "execution_count": null,
      "outputs": [
        {
          "output_type": "stream",
          "name": "stdout",
          "text": [
            "Welcome to  channel!\n"
          ]
        }
      ]
    },
    {
      "cell_type": "code",
      "source": [
        "x=2\n",
        "y=3\n",
        "z=x+y*2\n",
        "print(z)"
      ],
      "metadata": {
        "colab": {
          "base_uri": "https://localhost:8080/"
        },
        "id": "eCN2yjGybeQX",
        "outputId": "b58f8f28-2fb6-4ad4-d087-4e0ff9a2aaa8"
      },
      "execution_count": null,
      "outputs": [
        {
          "output_type": "stream",
          "name": "stdout",
          "text": [
            "8\n"
          ]
        }
      ]
    },
    {
      "cell_type": "code",
      "source": [
        "a=4\n",
        "print(a)"
      ],
      "metadata": {
        "colab": {
          "base_uri": "https://localhost:8080/"
        },
        "id": "UPxp0LTCcH3m",
        "outputId": "20e5b371-ef3a-4ec0-f4ce-6657833b499e"
      },
      "execution_count": null,
      "outputs": [
        {
          "output_type": "stream",
          "name": "stdout",
          "text": [
            "4\n"
          ]
        }
      ]
    },
    {
      "cell_type": "code",
      "source": [
        "c=a+b\n",
        "a=6\n",
        "b=5\n",
        "print(c)"
      ],
      "metadata": {
        "colab": {
          "base_uri": "https://localhost:8080/"
        },
        "id": "Qo7Ddw3EcsKu",
        "outputId": "f0503581-bbb3-497e-eb7d-8486013fee0e"
      },
      "execution_count": null,
      "outputs": [
        {
          "output_type": "stream",
          "name": "stdout",
          "text": [
            "11\n"
          ]
        }
      ]
    },
    {
      "cell_type": "code",
      "source": [
        "\n",
        "a=2\n",
        "b=3\n",
        "d=a+b\n",
        "print(d)"
      ],
      "metadata": {
        "colab": {
          "base_uri": "https://localhost:8080/"
        },
        "id": "ix8yLIW9c9Ig",
        "outputId": "31275514-c55e-4674-e768-6668124bed2f"
      },
      "execution_count": null,
      "outputs": [
        {
          "output_type": "stream",
          "name": "stdout",
          "text": [
            "5\n"
          ]
        }
      ]
    },
    {
      "cell_type": "code",
      "source": [
        "\n",
        "s=6\n",
        "h=4\n",
        "p=s+h\n",
        "print(p)"
      ],
      "metadata": {
        "colab": {
          "base_uri": "https://localhost:8080/"
        },
        "id": "KaBYSi2NdS9T",
        "outputId": "4a816c7a-4ef2-45e6-e8c1-a3288274c39f"
      },
      "execution_count": null,
      "outputs": [
        {
          "output_type": "stream",
          "name": "stdout",
          "text": [
            "10\n"
          ]
        }
      ]
    },
    {
      "cell_type": "code",
      "source": [
        "str = \"I love Python!\"\n",
        "print(str)"
      ],
      "metadata": {
        "colab": {
          "base_uri": "https://localhost:8080/"
        },
        "id": "q9GLJN22dozE",
        "outputId": "4b0413be-1f6c-4367-9d53-208a2bff3385"
      },
      "execution_count": null,
      "outputs": [
        {
          "output_type": "stream",
          "name": "stdout",
          "text": [
            "I love Python!\n"
          ]
        }
      ]
    },
    {
      "cell_type": "code",
      "source": [
        "result_true = 5 + True\n",
        "print(result_true)"
      ],
      "metadata": {
        "id": "cVRkyd3Id2qm",
        "colab": {
          "base_uri": "https://localhost:8080/"
        },
        "outputId": "b7bd0bef-83bf-41b5-811e-452796d152f1"
      },
      "execution_count": null,
      "outputs": [
        {
          "output_type": "stream",
          "name": "stdout",
          "text": [
            "6\n"
          ]
        }
      ]
    },
    {
      "cell_type": "code",
      "source": [
        "a=3\n",
        "b=5\n",
        "c=a/b\n",
        "print(c)"
      ],
      "metadata": {
        "colab": {
          "base_uri": "https://localhost:8080/"
        },
        "id": "yNFzivVQyWnr",
        "outputId": "f0d9df28-f184-47b3-fc08-2050bd9be262"
      },
      "execution_count": null,
      "outputs": [
        {
          "output_type": "stream",
          "name": "stdout",
          "text": [
            "0.6\n"
          ]
        }
      ]
    },
    {
      "cell_type": "code",
      "source": [
        "p=6\n",
        "q=0\n",
        "v=p/q\n",
        "print(v)"
      ],
      "metadata": {
        "colab": {
          "base_uri": "https://localhost:8080/",
          "height": 193
        },
        "id": "ht2eSRnP0HoM",
        "outputId": "fe25fdf2-8380-4765-dd2f-7f09ffc9126c"
      },
      "execution_count": null,
      "outputs": [
        {
          "output_type": "error",
          "ename": "ZeroDivisionError",
          "evalue": "division by zero",
          "traceback": [
            "\u001b[0;31m---------------------------------------------------------------------------\u001b[0m",
            "\u001b[0;31mZeroDivisionError\u001b[0m                         Traceback (most recent call last)",
            "\u001b[0;32m/tmp/ipython-input-3608035996.py\u001b[0m in \u001b[0;36m<cell line: 0>\u001b[0;34m()\u001b[0m\n\u001b[1;32m      1\u001b[0m \u001b[0mp\u001b[0m\u001b[0;34m=\u001b[0m\u001b[0;36m6\u001b[0m\u001b[0;34m\u001b[0m\u001b[0;34m\u001b[0m\u001b[0m\n\u001b[1;32m      2\u001b[0m \u001b[0mq\u001b[0m\u001b[0;34m=\u001b[0m\u001b[0;36m0\u001b[0m\u001b[0;34m\u001b[0m\u001b[0;34m\u001b[0m\u001b[0m\n\u001b[0;32m----> 3\u001b[0;31m \u001b[0mv\u001b[0m\u001b[0;34m=\u001b[0m\u001b[0mp\u001b[0m\u001b[0;34m/\u001b[0m\u001b[0mq\u001b[0m\u001b[0;34m\u001b[0m\u001b[0;34m\u001b[0m\u001b[0m\n\u001b[0m\u001b[1;32m      4\u001b[0m \u001b[0mprint\u001b[0m\u001b[0;34m(\u001b[0m\u001b[0mv\u001b[0m\u001b[0;34m)\u001b[0m\u001b[0;34m\u001b[0m\u001b[0;34m\u001b[0m\u001b[0m\n",
            "\u001b[0;31mZeroDivisionError\u001b[0m: division by zero"
          ]
        }
      ]
    },
    {
      "cell_type": "code",
      "source": [
        "True and True"
      ],
      "metadata": {
        "colab": {
          "base_uri": "https://localhost:8080/"
        },
        "id": "utlh-ACl0Reg",
        "outputId": "fd77e64f-ccf8-42c7-b818-62a1f5a93dc9"
      },
      "execution_count": null,
      "outputs": [
        {
          "output_type": "execute_result",
          "data": {
            "text/plain": [
              "True"
            ]
          },
          "metadata": {},
          "execution_count": 13
        }
      ]
    },
    {
      "cell_type": "code",
      "source": [
        "(1>2) and (55>54)"
      ],
      "metadata": {
        "colab": {
          "base_uri": "https://localhost:8080/"
        },
        "id": "fqf41ngqER5z",
        "outputId": "34c49c48-7e24-4fe0-9892-fa8280d03ab7"
      },
      "execution_count": null,
      "outputs": [
        {
          "output_type": "execute_result",
          "data": {
            "text/plain": [
              "False"
            ]
          },
          "metadata": {},
          "execution_count": 14
        }
      ]
    },
    {
      "cell_type": "code",
      "source": [
        "(55/2) and True\n"
      ],
      "metadata": {
        "colab": {
          "base_uri": "https://localhost:8080/"
        },
        "id": "KUc1CFPUEcZL",
        "outputId": "ab86b2f5-1940-4256-e0fa-7e45de70fc2e"
      },
      "execution_count": 2,
      "outputs": [
        {
          "output_type": "execute_result",
          "data": {
            "text/plain": [
              "True"
            ]
          },
          "metadata": {},
          "execution_count": 2
        }
      ]
    },
    {
      "cell_type": "code",
      "source": [
        "not (10>5)"
      ],
      "metadata": {
        "colab": {
          "base_uri": "https://localhost:8080/"
        },
        "id": "Jt2HclChEel-",
        "outputId": "a5d6581d-0a1a-41a5-d901-9e708e65d76e"
      },
      "execution_count": null,
      "outputs": [
        {
          "output_type": "execute_result",
          "data": {
            "text/plain": [
              "False"
            ]
          },
          "metadata": {},
          "execution_count": 20
        }
      ]
    },
    {
      "cell_type": "code",
      "source": [
        "networth=int(input(\"Enter the net worth of Mark Zuckerberg\"))\n",
        "if networth == 54500000000:\n",
        "   print(\"That's 54.5 billion!\")\n",
        "elif networth < 54500000000:\n",
        "    print(\"That's not much!\")\n",
        "elif networth > 54500000000:\n",
        "    print(\"I'll make more when I graduate\")"
      ],
      "metadata": {
        "colab": {
          "base_uri": "https://localhost:8080/"
        },
        "id": "yHCbRHVFE0T1",
        "outputId": "03c82e5c-b14c-45c5-ea2e-c15cb7aae1e7"
      },
      "execution_count": null,
      "outputs": [
        {
          "output_type": "stream",
          "name": "stdout",
          "text": [
            "Enter the net worth of Mark Zuckerberg545000000\n",
            "That's not much!\n"
          ]
        }
      ]
    },
    {
      "cell_type": "code",
      "source": [
        "100+100*0.15"
      ],
      "metadata": {
        "colab": {
          "base_uri": "https://localhost:8080/"
        },
        "id": "P7ODF4YHGmss",
        "outputId": "988e0f7c-324b-4fd6-ec57-ec08539e45c6"
      },
      "execution_count": null,
      "outputs": [
        {
          "output_type": "execute_result",
          "data": {
            "text/plain": [
              "115.0"
            ]
          },
          "metadata": {},
          "execution_count": 29
        }
      ]
    },
    {
      "cell_type": "code",
      "source": [
        "cost = int(input(\"Enter the cost price:\"))\n",
        "if cost >= 100000:\n",
        "  print(\"Total price of the bike including the tax:\" , cost+cost*0.15)\n",
        "elif cost> 50000 and cost<= 100000:\n",
        "  print(\"Total price of the bike including the tax:\" , cost+cost*0.10)\n",
        "elif cost <= 50000:\n",
        "  print(\"Total price of the bike including the tax:\" , cost+cost*0.5)"
      ],
      "metadata": {
        "colab": {
          "base_uri": "https://localhost:8080/"
        },
        "id": "SAlMV2qUH7Gd",
        "outputId": "424866a8-e0e4-4f73-fd57-4f50a0eced5e"
      },
      "execution_count": null,
      "outputs": [
        {
          "output_type": "stream",
          "name": "stdout",
          "text": [
            "Enter the cost price:70000\n",
            "Total price of the bike including the tax: 77000.0\n"
          ]
        }
      ]
    },
    {
      "cell_type": "code",
      "source": [
        "a=int(input(\"Enter the number of classes held:\"))\n",
        "b=int(input(\"Enter the number of classes attendece\"))\n",
        "per = (a/b)*100\n",
        "if per >=75:\n",
        "  print(\"Allowed to sit for the exams.\")\n",
        "else:\n",
        "  print(\"Not allowed.\")\n"
      ],
      "metadata": {
        "colab": {
          "base_uri": "https://localhost:8080/"
        },
        "id": "Lp7k-n3-Lbeh",
        "outputId": "fc3bc904-4b9f-42c6-b372-26b3503c06a7"
      },
      "execution_count": null,
      "outputs": [
        {
          "output_type": "stream",
          "name": "stdout",
          "text": [
            "Enter the number of classes held:75\n",
            "Enter the number of classes attendece50\n",
            "Allowed to sit for the exams.\n"
          ]
        }
      ]
    },
    {
      "cell_type": "code",
      "source": [
        "age=int(input(\"Enter your age:\"))\n",
        "gender=input(\"Enter your Gender:\")\n",
        "\n",
        "if (age >= 18 and age < 30) and gender == 'M' :\n",
        "  print(\"The wages of a worker is 700\")\n",
        "elif (age >= 18 and age < 30) and gender == 'F':\n",
        "    print(\"The wages of a worker is 750\")\n",
        "elif (age >= 30 and age <= 40)  and gender == 'M':\n",
        "    print(\"The wages of a worker is 800\")\n",
        "elif (age >= 30 and age <= 40) and gender == 'F':\n",
        "    print(\"The wages of a worker is 850\")\n",
        "\n"
      ],
      "metadata": {
        "colab": {
          "base_uri": "https://localhost:8080/"
        },
        "id": "8WMHOPi5Nqry",
        "outputId": "4eceafa9-f3f1-4f1f-fbd1-76b5e0c61779"
      },
      "execution_count": null,
      "outputs": [
        {
          "output_type": "stream",
          "name": "stdout",
          "text": [
            "Enter your age:40\n",
            "Enter your Gender:M\n",
            "The wages of a worker is 800\n"
          ]
        }
      ]
    },
    {
      "cell_type": "code",
      "source": [
        "is_leap_yr = int(input(\"Enter the year:\"))\n",
        "if (is_leap_yr / 4 == 0 and is_leap_yr / 100 != 0) or (is_leap_yr / 400 == 0):\n",
        "  print(\"this is leap year:\", is_leap_yr)\n",
        "else:\n",
        "  print(\"this is not leap year\")"
      ],
      "metadata": {
        "colab": {
          "base_uri": "https://localhost:8080/"
        },
        "id": "R9oaW312PZzG",
        "outputId": "9114c089-2377-4fca-cdfa-136acf38b1c9"
      },
      "execution_count": null,
      "outputs": [
        {
          "output_type": "stream",
          "name": "stdout",
          "text": [
            "Enter the year:2016\n",
            "this is not leap year\n"
          ]
        }
      ]
    },
    {
      "cell_type": "code",
      "source": [
        "days= int(input(\"Enter the days:\"))\n",
        "\n",
        "if days <= 5:\n",
        "  print(\"the cost of days are:\", days*2)\n",
        "elif days >=6 and days <=10:\n",
        "  print(\"the cost of days are:\", days*3)\n",
        "elif days >=11 and days <=15:\n",
        "  print(\"the cost of days are:\", days*4)\n",
        "elif days >=15:\n",
        "  print(\"the cost of days are\", days*5)"
      ],
      "metadata": {
        "colab": {
          "base_uri": "https://localhost:8080/"
        },
        "id": "Gn9T-le3UFxI",
        "outputId": "ec47c1ed-a770-4ec3-a556-c654d1e61bb1"
      },
      "execution_count": null,
      "outputs": [
        {
          "output_type": "stream",
          "name": "stdout",
          "text": [
            "Enter the days:18\n",
            "the cost of days are 90\n"
          ]
        }
      ]
    },
    {
      "cell_type": "code",
      "source": [
        "units=int(input(\"enter the units\"))\n",
        "if units >=0 and units <=100:\n",
        "\n",
        " print(\"free\")\n",
        "elif units >=101 and units <=300:\n",
        "  print(\"electric units\" ,(units-100)*2)\n",
        "elif units >=301:\n",
        "  print(\"electric units\", ((200)*2)+(units-300)*5)\n"
      ],
      "metadata": {
        "colab": {
          "base_uri": "https://localhost:8080/"
        },
        "id": "gZNa3I1oWZwB",
        "outputId": "eb1102fb-d21b-40ca-aa58-25724ff31de4"
      },
      "execution_count": null,
      "outputs": [
        {
          "output_type": "stream",
          "name": "stdout",
          "text": [
            "enter the units500\n",
            "electric units 1400\n"
          ]
        }
      ]
    },
    {
      "cell_type": "code",
      "source": [
        "z=7\n",
        "if z>5:\n",
        "  print('greater than 5')\n",
        "  if z==7:\n",
        "    print(\"equal to 7\")"
      ],
      "metadata": {
        "colab": {
          "base_uri": "https://localhost:8080/"
        },
        "id": "ZkhfJxEXZ1jM",
        "outputId": "44d77a1a-046e-43a3-d6b7-cac1474f74ea"
      },
      "execution_count": null,
      "outputs": [
        {
          "output_type": "stream",
          "name": "stdout",
          "text": [
            "greater than 5\n",
            "equal to 7\n"
          ]
        }
      ]
    },
    {
      "cell_type": "code",
      "source": [
        "a=8\n",
        "b=3\n",
        "if a/2 == 0 and b/2 !=0:\n",
        "  print(\"cond 1\")\n",
        "elif a/2 != 0 and b/2==0:\n",
        "  print(\"cond 2\")\n",
        "else:\n",
        "  print(\"cond 3\")"
      ],
      "metadata": {
        "colab": {
          "base_uri": "https://localhost:8080/"
        },
        "id": "_gVMLnelidF4",
        "outputId": "f60f2455-f4ba-4fde-fe9a-330f26ec90b5"
      },
      "execution_count": null,
      "outputs": [
        {
          "output_type": "stream",
          "name": "stdout",
          "text": [
            "cond 3\n"
          ]
        }
      ]
    },
    {
      "cell_type": "code",
      "source": [
        "y=10\n",
        "if y%2 == 0:\n",
        "  print(\"even\")\n",
        "elif y%3 == 0:\n",
        "  print(\"divisible by 3\")\n",
        "else:\n",
        "  print(\"neither\")"
      ],
      "metadata": {
        "colab": {
          "base_uri": "https://localhost:8080/"
        },
        "id": "6a3Gj0VPiTP0",
        "outputId": "6406911e-20a0-47c6-cd58-5f6dff80ac47"
      },
      "execution_count": null,
      "outputs": [
        {
          "output_type": "stream",
          "name": "stdout",
          "text": [
            "even\n"
          ]
        }
      ]
    },
    {
      "cell_type": "code",
      "source": [
        "grade = 85\n",
        "if grade >= 90:\n",
        "  letter_grade = \"A\"\n",
        "if grade >= 80:\n",
        "  letter_grade = \"B\"\n",
        "if grade >=70:\n",
        "  letter_grade = \"C\"\n",
        "else:\n",
        "  letter_grade = \"F\"\n",
        "print(letter_grade)\n"
      ],
      "metadata": {
        "colab": {
          "base_uri": "https://localhost:8080/"
        },
        "id": "tbAtuy4Uje4z",
        "outputId": "8ff1dce8-3d3d-48ec-a654-cbdfdc7c30b3"
      },
      "execution_count": null,
      "outputs": [
        {
          "output_type": "stream",
          "name": "stdout",
          "text": [
            "C\n"
          ]
        }
      ]
    },
    {
      "cell_type": "code",
      "source": [
        "num = 12\n",
        "if num >10:\n",
        "    result = \"greater than 10\"\n",
        "else:\n",
        "     result = \"less than or equal to 10\"\n",
        "print(result)"
      ],
      "metadata": {
        "colab": {
          "base_uri": "https://localhost:8080/"
        },
        "id": "XdGclxmwkPWh",
        "outputId": "26f4f164-bc9c-4459-cf76-c8e4a5349771"
      },
      "execution_count": null,
      "outputs": [
        {
          "output_type": "stream",
          "name": "stdout",
          "text": [
            "greater than 10\n"
          ]
        }
      ]
    },
    {
      "cell_type": "code",
      "source": [
        "i = 0\n",
        "if i <= 5:\n",
        "  print(i)"
      ],
      "metadata": {
        "colab": {
          "base_uri": "https://localhost:8080/"
        },
        "id": "LZhxUQ436ClY",
        "outputId": "849d3dd9-95e0-43d3-dc00-1a0be4664ada"
      },
      "execution_count": null,
      "outputs": [
        {
          "output_type": "stream",
          "name": "stdout",
          "text": [
            "0\n"
          ]
        }
      ]
    },
    {
      "cell_type": "code",
      "source": [
        "True and True"
      ],
      "metadata": {
        "colab": {
          "base_uri": "https://localhost:8080/"
        },
        "id": "pHHT9JCT60XH",
        "outputId": "2d27029b-8e35-451c-cd6b-d64006dfc1a4"
      },
      "execution_count": null,
      "outputs": [
        {
          "output_type": "execute_result",
          "data": {
            "text/plain": [
              "True"
            ]
          },
          "metadata": {},
          "execution_count": 6
        }
      ]
    },
    {
      "cell_type": "code",
      "source": [
        "networth = int (input(\"Enter the networth of Mark Zuckerberg \"))\n",
        "if networth == 54500000000:\n",
        "  print(\"thats 54.5 billion\")\n",
        "elif networth <= 54500000000:\n",
        "  print(\"thats not much\")"
      ],
      "metadata": {
        "colab": {
          "base_uri": "https://localhost:8080/"
        },
        "id": "GlHqVaWk8iei",
        "outputId": "8deeb129-b978-4df6-d9d5-2b3f26145117"
      },
      "execution_count": null,
      "outputs": [
        {
          "output_type": "stream",
          "name": "stdout",
          "text": [
            "Enter the networth of Mark Zuckerberg 5450000000\n",
            "thats not much\n"
          ]
        }
      ]
    },
    {
      "cell_type": "code",
      "source": [
        "classesheld = int(input(\"enter a classes held \"))"
      ],
      "metadata": {
        "id": "nihxMUHM9NHN"
      },
      "execution_count": null,
      "outputs": []
    },
    {
      "cell_type": "code",
      "source": [
        "2024/400"
      ],
      "metadata": {
        "colab": {
          "base_uri": "https://localhost:8080/"
        },
        "id": "g_86H8o08gUc",
        "outputId": "05bb84a2-f510-4455-8dbe-d3bebc102380"
      },
      "execution_count": null,
      "outputs": [
        {
          "output_type": "execute_result",
          "data": {
            "text/plain": [
              "5.06"
            ]
          },
          "metadata": {},
          "execution_count": 10
        }
      ]
    },
    {
      "cell_type": "code",
      "source": [
        "2024/4"
      ],
      "metadata": {
        "colab": {
          "base_uri": "https://localhost:8080/"
        },
        "id": "4BFOLd_4_v1U",
        "outputId": "b1dd4b41-8cef-4523-c569-88bc041b91cd"
      },
      "execution_count": null,
      "outputs": [
        {
          "output_type": "execute_result",
          "data": {
            "text/plain": [
              "506.0"
            ]
          },
          "metadata": {},
          "execution_count": 11
        }
      ]
    },
    {
      "cell_type": "code",
      "source": [
        "units = int(input(\"enter the electric units\"))\n",
        "if units >=0 and units <= 100:\n",
        "  print(\"free\")\n",
        "elif unit >= 101 and units <= 300:\n",
        "  print(\"electric units:\", (units -100)*2)\n",
        "elif units >= 201 and"
      ],
      "metadata": {
        "id": "rNSejHJR_xzi"
      },
      "execution_count": null,
      "outputs": []
    },
    {
      "cell_type": "code",
      "source": [],
      "metadata": {
        "id": "eIkVdvx0C8Nq"
      },
      "execution_count": null,
      "outputs": []
    },
    {
      "cell_type": "markdown",
      "source": [
        "loops"
      ],
      "metadata": {
        "id": "Epm3cNOUGCJe"
      }
    },
    {
      "cell_type": "code",
      "source": [
        "i = 0\n",
        "if i <= 5:\n",
        "  print(i)\n",
        "  i = i +1"
      ],
      "metadata": {
        "id": "YCFdczuBC8ak",
        "colab": {
          "base_uri": "https://localhost:8080/"
        },
        "outputId": "01602ada-ce1b-4ca6-be90-e84734fedafe"
      },
      "execution_count": null,
      "outputs": [
        {
          "output_type": "stream",
          "name": "stdout",
          "text": [
            "0\n"
          ]
        }
      ]
    },
    {
      "cell_type": "code",
      "source": [
        "i = 0\n",
        "while i <= 5:\n",
        "  print (i)\n",
        "  i = i +1"
      ],
      "metadata": {
        "id": "aW0WwN2zC8cp",
        "colab": {
          "base_uri": "https://localhost:8080/"
        },
        "outputId": "1357969d-c00f-4120-acc3-43f7d85e2ca6"
      },
      "execution_count": null,
      "outputs": [
        {
          "output_type": "stream",
          "name": "stdout",
          "text": [
            "0\n",
            "1\n",
            "2\n",
            "3\n",
            "4\n",
            "5\n"
          ]
        }
      ]
    },
    {
      "cell_type": "code",
      "source": [
        "n= 1\n",
        "while n<5:\n",
        "  print(n)\n",
        "  n += 1"
      ],
      "metadata": {
        "id": "cAbIVRW-C8gD",
        "colab": {
          "base_uri": "https://localhost:8080/"
        },
        "outputId": "cd3f7287-2094-4b63-f783-95d1f358e190"
      },
      "execution_count": null,
      "outputs": [
        {
          "output_type": "stream",
          "name": "stdout",
          "text": [
            "1\n",
            "2\n",
            "3\n",
            "4\n"
          ]
        }
      ]
    },
    {
      "cell_type": "code",
      "source": [
        "i = 2\n",
        "while i <= 10:\n",
        "  print(i)\n",
        "  i +=2"
      ],
      "metadata": {
        "colab": {
          "base_uri": "https://localhost:8080/"
        },
        "id": "bOOHyIuGHAjk",
        "outputId": "5c4b5325-de63-45e5-d9be-55bdeaab2e2e"
      },
      "execution_count": null,
      "outputs": [
        {
          "output_type": "stream",
          "name": "stdout",
          "text": [
            "2\n",
            "4\n",
            "6\n",
            "8\n",
            "10\n"
          ]
        }
      ]
    },
    {
      "cell_type": "code",
      "source": [
        "num = 98765\n",
        "count = 0\n",
        "\n",
        "while num > 0:\n",
        "  count += 1\n",
        "  num = num // 10\n",
        "  print(num)\n",
        "\n",
        "  print (\"number of digits:\" , count)"
      ],
      "metadata": {
        "colab": {
          "base_uri": "https://localhost:8080/"
        },
        "id": "YtZ9uToRH0FQ",
        "outputId": "5a0d0377-e1b9-4092-8f1d-e1cbb8ec4676"
      },
      "execution_count": null,
      "outputs": [
        {
          "output_type": "stream",
          "name": "stdout",
          "text": [
            "9876\n",
            "number of digits: 1\n",
            "987\n",
            "number of digits: 2\n",
            "98\n",
            "number of digits: 3\n",
            "9\n",
            "number of digits: 4\n",
            "0\n",
            "number of digits: 5\n"
          ]
        }
      ]
    },
    {
      "cell_type": "code",
      "source": [
        "num = int(input (\"enter the number\"))\n",
        "i = 2\n",
        "is_prime = True\n",
        "while i < num :\n",
        "  if num % i == 0:\n",
        "    is_prime = False\n",
        "    break\n",
        "  i += 1\n",
        "if is_prime and num > 1:\n",
        "  print(num, \"is a prime number\")\n",
        "else:\n",
        "  print(num, \"is not a prime number\")\n"
      ],
      "metadata": {
        "colab": {
          "base_uri": "https://localhost:8080/"
        },
        "id": "p-VdYT16IDwK",
        "outputId": "79d4e572-c55f-437c-d7d2-6d96131ff88f"
      },
      "execution_count": null,
      "outputs": [
        {
          "output_type": "stream",
          "name": "stdout",
          "text": [
            "enter the number25\n",
            "25 is not a prime number\n"
          ]
        }
      ]
    },
    {
      "cell_type": "code",
      "source": [
        "x = 10\n",
        "while x <= 20:\n",
        "  if x % 5== 0:\n",
        "    print(x)\n",
        "  x += 1"
      ],
      "metadata": {
        "colab": {
          "base_uri": "https://localhost:8080/"
        },
        "id": "fk8qmmSJJZFk",
        "outputId": "0fc609cb-ad5a-48a1-8346-bc37a269d1eb"
      },
      "execution_count": null,
      "outputs": [
        {
          "output_type": "stream",
          "name": "stdout",
          "text": [
            "10\n",
            "15\n",
            "20\n"
          ]
        }
      ]
    },
    {
      "cell_type": "code",
      "source": [
        "x= 10\n",
        "while x <= 20:\n",
        "  if x % 2 ==0:\n",
        "   print(x)\n",
        "  x += 1"
      ],
      "metadata": {
        "id": "R_gdBqelKs_D",
        "colab": {
          "base_uri": "https://localhost:8080/"
        },
        "outputId": "716368e5-3133-4fb6-955a-fca0d36953e5"
      },
      "execution_count": null,
      "outputs": [
        {
          "output_type": "stream",
          "name": "stdout",
          "text": [
            "10\n",
            "12\n",
            "14\n",
            "16\n",
            "18\n",
            "20\n"
          ]
        }
      ]
    },
    {
      "cell_type": "code",
      "source": [
        "word = \"hello\"\n",
        "for char in word:\n",
        "  print(char)"
      ],
      "metadata": {
        "id": "1kUFzzePMsZu",
        "colab": {
          "base_uri": "https://localhost:8080/"
        },
        "outputId": "c0e30770-8bae-4f06-aed4-1098eda4c247"
      },
      "execution_count": null,
      "outputs": [
        {
          "output_type": "stream",
          "name": "stdout",
          "text": [
            "h\n",
            "e\n",
            "l\n",
            "l\n",
            "o\n"
          ]
        }
      ]
    },
    {
      "cell_type": "code",
      "source": [
        "for letter in \"012345\":\n",
        "  print(letter)"
      ],
      "metadata": {
        "colab": {
          "base_uri": "https://localhost:8080/"
        },
        "id": "I068rvaGQebU",
        "outputId": "c4744684-e494-48da-9131-b6a77541302b"
      },
      "execution_count": null,
      "outputs": [
        {
          "output_type": "stream",
          "name": "stdout",
          "text": [
            "0\n",
            "1\n",
            "2\n",
            "3\n",
            "4\n",
            "5\n"
          ]
        }
      ]
    },
    {
      "cell_type": "code",
      "source": [
        "range(6)"
      ],
      "metadata": {
        "colab": {
          "base_uri": "https://localhost:8080/"
        },
        "id": "ad25vhlUQnrL",
        "outputId": "cdcf0d32-ab2d-4580-bfe0-081497154cf9"
      },
      "execution_count": null,
      "outputs": [
        {
          "output_type": "execute_result",
          "data": {
            "text/plain": [
              "range(0, 6)"
            ]
          },
          "metadata": {},
          "execution_count": 70
        }
      ]
    },
    {
      "cell_type": "code",
      "source": [
        "range(2,12,2)"
      ],
      "metadata": {
        "colab": {
          "base_uri": "https://localhost:8080/"
        },
        "id": "NKtl-hDoQvUV",
        "outputId": "c30387dc-b471-4765-bbb4-36d32de841de"
      },
      "execution_count": null,
      "outputs": [
        {
          "output_type": "execute_result",
          "data": {
            "text/plain": [
              "range(2, 12, 2)"
            ]
          },
          "metadata": {},
          "execution_count": 1
        }
      ]
    },
    {
      "cell_type": "code",
      "source": [
        "range(1, 6)"
      ],
      "metadata": {
        "colab": {
          "base_uri": "https://localhost:8080/"
        },
        "id": "Pgp-Hl03RLko",
        "outputId": "2fe7f730-abc8-4b96-dedb-46e7e921c38a"
      },
      "execution_count": null,
      "outputs": [
        {
          "output_type": "execute_result",
          "data": {
            "text/plain": [
              "range(1, 6)"
            ]
          },
          "metadata": {},
          "execution_count": 73
        }
      ]
    },
    {
      "cell_type": "code",
      "source": [
        "for i in range(1,6):\n",
        "      print(i)"
      ],
      "metadata": {
        "colab": {
          "base_uri": "https://localhost:8080/"
        },
        "id": "x3x8GOkMRYM6",
        "outputId": "9fb6a27b-4aef-4c7b-ae3c-30fbc305fc1d"
      },
      "execution_count": null,
      "outputs": [
        {
          "output_type": "stream",
          "name": "stdout",
          "text": [
            "1\n",
            "2\n",
            "3\n",
            "4\n",
            "5\n"
          ]
        }
      ]
    },
    {
      "cell_type": "code",
      "source": [
        "for x in range(10, 21):\n",
        "  if x % 5 == 0:\n",
        "    print(x)"
      ],
      "metadata": {
        "colab": {
          "base_uri": "https://localhost:8080/"
        },
        "id": "rohiRaQpRfzz",
        "outputId": "8dffb991-bc07-4f24-a0da-2928bf621f3f"
      },
      "execution_count": null,
      "outputs": [
        {
          "output_type": "stream",
          "name": "stdout",
          "text": [
            "10\n",
            "15\n",
            "20\n"
          ]
        }
      ]
    },
    {
      "cell_type": "code",
      "source": [
        "for i in range(1,10):\n",
        "  if i == 5:\n",
        "    break\n",
        "  print(i)"
      ],
      "metadata": {
        "colab": {
          "base_uri": "https://localhost:8080/"
        },
        "id": "uKpT9qTXRyWF",
        "outputId": "42ff1f06-c8ee-482d-81f1-7190f7982664"
      },
      "execution_count": null,
      "outputs": [
        {
          "output_type": "stream",
          "name": "stdout",
          "text": [
            "1\n",
            "2\n",
            "3\n",
            "4\n"
          ]
        }
      ]
    },
    {
      "cell_type": "code",
      "source": [
        "for i in range(1,10):\n",
        "  if i == 5:\n",
        "    continue\n",
        "  print(i)"
      ],
      "metadata": {
        "colab": {
          "base_uri": "https://localhost:8080/"
        },
        "id": "qPmencqeU-iU",
        "outputId": "29ee6591-b179-4d22-fa24-6479d2e82a4d"
      },
      "execution_count": null,
      "outputs": [
        {
          "output_type": "stream",
          "name": "stdout",
          "text": [
            "1\n",
            "2\n",
            "3\n",
            "4\n",
            "6\n",
            "7\n",
            "8\n",
            "9\n"
          ]
        }
      ]
    },
    {
      "cell_type": "code",
      "source": [
        "print(\"using end='&':\")\n",
        "for i in range(1,4):\n",
        "  print(i, end='&')"
      ],
      "metadata": {
        "colab": {
          "base_uri": "https://localhost:8080/"
        },
        "id": "PU0OXHOpVR0e",
        "outputId": "ed394531-d873-4953-81ff-125f49ece83d"
      },
      "execution_count": null,
      "outputs": [
        {
          "output_type": "stream",
          "name": "stdout",
          "text": [
            "using end='&':\n",
            "1&2&3&"
          ]
        }
      ]
    },
    {
      "cell_type": "code",
      "source": [
        "a = [\"harshada\",\"aiadventures\",\"prajakta\"]\n",
        "for i in a:\n",
        "  for j in i:\n",
        "    print(j)"
      ],
      "metadata": {
        "colab": {
          "base_uri": "https://localhost:8080/"
        },
        "id": "jXsjO7__VoYZ",
        "outputId": "2b5599d9-eb58-40f4-eff4-3fb9fad914bb"
      },
      "execution_count": null,
      "outputs": [
        {
          "output_type": "stream",
          "name": "stdout",
          "text": [
            "h\n",
            "a\n",
            "r\n",
            "s\n",
            "h\n",
            "a\n",
            "d\n",
            "a\n",
            "a\n",
            "i\n",
            "a\n",
            "d\n",
            "v\n",
            "e\n",
            "n\n",
            "t\n",
            "u\n",
            "r\n",
            "e\n",
            "s\n",
            "p\n",
            "r\n",
            "a\n",
            "j\n",
            "a\n",
            "k\n",
            "t\n",
            "a\n"
          ]
        }
      ]
    },
    {
      "cell_type": "code",
      "source": [
        "for i in range(3):\n",
        "  for j in range(3):\n",
        "    print(i,j)"
      ],
      "metadata": {
        "colab": {
          "base_uri": "https://localhost:8080/"
        },
        "id": "VBZxAwbOXD7E",
        "outputId": "37bd75e0-d722-456c-dc42-d9e7024b0d4f"
      },
      "execution_count": null,
      "outputs": [
        {
          "output_type": "stream",
          "name": "stdout",
          "text": [
            "0 0\n",
            "0 1\n",
            "0 2\n",
            "1 0\n",
            "1 1\n",
            "1 2\n",
            "2 0\n",
            "2 1\n",
            "2 2\n"
          ]
        }
      ]
    },
    {
      "cell_type": "code",
      "source": [
        "c= [\"english\", \"hindi\", \"marathi\"]\n",
        "for i in c:\n",
        "  for j in i:\n",
        "    print(j)"
      ],
      "metadata": {
        "colab": {
          "base_uri": "https://localhost:8080/"
        },
        "id": "g-AA8SxtXzA4",
        "outputId": "55a2b17a-ec61-48d5-c2ba-6c770ea8eeeb"
      },
      "execution_count": null,
      "outputs": [
        {
          "output_type": "stream",
          "name": "stdout",
          "text": [
            "e\n",
            "n\n",
            "g\n",
            "l\n",
            "i\n",
            "s\n",
            "h\n",
            "h\n",
            "i\n",
            "n\n",
            "d\n",
            "i\n",
            "m\n",
            "a\n",
            "r\n",
            "a\n",
            "t\n",
            "h\n",
            "i\n"
          ]
        }
      ]
    },
    {
      "cell_type": "code",
      "source": [
        "d=[\"123\", '2', '3', '4']\n",
        "for i in d:\n",
        "  for j in i:\n",
        "   print(j)"
      ],
      "metadata": {
        "colab": {
          "base_uri": "https://localhost:8080/"
        },
        "id": "pTGN687XYNjR",
        "outputId": "73430f84-31b2-427a-da15-c2ac38de9532"
      },
      "execution_count": null,
      "outputs": [
        {
          "output_type": "stream",
          "name": "stdout",
          "text": [
            "1\n",
            "2\n",
            "3\n",
            "2\n",
            "3\n",
            "4\n"
          ]
        }
      ]
    },
    {
      "cell_type": "code",
      "source": [
        "range(1, 6)"
      ],
      "metadata": {
        "colab": {
          "base_uri": "https://localhost:8080/"
        },
        "id": "Q1RO_bGqYfY3",
        "outputId": "67a0e37a-3842-407a-bf9a-1d225fadc8b2"
      },
      "execution_count": null,
      "outputs": [
        {
          "output_type": "execute_result",
          "data": {
            "text/plain": [
              "range(1, 6)"
            ]
          },
          "metadata": {},
          "execution_count": 107
        }
      ]
    },
    {
      "cell_type": "code",
      "source": [
        "x = 20\n",
        "while x >= 0:\n",
        "  if x % 2 == 0 :\n",
        "    print(x)\n",
        "  x -= 1"
      ],
      "metadata": {
        "colab": {
          "base_uri": "https://localhost:8080/"
        },
        "id": "cdOKw0ZabI7-",
        "outputId": "7aab5484-267b-4cbb-dd60-7b24c71f168d"
      },
      "execution_count": null,
      "outputs": [
        {
          "output_type": "stream",
          "name": "stdout",
          "text": [
            "20\n",
            "18\n",
            "16\n",
            "14\n",
            "12\n",
            "10\n",
            "8\n",
            "6\n",
            "4\n",
            "2\n",
            "0\n"
          ]
        }
      ]
    },
    {
      "cell_type": "code",
      "source": [
        "\n",
        "for i in range(20, -1, -2):\n",
        "  print(i)\n",
        ""
      ],
      "metadata": {
        "colab": {
          "base_uri": "https://localhost:8080/"
        },
        "id": "3sxxR4CdiLs5",
        "outputId": "bc816573-f870-4cc7-dd4b-b9dc8ed2d575"
      },
      "execution_count": 21,
      "outputs": [
        {
          "output_type": "stream",
          "name": "stdout",
          "text": [
            "20\n",
            "18\n",
            "16\n",
            "14\n",
            "12\n",
            "10\n",
            "8\n",
            "6\n",
            "4\n",
            "2\n",
            "0\n"
          ]
        }
      ]
    },
    {
      "cell_type": "code",
      "source": [
        "i=20\n",
        "while i <= 40:\n",
        "  print(i, end= \"-\")\n",
        "  i+=5"
      ],
      "metadata": {
        "colab": {
          "base_uri": "https://localhost:8080/"
        },
        "id": "5tlnUA25cFUD",
        "outputId": "e149786f-0e72-4cfa-d2b0-f02aeea421e0"
      },
      "execution_count": null,
      "outputs": [
        {
          "output_type": "stream",
          "name": "stdout",
          "text": [
            "20-25-30-35-40-"
          ]
        }
      ]
    },
    {
      "cell_type": "code",
      "source": [
        "i = 20\n",
        "while i <= 40:\n",
        "  if i % 5==0:\n",
        "    print(i, end= \"-\")\n",
        "  i+=1"
      ],
      "metadata": {
        "colab": {
          "base_uri": "https://localhost:8080/"
        },
        "id": "X9KWLzE5hcwc",
        "outputId": "dbc38e43-81af-494a-dbde-99cc75f3afee"
      },
      "execution_count": null,
      "outputs": [
        {
          "output_type": "stream",
          "name": "stdout",
          "text": [
            "20-25-30-35-40-"
          ]
        }
      ]
    },
    {
      "cell_type": "code",
      "source": [
        "for i in range(20,41,5):\n",
        "  print(i, end= \"-\")"
      ],
      "metadata": {
        "colab": {
          "base_uri": "https://localhost:8080/"
        },
        "id": "1VoD30nFeYhl",
        "outputId": "a56fec7a-8e9f-42fa-e730-85e7a943259b"
      },
      "execution_count": 22,
      "outputs": [
        {
          "output_type": "stream",
          "name": "stdout",
          "text": [
            "20-25-30-35-40-"
          ]
        }
      ]
    },
    {
      "cell_type": "code",
      "source": [
        "for i in range(1, 6):\n",
        " print(i**3)\n"
      ],
      "metadata": {
        "colab": {
          "base_uri": "https://localhost:8080/"
        },
        "id": "_g6283XfdA07",
        "outputId": "5168826c-2df2-442c-cfa7-6526b85acb19"
      },
      "execution_count": null,
      "outputs": [
        {
          "output_type": "stream",
          "name": "stdout",
          "text": [
            "1\n",
            "8\n",
            "27\n",
            "64\n",
            "125\n"
          ]
        }
      ]
    },
    {
      "cell_type": "code",
      "source": [
        "i =1\n",
        "while i <= 5:\n",
        "  j = i**3\n",
        "  print(j)\n",
        "  i+=1\n",
        "\n"
      ],
      "metadata": {
        "id": "AapbshmGftYg",
        "colab": {
          "base_uri": "https://localhost:8080/"
        },
        "outputId": "5a9c393e-b805-4ae4-9b25-c5a240bd5d67"
      },
      "execution_count": null,
      "outputs": [
        {
          "output_type": "stream",
          "name": "stdout",
          "text": [
            "1\n",
            "8\n",
            "27\n",
            "64\n",
            "125\n"
          ]
        }
      ]
    },
    {
      "cell_type": "code",
      "source": [
        "fact =1\n",
        "for i in range(1,6):\n",
        "  fact = fact * i\n",
        "fact"
      ],
      "metadata": {
        "id": "Q3VsssEmgaGr",
        "colab": {
          "base_uri": "https://localhost:8080/"
        },
        "outputId": "239add53-afd7-4696-af18-84dfd822f059"
      },
      "execution_count": 26,
      "outputs": [
        {
          "output_type": "execute_result",
          "data": {
            "text/plain": [
              "120"
            ]
          },
          "metadata": {},
          "execution_count": 26
        }
      ]
    },
    {
      "cell_type": "code",
      "source": [
        "x = 1\n",
        "fact = 1\n",
        "while x <= 5:\n",
        "  fact = fact * x\n",
        "  print(fact)\n",
        "  x+=1"
      ],
      "metadata": {
        "colab": {
          "base_uri": "https://localhost:8080/"
        },
        "id": "iKf4cAELly5s",
        "outputId": "f9f9ee31-9724-40de-cc89-ee7dd70ac41b"
      },
      "execution_count": 37,
      "outputs": [
        {
          "output_type": "stream",
          "name": "stdout",
          "text": [
            "1\n",
            "2\n",
            "6\n",
            "24\n",
            "120\n"
          ]
        }
      ]
    },
    {
      "cell_type": "code",
      "source": [
        "a = ''\n",
        "all_sum =0\n",
        "while a != 0:\n",
        "  a= int(input())\n",
        "  all_sum += a\n",
        "all_sum"
      ],
      "metadata": {
        "colab": {
          "base_uri": "https://localhost:8080/"
        },
        "id": "pca3d7HDj2ro",
        "outputId": "2aed2581-5298-49fc-9fa0-747d5b525006"
      },
      "execution_count": null,
      "outputs": [
        {
          "name": "stdout",
          "output_type": "stream",
          "text": [
            "6\n",
            "67\n",
            "0\n"
          ]
        },
        {
          "output_type": "execute_result",
          "data": {
            "text/plain": [
              "73"
            ]
          },
          "metadata": {},
          "execution_count": 61
        }
      ]
    },
    {
      "cell_type": "code",
      "source": [
        "a =  ' '\n",
        "sum = 0\n",
        "while a != 0:\n",
        "  a = int(input())\n",
        "  sum +=a\n",
        "sum"
      ],
      "metadata": {
        "colab": {
          "base_uri": "https://localhost:8080/"
        },
        "id": "sunSCS4bncA_",
        "outputId": "8ae75014-b555-414a-b9a3-3f7ecb51679c"
      },
      "execution_count": 44,
      "outputs": [
        {
          "name": "stdout",
          "output_type": "stream",
          "text": [
            "5\n",
            "6\n",
            "2\n",
            "1\n",
            "0\n"
          ]
        },
        {
          "output_type": "execute_result",
          "data": {
            "text/plain": [
              "14"
            ]
          },
          "metadata": {},
          "execution_count": 44
        }
      ]
    },
    {
      "cell_type": "code",
      "source": [
        "a = (\" \")\n",
        "sum=0\n",
        "while a!= 0:\n",
        "  a=int(input())\n",
        "  sum += a\n",
        "sum"
      ],
      "metadata": {
        "colab": {
          "base_uri": "https://localhost:8080/"
        },
        "id": "a7jlcrnemXaV",
        "outputId": "46f457a6-0b9e-4aca-a771-6663e2e921d4"
      },
      "execution_count": null,
      "outputs": [
        {
          "name": "stdout",
          "output_type": "stream",
          "text": [
            "5\n",
            "5\n",
            "0\n"
          ]
        },
        {
          "output_type": "execute_result",
          "data": {
            "text/plain": [
              "10"
            ]
          },
          "metadata": {},
          "execution_count": 64
        }
      ]
    },
    {
      "cell_type": "code",
      "source": [
        "n=int(input())\n",
        "for i in range(1,n):\n",
        "   print( '2'*i, end= \",\")\n",
        "\n",
        "\n"
      ],
      "metadata": {
        "colab": {
          "base_uri": "https://localhost:8080/"
        },
        "id": "5v-k9D_ZpEbL",
        "outputId": "76091f83-64e1-470e-f20f-ea37c8a216c1"
      },
      "execution_count": null,
      "outputs": [
        {
          "output_type": "stream",
          "name": "stdout",
          "text": [
            "6\n",
            "2,22,222,2222,22222,"
          ]
        }
      ]
    },
    {
      "cell_type": "code",
      "source": [
        "for i in range(6, 16):\n",
        "  if i%5 == 0:\n",
        "   break\n",
        "print(i)\n",
        "\n"
      ],
      "metadata": {
        "colab": {
          "base_uri": "https://localhost:8080/"
        },
        "id": "DxuStFkVp7s7",
        "outputId": "6fe1fa29-9a2a-42c3-aa87-9a3d39653d25"
      },
      "execution_count": null,
      "outputs": [
        {
          "output_type": "stream",
          "name": "stdout",
          "text": [
            "10\n"
          ]
        }
      ]
    },
    {
      "cell_type": "code",
      "source": [
        "x= 6\n",
        "while x <= 16:\n",
        "  if x % 5 == 0:\n",
        "    print(x)\n",
        "    break\n",
        "  x+=1"
      ],
      "metadata": {
        "colab": {
          "base_uri": "https://localhost:8080/"
        },
        "id": "GtzjZlkFB4b9",
        "outputId": "4b7e9792-d83e-40a3-8ef8-3adbe5eca6f2"
      },
      "execution_count": null,
      "outputs": [
        {
          "output_type": "stream",
          "name": "stdout",
          "text": [
            "10\n"
          ]
        }
      ]
    },
    {
      "cell_type": "code",
      "source": [
        "# Print numbers from 0 to 4\n",
        "for i in range(5):\n",
        "  print(i)\n"
      ],
      "metadata": {
        "id": "eVIvv5I8tC2v",
        "outputId": "cece1f7b-7ff2-4b6c-9c02-e8ac88227e0d",
        "colab": {
          "base_uri": "https://localhost:8080/"
        }
      },
      "execution_count": null,
      "outputs": [
        {
          "output_type": "stream",
          "name": "stdout",
          "text": [
            "0\n",
            "1\n",
            "2\n",
            "3\n",
            "4\n"
          ]
        }
      ]
    },
    {
      "cell_type": "code",
      "source": [
        "x = 7\n",
        "if x < 10:\n",
        "    print('Less than 10')  # Block 1\n",
        "    if x > 5:\n",
        "        print('Also greater than 5')  # Nested Block"
      ],
      "metadata": {
        "id": "zGdBE8xwy9eD",
        "colab": {
          "base_uri": "https://localhost:8080/"
        },
        "outputId": "1d86825e-119a-4347-deb2-4f33d85b9929"
      },
      "execution_count": null,
      "outputs": [
        {
          "output_type": "stream",
          "name": "stdout",
          "text": [
            "Less than 10\n",
            "Also greater than 5\n"
          ]
        }
      ]
    },
    {
      "cell_type": "code",
      "source": [
        "True and True"
      ],
      "metadata": {
        "colab": {
          "base_uri": "https://localhost:8080/"
        },
        "id": "f6GKxJpum5e6",
        "outputId": "813e25ac-45ca-411f-ac5c-fa3550f5329e"
      },
      "execution_count": null,
      "outputs": [
        {
          "output_type": "execute_result",
          "data": {
            "text/plain": [
              "True"
            ]
          },
          "metadata": {},
          "execution_count": 2
        }
      ]
    },
    {
      "cell_type": "code",
      "source": [
        "(1>2) and (55<54)"
      ],
      "metadata": {
        "colab": {
          "base_uri": "https://localhost:8080/"
        },
        "id": "eF8ma_vIpK7X",
        "outputId": "9099046a-5fd0-49ec-86f0-392f3346002d"
      },
      "execution_count": null,
      "outputs": [
        {
          "output_type": "execute_result",
          "data": {
            "text/plain": [
              "False"
            ]
          },
          "metadata": {},
          "execution_count": 3
        }
      ]
    },
    {
      "cell_type": "code",
      "source": [
        "(55/2) and True"
      ],
      "metadata": {
        "colab": {
          "base_uri": "https://localhost:8080/"
        },
        "id": "-ga45ru9pR0L",
        "outputId": "5ed17be0-b166-4d5f-b6f0-cf8592c8bcd3"
      },
      "execution_count": null,
      "outputs": [
        {
          "output_type": "execute_result",
          "data": {
            "text/plain": [
              "True"
            ]
          },
          "metadata": {},
          "execution_count": 13
        }
      ]
    },
    {
      "cell_type": "code",
      "source": [
        "not(10>5)"
      ],
      "metadata": {
        "colab": {
          "base_uri": "https://localhost:8080/"
        },
        "id": "PD48ZhFqpUuq",
        "outputId": "c277f5ea-7df0-478d-db01-380242c7a105"
      },
      "execution_count": null,
      "outputs": [
        {
          "output_type": "execute_result",
          "data": {
            "text/plain": [
              "False"
            ]
          },
          "metadata": {},
          "execution_count": 14
        }
      ]
    },
    {
      "cell_type": "code",
      "source": [],
      "metadata": {
        "id": "2s5eeXTdrh2M"
      },
      "execution_count": null,
      "outputs": []
    },
    {
      "cell_type": "code",
      "source": [
        "age = int(input(\"enter the age:\"))\n",
        "gender= input(\"enter the gender:\")\n",
        "if (age >= 18 and  age < 30) and gender == \"M\":\n",
        "  print(\"daily wages is 700\")\n",
        "elif (age >= 18 and age < 30 ) and gender ==\"F\":\n",
        "  print(\"daily wages is 750\")\n",
        "elif (age >= 30 and age <= 40) and gender == \"M\":\n",
        "  print(\"daily wages is 800\")\n",
        "elif (age >= 30 and age <= 40) and gender == \"F\":\n",
        "  print(\"daily wages is 850\")\n"
      ],
      "metadata": {
        "colab": {
          "base_uri": "https://localhost:8080/"
        },
        "id": "NrLqkMSZq1lv",
        "outputId": "99d2c88c-41cd-48cb-dff8-be6f17a82d0e"
      },
      "execution_count": null,
      "outputs": [
        {
          "output_type": "stream",
          "name": "stdout",
          "text": [
            "enter the age:35\n",
            "enter the gender:M\n",
            "daily wages is 800\n"
          ]
        }
      ]
    },
    {
      "cell_type": "code",
      "source": [
        "leap_yr = int(input(\"enter the year:\"))\n",
        "if (leap_yr / 4 == 0 and leap_yr / 100 != 0) or (leap_yr % 400 == 0 ):\n",
        "  print(\"this is leap_yr\")\n",
        "else:\n",
        "    print(\"this is not leap_yr\")"
      ],
      "metadata": {
        "colab": {
          "base_uri": "https://localhost:8080/"
        },
        "id": "G5Y2j8vbrhK2",
        "outputId": "4a308cdc-a588-431f-ba12-a7af0f962498"
      },
      "execution_count": null,
      "outputs": [
        {
          "output_type": "stream",
          "name": "stdout",
          "text": [
            "enter the year:2022\n",
            "this is not leap_yr\n"
          ]
        }
      ]
    },
    {
      "cell_type": "code",
      "source": [
        "days = int(input(\"enter the number of days:\"))\n",
        "if days > 0 and days <= 5:\n",
        "  print(\"the cost of days:\", days*2)\n",
        "elif days >= 6 and days <= 10:\n",
        "  print(\"the cost of days :\", days*3)\n",
        "elif days >= 11 and days <= 15:\n",
        "  print(\"the cost of days :\", days*4)\n",
        "elif day >= 15:\n",
        "  print(\"the cost of days ;\", days*5)"
      ],
      "metadata": {
        "colab": {
          "base_uri": "https://localhost:8080/"
        },
        "id": "PEVty0Ant_Sj",
        "outputId": "90886cb7-7a4b-4173-eac9-02a0e0fb00fb"
      },
      "execution_count": null,
      "outputs": [
        {
          "output_type": "stream",
          "name": "stdout",
          "text": [
            "enter the number of days:15\n",
            "the cost of days : 60\n"
          ]
        }
      ]
    },
    {
      "cell_type": "code",
      "source": [
        "units = int(input(\"enter the units:\"))\n",
        "if units >= 0 and units <= 100:\n",
        "  print(\"free\")\n",
        "elif units >= 101 and units <= 300:\n",
        "  print(\"the cost per unit Bill\", (units-100)*2)\n",
        "elif units >= 301 :\n",
        "  print(\"the cost per unit Bill\", (200*2) +(units-300)*5)"
      ],
      "metadata": {
        "colab": {
          "base_uri": "https://localhost:8080/"
        },
        "id": "Y_GSyJ2evruL",
        "outputId": "dd67c440-6617-4fd0-aa68-bc3156633b5b"
      },
      "execution_count": null,
      "outputs": [
        {
          "output_type": "stream",
          "name": "stdout",
          "text": [
            "enter the units:305\n",
            "the cost per unit Bill 425\n"
          ]
        }
      ]
    },
    {
      "cell_type": "code",
      "source": [
        "age = int(input(\"enter ypur age:\"))\n",
        "if age <= 16:\n",
        "  print(\"you are child\")\n",
        "if age >= 18:\n",
        "   print(\"you are eligible for driving licence.\")\n",
        "   if age >= 21:\n",
        "      print(\"you are eligible for shadi.com\")\n",
        "      if age >= 25:\n",
        "         print(\"you are eligible for bitcoin.\")\n",
        "\n",
        "\n",
        "\n",
        "\n",
        "\n",
        "\n",
        "\n",
        "\n"
      ],
      "metadata": {
        "colab": {
          "base_uri": "https://localhost:8080/"
        },
        "id": "UfY97Hlp0_a7",
        "outputId": "f216f2bd-273b-4064-89a5-3e2b0ccceab8"
      },
      "execution_count": null,
      "outputs": [
        {
          "output_type": "stream",
          "name": "stdout",
          "text": [
            "enter ypur age:23\n",
            "you are eligible for driving licence.\n",
            "you are eligible for shadi.com\n"
          ]
        }
      ]
    },
    {
      "cell_type": "code",
      "source": [
        "age = int(input(\"enter ypur age:\"))\n",
        "if age <= 16:\n",
        "  print(\"you are child\")\n",
        "elif age >= 18 and age <=20:\n",
        "   print(\"you are eligible for driving licence.\")\n",
        "elif age >= 21 and age <= 24:\n",
        "    print(\"you are eligible for shadi.com\")\n",
        "elif age >= 25:\n",
        "     print(\"you are eligible for bitcoin.\")\n"
      ],
      "metadata": {
        "colab": {
          "base_uri": "https://localhost:8080/"
        },
        "id": "PRCkociR11xi",
        "outputId": "9b74d0a0-f56e-4d7f-c5f0-cdffce2d7cb1"
      },
      "execution_count": null,
      "outputs": [
        {
          "output_type": "stream",
          "name": "stdout",
          "text": [
            "enter ypur age:21\n",
            "you are eligible for shadi.com\n"
          ]
        }
      ]
    },
    {
      "cell_type": "code",
      "source": [
        "x = 5\n",
        "y = 10\n",
        "if x == 5 and not y > 20:\n",
        "  print(\"x is 5 and y is not greater than 20\")\n",
        "else:\n",
        "  print(\"either x is not 5 or y is greater than 20\")"
      ],
      "metadata": {
        "id": "Dy1Kxudv1101",
        "colab": {
          "base_uri": "https://localhost:8080/"
        },
        "outputId": "e03b183e-4e3a-4fef-aafe-83f5074352d7"
      },
      "execution_count": null,
      "outputs": [
        {
          "output_type": "stream",
          "name": "stdout",
          "text": [
            "x is 5 and y is not greater than 20\n"
          ]
        }
      ]
    },
    {
      "cell_type": "code",
      "source": [
        "x = 0\n",
        "while x < 10:\n",
        "  if x % 2 == 0:\n",
        "    x+=1\n",
        "    continue\n",
        "  print(x)\n",
        "  x+=1"
      ],
      "metadata": {
        "id": "aBCE-xw9114B",
        "colab": {
          "base_uri": "https://localhost:8080/"
        },
        "outputId": "92b75a9a-aa5a-4481-dc93-973c358572d4"
      },
      "execution_count": null,
      "outputs": [
        {
          "output_type": "stream",
          "name": "stdout",
          "text": [
            "1\n",
            "3\n",
            "5\n",
            "7\n",
            "9\n"
          ]
        }
      ]
    },
    {
      "cell_type": "code",
      "source": [
        "a= True\n",
        "b= False\n",
        "c= False\n",
        "print(a or b and c)"
      ],
      "metadata": {
        "id": "I7c_yNhH117A",
        "colab": {
          "base_uri": "https://localhost:8080/"
        },
        "outputId": "cca65d58-9572-437d-9cad-e2f77b0e9a28"
      },
      "execution_count": null,
      "outputs": [
        {
          "output_type": "stream",
          "name": "stdout",
          "text": [
            "True\n"
          ]
        }
      ]
    },
    {
      "cell_type": "code",
      "source": [
        "x= 0\n",
        "for i in range(1,4):\n",
        "  x+=i\n",
        "print(x)"
      ],
      "metadata": {
        "id": "DMBpi7cS11-p",
        "colab": {
          "base_uri": "https://localhost:8080/"
        },
        "outputId": "617ce116-8089-4172-ffec-b54265591733"
      },
      "execution_count": null,
      "outputs": [
        {
          "output_type": "stream",
          "name": "stdout",
          "text": [
            "6\n"
          ]
        }
      ]
    },
    {
      "cell_type": "code",
      "source": [
        "your_var = 10\n",
        "print(your_var)"
      ],
      "metadata": {
        "id": "JMaD25VM12Bm",
        "colab": {
          "base_uri": "https://localhost:8080/"
        },
        "outputId": "8c8a0923-2b85-4dec-da22-e9b775b88d00"
      },
      "execution_count": 2,
      "outputs": [
        {
          "output_type": "stream",
          "name": "stdout",
          "text": [
            "10\n"
          ]
        }
      ]
    },
    {
      "cell_type": "code",
      "source": [
        "unit = int(input())\n",
        "if unit <= 100:\n",
        "  print(\"free\")\n",
        "elif unit >= 101 and unit <= 300:\n",
        "  print(\"bill\", (unit-100)*2)\n",
        "elif unit > 300:\n",
        "  print(\"bill\", (200*2)+(unit-300)*5)"
      ],
      "metadata": {
        "id": "c7k-SzP812L6",
        "colab": {
          "base_uri": "https://localhost:8080/"
        },
        "outputId": "b497ffd3-e727-47fb-e61b-2db4c0165223"
      },
      "execution_count": 6,
      "outputs": [
        {
          "output_type": "stream",
          "name": "stdout",
          "text": [
            "305\n",
            "bill 425\n"
          ]
        }
      ]
    },
    {
      "cell_type": "code",
      "source": [
        "i= 1\n",
        "i  +=1\n",
        "i"
      ],
      "metadata": {
        "id": "M7wlURAv12Pn",
        "colab": {
          "base_uri": "https://localhost:8080/"
        },
        "outputId": "4986bbb9-0b03-4593-898d-bf7cb5feac76"
      },
      "execution_count": 7,
      "outputs": [
        {
          "output_type": "execute_result",
          "data": {
            "text/plain": [
              "2"
            ]
          },
          "metadata": {},
          "execution_count": 7
        }
      ]
    },
    {
      "cell_type": "code",
      "source": [
        "n = int(input())\n",
        "for i in range(1 , n):\n",
        "  print('The Multiplication Table of ' , i)\n",
        "  for j in range(1,11):\n",
        "    k =  i * j\n",
        "    print(i, \"x\", j, \"=\", k)"
      ],
      "metadata": {
        "colab": {
          "base_uri": "https://localhost:8080/"
        },
        "id": "o5rp5kQvhWX3",
        "outputId": "fbc387f1-d437-447b-c467-5449477b06db"
      },
      "execution_count": 84,
      "outputs": [
        {
          "output_type": "stream",
          "name": "stdout",
          "text": [
            "5\n",
            "The Multiplication Table of  1\n",
            "1 x 1 = 1\n",
            "1 x 2 = 2\n",
            "1 x 3 = 3\n",
            "1 x 4 = 4\n",
            "1 x 5 = 5\n",
            "1 x 6 = 6\n",
            "1 x 7 = 7\n",
            "1 x 8 = 8\n",
            "1 x 9 = 9\n",
            "1 x 10 = 10\n",
            "The Multiplication Table of  2\n",
            "2 x 1 = 2\n",
            "2 x 2 = 4\n",
            "2 x 3 = 6\n",
            "2 x 4 = 8\n",
            "2 x 5 = 10\n",
            "2 x 6 = 12\n",
            "2 x 7 = 14\n",
            "2 x 8 = 16\n",
            "2 x 9 = 18\n",
            "2 x 10 = 20\n",
            "The Multiplication Table of  3\n",
            "3 x 1 = 3\n",
            "3 x 2 = 6\n",
            "3 x 3 = 9\n",
            "3 x 4 = 12\n",
            "3 x 5 = 15\n",
            "3 x 6 = 18\n",
            "3 x 7 = 21\n",
            "3 x 8 = 24\n",
            "3 x 9 = 27\n",
            "3 x 10 = 30\n",
            "The Multiplication Table of  4\n",
            "4 x 1 = 4\n",
            "4 x 2 = 8\n",
            "4 x 3 = 12\n",
            "4 x 4 = 16\n",
            "4 x 5 = 20\n",
            "4 x 6 = 24\n",
            "4 x 7 = 28\n",
            "4 x 8 = 32\n",
            "4 x 9 = 36\n",
            "4 x 10 = 40\n"
          ]
        }
      ]
    },
    {
      "cell_type": "code",
      "source": [
        "x = 1\n",
        "n = int(input())\n",
        "while x <= n:\n",
        " print(\"Enter the Multiplication of \", x)\n",
        " a = 1\n",
        " while a <= 10:\n",
        "    z= x*a\n",
        "    print(x , \"x\" ,a, \"=\", z )\n",
        "    a+=1\n",
        " x+=1"
      ],
      "metadata": {
        "colab": {
          "base_uri": "https://localhost:8080/"
        },
        "id": "SjQsUGJSpUBO",
        "outputId": "f147bae2-93b0-40e4-a7bd-69c5bb7757a4"
      },
      "execution_count": 110,
      "outputs": [
        {
          "output_type": "stream",
          "name": "stdout",
          "text": [
            "4\n",
            "Enter the Multiplication of  1\n",
            "1 x 1 = 1\n",
            "1 x 2 = 2\n",
            "1 x 3 = 3\n",
            "1 x 4 = 4\n",
            "1 x 5 = 5\n",
            "1 x 6 = 6\n",
            "1 x 7 = 7\n",
            "1 x 8 = 8\n",
            "1 x 9 = 9\n",
            "1 x 10 = 10\n",
            "Enter the Multiplication of  2\n",
            "2 x 1 = 2\n",
            "2 x 2 = 4\n",
            "2 x 3 = 6\n",
            "2 x 4 = 8\n",
            "2 x 5 = 10\n",
            "2 x 6 = 12\n",
            "2 x 7 = 14\n",
            "2 x 8 = 16\n",
            "2 x 9 = 18\n",
            "2 x 10 = 20\n",
            "Enter the Multiplication of  3\n",
            "3 x 1 = 3\n",
            "3 x 2 = 6\n",
            "3 x 3 = 9\n",
            "3 x 4 = 12\n",
            "3 x 5 = 15\n",
            "3 x 6 = 18\n",
            "3 x 7 = 21\n",
            "3 x 8 = 24\n",
            "3 x 9 = 27\n",
            "3 x 10 = 30\n",
            "Enter the Multiplication of  4\n",
            "4 x 1 = 4\n",
            "4 x 2 = 8\n",
            "4 x 3 = 12\n",
            "4 x 4 = 16\n",
            "4 x 5 = 20\n",
            "4 x 6 = 24\n",
            "4 x 7 = 28\n",
            "4 x 8 = 32\n",
            "4 x 9 = 36\n",
            "4 x 10 = 40\n"
          ]
        }
      ]
    },
    {
      "cell_type": "code",
      "source": [
        "x = 1\n",
        "while x <= 10:\n",
        "  print(x)\n",
        "  a = 15\n",
        "  while a <22:\n",
        "    print(x ,a )\n",
        "    a+=1\n",
        "  x+=1\n",
        "\n",
        "\n"
      ],
      "metadata": {
        "colab": {
          "base_uri": "https://localhost:8080/"
        },
        "id": "zNG-pcryqw5f",
        "outputId": "34614ad5-9198-41e1-90d7-b557365ccf8a"
      },
      "execution_count": 98,
      "outputs": [
        {
          "output_type": "stream",
          "name": "stdout",
          "text": [
            "1\n",
            "1 15\n",
            "1 16\n",
            "1 17\n",
            "1 18\n",
            "1 19\n",
            "1 20\n",
            "1 21\n",
            "2\n",
            "2 15\n",
            "2 16\n",
            "2 17\n",
            "2 18\n",
            "2 19\n",
            "2 20\n",
            "2 21\n",
            "3\n",
            "3 15\n",
            "3 16\n",
            "3 17\n",
            "3 18\n",
            "3 19\n",
            "3 20\n",
            "3 21\n",
            "4\n",
            "4 15\n",
            "4 16\n",
            "4 17\n",
            "4 18\n",
            "4 19\n",
            "4 20\n",
            "4 21\n",
            "5\n",
            "5 15\n",
            "5 16\n",
            "5 17\n",
            "5 18\n",
            "5 19\n",
            "5 20\n",
            "5 21\n",
            "6\n",
            "6 15\n",
            "6 16\n",
            "6 17\n",
            "6 18\n",
            "6 19\n",
            "6 20\n",
            "6 21\n",
            "7\n",
            "7 15\n",
            "7 16\n",
            "7 17\n",
            "7 18\n",
            "7 19\n",
            "7 20\n",
            "7 21\n",
            "8\n",
            "8 15\n",
            "8 16\n",
            "8 17\n",
            "8 18\n",
            "8 19\n",
            "8 20\n",
            "8 21\n",
            "9\n",
            "9 15\n",
            "9 16\n",
            "9 17\n",
            "9 18\n",
            "9 19\n",
            "9 20\n",
            "9 21\n",
            "10\n",
            "10 15\n",
            "10 16\n",
            "10 17\n",
            "10 18\n",
            "10 19\n",
            "10 20\n",
            "10 21\n"
          ]
        }
      ]
    },
    {
      "cell_type": "code",
      "source": [],
      "metadata": {
        "id": "stmgAKpFuxBy"
      },
      "execution_count": null,
      "outputs": []
    }
  ]
}