{
  "nbformat": 4,
  "nbformat_minor": 0,
  "metadata": {
    "colab": {
      "provenance": [],
      "authorship_tag": "ABX9TyO329V+NsxVW8W2IMivS7uZ",
      "include_colab_link": true
    },
    "kernelspec": {
      "name": "python3",
      "display_name": "Python 3"
    },
    "language_info": {
      "name": "python"
    }
  },
  "cells": [
    {
      "cell_type": "markdown",
      "metadata": {
        "id": "view-in-github",
        "colab_type": "text"
      },
      "source": [
        "<a href=\"https://colab.research.google.com/github/HARSHADA02/Python/blob/main/functions.ipynb\" target=\"_parent\"><img src=\"https://colab.research.google.com/assets/colab-badge.svg\" alt=\"Open In Colab\"/></a>"
      ]
    },
    {
      "cell_type": "code",
      "execution_count": null,
      "metadata": {
        "id": "1kwhgx7qIQ5z",
        "colab": {
          "base_uri": "https://localhost:8080/"
        },
        "outputId": "4cba3701-a66d-4cd7-e145-0437004c651d"
      },
      "outputs": [
        {
          "output_type": "stream",
          "name": "stdout",
          "text": [
            "hello\n"
          ]
        }
      ],
      "source": [
        "def show():\n",
        "  print(\"hello\")\n",
        "\n",
        "show()"
      ]
    },
    {
      "cell_type": "code",
      "source": [
        "def sum(a,b):\n",
        "  return a+b\n",
        "\n",
        "sum(100,3)"
      ],
      "metadata": {
        "colab": {
          "base_uri": "https://localhost:8080/"
        },
        "id": "zLY708oqJuSw",
        "outputId": "49a5243b-bbe9-47e7-dcf3-46256735e66c"
      },
      "execution_count": null,
      "outputs": [
        {
          "output_type": "execute_result",
          "data": {
            "text/plain": [
              "103"
            ]
          },
          "metadata": {},
          "execution_count": 4
        }
      ]
    },
    {
      "cell_type": "code",
      "source": [
        "def fibonacci(N, a=0, b=1):\n",
        "    counter = 0\n",
        "    while counter < N:\n",
        "        a, b = b, a + b # a = b, b = a + b (Swapping Logic)\n",
        "        print(a, end=' ')\n",
        "        counter += 1\n",
        "\n",
        "# Using default values for a and b\n",
        "fibonacci(10)\n",
        "# Expected Output: 1 1 2 3 5 8 13 21 34 55"
      ],
      "metadata": {
        "colab": {
          "base_uri": "https://localhost:8080/"
        },
        "id": "ffXY75CRJ4bB",
        "outputId": "5c1b7865-60a2-4c45-f94f-83cde5dbe746"
      },
      "execution_count": null,
      "outputs": [
        {
          "output_type": "stream",
          "name": "stdout",
          "text": [
            "1 1 2 3 5 8 13 21 34 55 "
          ]
        }
      ]
    },
    {
      "cell_type": "code",
      "source": [
        "def val_pp(val):\n",
        "    # This function takes a parameter 'val' and returns three values:\n",
        "    # val, val + 1, and val + 2.\n",
        "    return val, val + 1, val + 2\n",
        "\n",
        "# Capture the returned values into separate variables\n",
        "r, i, c = val_pp(3)\n",
        "print(r, i, c)  # Output: 3 4 5"
      ],
      "metadata": {
        "id": "ArTrFrQqLdvm"
      },
      "execution_count": null,
      "outputs": []
    },
    {
      "cell_type": "code",
      "source": [
        "def cube(a = 4):\n",
        "  return a**3\n",
        "\n",
        "cube()"
      ],
      "metadata": {
        "colab": {
          "base_uri": "https://localhost:8080/"
        },
        "id": "Rv1v-qx4Lee4",
        "outputId": "734cded7-d1a8-4bc9-da29-02d486c74ab9"
      },
      "execution_count": null,
      "outputs": [
        {
          "output_type": "execute_result",
          "data": {
            "text/plain": [
              "64"
            ]
          },
          "metadata": {},
          "execution_count": 7
        }
      ]
    },
    {
      "cell_type": "code",
      "source": [
        "def add_numbers(a=5, b=5):\n",
        "  result = a + b\n",
        "  return(result)\n"
      ],
      "metadata": {
        "id": "oJONueByLeY6"
      },
      "execution_count": null,
      "outputs": []
    },
    {
      "cell_type": "code",
      "source": [
        "def add_numbers(a):  # def keyword, function name, and parameters\n",
        "    # Function body: adds two numbers\n",
        "  result = a + 10\n",
        "  return result\n",
        "  print(result)"
      ],
      "metadata": {
        "id": "FR13CaOOLeXD"
      },
      "execution_count": null,
      "outputs": []
    },
    {
      "cell_type": "code",
      "source": [
        "add_numbers(5)"
      ],
      "metadata": {
        "colab": {
          "base_uri": "https://localhost:8080/"
        },
        "id": "1PAgtBLLTGJC",
        "outputId": "041e2240-8332-4668-eb60-4dc04c2a9622"
      },
      "execution_count": null,
      "outputs": [
        {
          "output_type": "execute_result",
          "data": {
            "text/plain": [
              "15"
            ]
          },
          "metadata": {},
          "execution_count": 43
        }
      ]
    },
    {
      "cell_type": "code",
      "source": [
        "def add(a, b):\n",
        "      print( a + b)\n",
        "result = add(5, 3)\n",
        "print(result)\n"
      ],
      "metadata": {
        "colab": {
          "base_uri": "https://localhost:8080/"
        },
        "id": "buHGg3UrLeU4",
        "outputId": "5e765619-5f19-4efc-df3d-e3296a058e39"
      },
      "execution_count": null,
      "outputs": [
        {
          "output_type": "stream",
          "name": "stdout",
          "text": [
            "8\n",
            "None\n"
          ]
        }
      ]
    },
    {
      "cell_type": "code",
      "source": [
        "add_numbers('harshada ','waghchaure')"
      ],
      "metadata": {
        "colab": {
          "base_uri": "https://localhost:8080/",
          "height": 35
        },
        "id": "JttzKspvLeSt",
        "outputId": "0a30e4c3-6052-4cab-ff59-9a803d970b23"
      },
      "execution_count": null,
      "outputs": [
        {
          "output_type": "execute_result",
          "data": {
            "text/plain": [
              "'harshada waghchaure'"
            ],
            "application/vnd.google.colaboratory.intrinsic+json": {
              "type": "string"
            }
          },
          "metadata": {},
          "execution_count": 37
        }
      ]
    },
    {
      "cell_type": "code",
      "source": [
        "def hi(a,b):\n",
        "  print (a+b)\n",
        "result = add(5,3)\n",
        "print(result)"
      ],
      "metadata": {
        "colab": {
          "base_uri": "https://localhost:8080/"
        },
        "id": "Vs_eW_aBTk3L",
        "outputId": "39e18354-7606-426a-c5e8-f2622929df82"
      },
      "execution_count": null,
      "outputs": [
        {
          "output_type": "stream",
          "name": "stdout",
          "text": [
            "8\n"
          ]
        }
      ]
    },
    {
      "cell_type": "code",
      "source": [
        "sum_result = add_numbers(5,3)\n",
        "print(sum_result)"
      ],
      "metadata": {
        "colab": {
          "base_uri": "https://localhost:8080/"
        },
        "id": "KbrjjFeXU55Y",
        "outputId": "9d93c165-86d6-4bb6-d0b7-31a674bee696"
      },
      "execution_count": null,
      "outputs": [
        {
          "output_type": "stream",
          "name": "stdout",
          "text": [
            "8\n"
          ]
        }
      ]
    },
    {
      "cell_type": "code",
      "source": [],
      "metadata": {
        "id": "ruEsLQ6HVV7T"
      },
      "execution_count": null,
      "outputs": []
    },
    {
      "cell_type": "code",
      "source": [
        "def add(a, b):\n",
        "  return a + b\n",
        "result = add(5, 3)\n",
        "result"
      ],
      "metadata": {
        "colab": {
          "base_uri": "https://localhost:8080/"
        },
        "id": "mohWd9BXVgM9",
        "outputId": "21756f4a-eb18-4a73-b87d-153e12521c12"
      },
      "execution_count": null,
      "outputs": [
        {
          "output_type": "execute_result",
          "data": {
            "text/plain": [
              "8"
            ]
          },
          "metadata": {},
          "execution_count": 58
        }
      ]
    },
    {
      "cell_type": "code",
      "source": [
        "def add(a, b):\n",
        "  return a + b\n",
        "def sub(a, b):\n",
        "  return a- b\n",
        "def multiply(a, b):\n",
        "  return a * b\n",
        "def divide(a, b):\n",
        "  if  b != 0:\n",
        "    return a / b\n",
        "  else:\n",
        "      return \"cannot divide by zero\"\n",
        "\n"
      ],
      "metadata": {
        "id": "MurWzhBaWJ6w"
      },
      "execution_count": null,
      "outputs": []
    },
    {
      "cell_type": "code",
      "source": [
        "add1=add(5, 6)"
      ],
      "metadata": {
        "id": "TyVGlo1RXqaz"
      },
      "execution_count": null,
      "outputs": []
    },
    {
      "cell_type": "code",
      "source": [
        "sub(7,9)"
      ],
      "metadata": {
        "colab": {
          "base_uri": "https://localhost:8080/"
        },
        "id": "blcfpZ6bXm8Y",
        "outputId": "650df7a0-a239-4a82-f601-ba09716585c9"
      },
      "execution_count": null,
      "outputs": [
        {
          "output_type": "execute_result",
          "data": {
            "text/plain": [
              "-2"
            ]
          },
          "metadata": {},
          "execution_count": 66
        }
      ]
    },
    {
      "cell_type": "code",
      "source": [
        "add1"
      ],
      "metadata": {
        "colab": {
          "base_uri": "https://localhost:8080/"
        },
        "id": "wEFx5WeIYCmy",
        "outputId": "c7c62e5c-4d36-4a77-bcdd-17013a0ab604"
      },
      "execution_count": null,
      "outputs": [
        {
          "output_type": "execute_result",
          "data": {
            "text/plain": [
              "11"
            ]
          },
          "metadata": {},
          "execution_count": 68
        }
      ]
    },
    {
      "cell_type": "code",
      "source": [
        "def fibonacci(N , a= 0, b=1):\n",
        "  counter = 0\n",
        "  while counter < N:\n",
        "    a, b = b, a+b\n",
        "    print(a, end = \" \")\n",
        "    counter +=1\n",
        "fibonacci(10)"
      ],
      "metadata": {
        "colab": {
          "base_uri": "https://localhost:8080/"
        },
        "id": "taEuQBvcYRSx",
        "outputId": "6a80d4da-faa4-46ea-c9cd-eddb5bb2ae4e"
      },
      "execution_count": null,
      "outputs": [
        {
          "output_type": "stream",
          "name": "stdout",
          "text": [
            "1 1 2 3 5 8 13 21 34 55 "
          ]
        }
      ]
    },
    {
      "cell_type": "code",
      "source": [
        "def fibonacci(N, a=0, b=1):\n",
        "  counter = 0\n",
        "  while counter < N:\n",
        "    a, b=b, a+b\n",
        "    print(a, end =\" \")\n",
        "    counter +=1\n",
        "fibonacci(10, 2, 5)\n",
        "\n"
      ],
      "metadata": {
        "colab": {
          "base_uri": "https://localhost:8080/"
        },
        "id": "vwSTeptBaHL6",
        "outputId": "1e1efcea-f49b-4e63-cea7-268e67f23cac"
      },
      "execution_count": null,
      "outputs": [
        {
          "output_type": "stream",
          "name": "stdout",
          "text": [
            "5 7 12 19 31 50 81 131 212 343 "
          ]
        }
      ]
    },
    {
      "cell_type": "code",
      "source": [
        "def fibonacci(N, a=0, b=1):\n",
        "  counter = 0\n",
        "  while counter < N:\n",
        "    a, b=b , a+b\n",
        "    print(a, end= \" \")\n",
        "    counter += 1\n",
        "fibonacci(10, b=3, a=1)"
      ],
      "metadata": {
        "colab": {
          "base_uri": "https://localhost:8080/"
        },
        "id": "85VodtfJbAYW",
        "outputId": "b10e258d-889c-425c-a457-46e121009164"
      },
      "execution_count": null,
      "outputs": [
        {
          "output_type": "stream",
          "name": "stdout",
          "text": [
            "3 4 7 11 18 29 47 76 123 199 "
          ]
        }
      ]
    },
    {
      "cell_type": "code",
      "source": [
        "def val_pp(val):\n",
        "  return val, val +1, val+2\n",
        "r, i, c = val_pp(3)\n",
        "print(r, i, c)"
      ],
      "metadata": {
        "colab": {
          "base_uri": "https://localhost:8080/"
        },
        "id": "os1xx6Bzb0GH",
        "outputId": "de724136-2270-4b8f-d664-10c831108e48"
      },
      "execution_count": null,
      "outputs": [
        {
          "output_type": "stream",
          "name": "stdout",
          "text": [
            "3 4 5\n"
          ]
        }
      ]
    },
    {
      "cell_type": "code",
      "source": [
        "def factorial(number):\n",
        "  fact =1\n",
        "  while number<=5:\n",
        "    fact = fact * number\n",
        "  print(fact)\n",
        "  number +=1\n",
        "\n",
        "out = factorial(5)\n",
        "out"
      ],
      "metadata": {
        "colab": {
          "base_uri": "https://localhost:8080/",
          "height": 315
        },
        "id": "o7AFP9NfeAB-",
        "outputId": "4f376792-f2ac-4b5f-8679-f2bb9eb90b77"
      },
      "execution_count": null,
      "outputs": [
        {
          "output_type": "error",
          "ename": "KeyboardInterrupt",
          "evalue": "",
          "traceback": [
            "\u001b[0;31m---------------------------------------------------------------------------\u001b[0m",
            "\u001b[0;31mKeyboardInterrupt\u001b[0m                         Traceback (most recent call last)",
            "\u001b[0;32m/tmp/ipython-input-1639654000.py\u001b[0m in \u001b[0;36m<cell line: 0>\u001b[0;34m()\u001b[0m\n\u001b[1;32m      6\u001b[0m   \u001b[0mnumber\u001b[0m \u001b[0;34m+=\u001b[0m\u001b[0;36m1\u001b[0m\u001b[0;34m\u001b[0m\u001b[0;34m\u001b[0m\u001b[0m\n\u001b[1;32m      7\u001b[0m \u001b[0;34m\u001b[0m\u001b[0m\n\u001b[0;32m----> 8\u001b[0;31m \u001b[0mout\u001b[0m \u001b[0;34m=\u001b[0m \u001b[0mfactorial\u001b[0m\u001b[0;34m(\u001b[0m\u001b[0;36m5\u001b[0m\u001b[0;34m)\u001b[0m\u001b[0;34m\u001b[0m\u001b[0;34m\u001b[0m\u001b[0m\n\u001b[0m\u001b[1;32m      9\u001b[0m \u001b[0mout\u001b[0m\u001b[0;34m\u001b[0m\u001b[0;34m\u001b[0m\u001b[0m\n",
            "\u001b[0;32m/tmp/ipython-input-1639654000.py\u001b[0m in \u001b[0;36mfactorial\u001b[0;34m(number)\u001b[0m\n\u001b[1;32m      1\u001b[0m \u001b[0;32mdef\u001b[0m \u001b[0mfactorial\u001b[0m\u001b[0;34m(\u001b[0m\u001b[0mnumber\u001b[0m\u001b[0;34m)\u001b[0m\u001b[0;34m:\u001b[0m\u001b[0;34m\u001b[0m\u001b[0;34m\u001b[0m\u001b[0m\n\u001b[1;32m      2\u001b[0m   \u001b[0mfact\u001b[0m \u001b[0;34m=\u001b[0m\u001b[0;36m1\u001b[0m\u001b[0;34m\u001b[0m\u001b[0;34m\u001b[0m\u001b[0m\n\u001b[0;32m----> 3\u001b[0;31m   \u001b[0;32mwhile\u001b[0m \u001b[0mnumber\u001b[0m\u001b[0;34m<=\u001b[0m\u001b[0;36m5\u001b[0m\u001b[0;34m:\u001b[0m\u001b[0;34m\u001b[0m\u001b[0;34m\u001b[0m\u001b[0m\n\u001b[0m\u001b[1;32m      4\u001b[0m     \u001b[0mfact\u001b[0m \u001b[0;34m=\u001b[0m \u001b[0mfact\u001b[0m \u001b[0;34m*\u001b[0m \u001b[0mnumber\u001b[0m\u001b[0;34m\u001b[0m\u001b[0;34m\u001b[0m\u001b[0m\n\u001b[1;32m      5\u001b[0m   \u001b[0mprint\u001b[0m\u001b[0;34m(\u001b[0m\u001b[0mfact\u001b[0m\u001b[0;34m)\u001b[0m\u001b[0;34m\u001b[0m\u001b[0;34m\u001b[0m\u001b[0m\n",
            "\u001b[0;31mKeyboardInterrupt\u001b[0m: "
          ]
        }
      ]
    },
    {
      "cell_type": "code",
      "source": [
        "def factorial(num):\n",
        "  fact = 1\n",
        "  x = 1\n",
        "  while x <= 5:\n",
        "    fact = (fact * x )\n",
        "    x += 1\n",
        "  return fact\n",
        "\n"
      ],
      "metadata": {
        "id": "RLV0Ib7Cem-E"
      },
      "execution_count": null,
      "outputs": []
    },
    {
      "cell_type": "code",
      "source": [
        "factorial(5)"
      ],
      "metadata": {
        "colab": {
          "base_uri": "https://localhost:8080/"
        },
        "id": "KbyRXVeciCEv",
        "outputId": "4ca0cda9-9b57-4d35-827f-d7b71c717934"
      },
      "execution_count": null,
      "outputs": [
        {
          "output_type": "execute_result",
          "data": {
            "text/plain": [
              "120"
            ]
          },
          "metadata": {},
          "execution_count": 100
        }
      ]
    },
    {
      "cell_type": "code",
      "source": [
        "\n",
        "?function-name"
      ],
      "metadata": {
        "colab": {
          "base_uri": "https://localhost:8080/"
        },
        "id": "neJE2EOHiQL2",
        "outputId": "be01118b-ccd5-4907-acc5-623b0efea881"
      },
      "execution_count": null,
      "outputs": [
        {
          "output_type": "stream",
          "name": "stdout",
          "text": [
            "Object `function-name` not found.\n"
          ]
        }
      ]
    },
    {
      "cell_type": "code",
      "source": [
        "def cube(a):\n",
        "  return a**3\n",
        "\n",
        "  cube(a)"
      ],
      "metadata": {
        "id": "NYrRgbWHjtC1"
      },
      "execution_count": null,
      "outputs": []
    },
    {
      "cell_type": "code",
      "source": [
        "cube(a=4)"
      ],
      "metadata": {
        "colab": {
          "base_uri": "https://localhost:8080/"
        },
        "id": "GUM7XpK8l9b4",
        "outputId": "bdf36980-95be-4c22-8b0a-f9b473a1819c"
      },
      "execution_count": null,
      "outputs": [
        {
          "output_type": "execute_result",
          "data": {
            "text/plain": [
              "64"
            ]
          },
          "metadata": {},
          "execution_count": 110
        }
      ]
    },
    {
      "cell_type": "code",
      "source": [
        "def square(n1 = 1, n2= 2):\n",
        "  sum = (n1**2) + (n2**2)\n",
        "  return sum\n",
        "square( )\n"
      ],
      "metadata": {
        "colab": {
          "base_uri": "https://localhost:8080/"
        },
        "id": "WniUxhNImXP1",
        "outputId": "b0bdc6fa-88fc-4bdd-913a-d0ed1a441df6"
      },
      "execution_count": null,
      "outputs": [
        {
          "output_type": "execute_result",
          "data": {
            "text/plain": [
              "5"
            ]
          },
          "metadata": {},
          "execution_count": 117
        }
      ]
    },
    {
      "cell_type": "code",
      "source": [
        "def factorial(number):\n",
        "  x =1\n",
        "  fact = 1\n",
        "  while x <= 5:\n",
        "    fact = fact * x\n",
        "    x += 1\n",
        "  return fact\n"
      ],
      "metadata": {
        "id": "y_5JdRD1mrSY"
      },
      "execution_count": null,
      "outputs": []
    },
    {
      "cell_type": "code",
      "source": [
        "factorial(10)"
      ],
      "metadata": {
        "colab": {
          "base_uri": "https://localhost:8080/"
        },
        "id": "q2VA4pDfodez",
        "outputId": "87a4da34-82e1-4935-a9f7-644b8a5947d6"
      },
      "execution_count": null,
      "outputs": [
        {
          "output_type": "execute_result",
          "data": {
            "text/plain": [
              "120"
            ]
          },
          "metadata": {},
          "execution_count": 124
        }
      ]
    },
    {
      "cell_type": "code",
      "source": [
        "def string_concatenation(s1 = \"ai\", s2= \"adventures\", s3= 3):\n",
        "   return (s1 + s2) *s3\n",
        "\n",
        "string_concatenation( )\n"
      ],
      "metadata": {
        "colab": {
          "base_uri": "https://localhost:8080/",
          "height": 35
        },
        "id": "pOoNVBNrog1v",
        "outputId": "4d0b1f64-f76f-44fa-a133-98aab559cc1a"
      },
      "execution_count": null,
      "outputs": [
        {
          "output_type": "execute_result",
          "data": {
            "text/plain": [
              "'aiadventuresaiadventuresaiadventures'"
            ],
            "application/vnd.google.colaboratory.intrinsic+json": {
              "type": "string"
            }
          },
          "metadata": {},
          "execution_count": 129
        }
      ]
    },
    {
      "cell_type": "code",
      "source": [
        "def string_concat(s1= \"ai\", s2='', s3 = 3):\n",
        "  if s3 == 3:\n",
        "    s = (s1+s2)*s3\n",
        "    print(s, end = \"\")\n",
        "string_concat(s1= \"ai\", s2=\"adventures\", s3= 3)\n"
      ],
      "metadata": {
        "colab": {
          "base_uri": "https://localhost:8080/"
        },
        "id": "0FrL290Gpxeb",
        "outputId": "2cced3e8-226b-4be6-a85a-e4a4bb67c374"
      },
      "execution_count": null,
      "outputs": [
        {
          "output_type": "stream",
          "name": "stdout",
          "text": [
            "aiadventuresaiadventuresaiadventures"
          ]
        }
      ]
    },
    {
      "cell_type": "code",
      "source": [
        "def calculate_area(b, h, s):\n",
        "   b = 2\n",
        "   h = 6\n",
        "   if s == \"rectangle\":\n",
        "    print(b*h)\n",
        "   elif s==\"triangle\":\n",
        "      print(0.5*b*h)\n",
        "\n",
        "calculate_area(2, 6,\"trianghjk\")\n"
      ],
      "metadata": {
        "id": "Rx4fzZaiq-pk"
      },
      "execution_count": null,
      "outputs": []
    },
    {
      "cell_type": "code",
      "source": [
        "def calculate_area_rectangle(b, h):\n",
        "     return b * h\n",
        "def calculate_area_triangle(b, h):\n",
        "     return 0.5* b * h\n",
        "\n",
        "calculate_area_triangle(2, 6)\n"
      ],
      "metadata": {
        "colab": {
          "base_uri": "https://localhost:8080/"
        },
        "id": "BE2L2xkItJEC",
        "outputId": "55d3ed71-8b05-4fe5-d398-0aca15c56d60"
      },
      "execution_count": null,
      "outputs": [
        {
          "output_type": "execute_result",
          "data": {
            "text/plain": [
              "6.0"
            ]
          },
          "metadata": {},
          "execution_count": 164
        }
      ]
    },
    {
      "cell_type": "code",
      "source": [
        "def none_value_assignment(s1 = input(), s2= input()):\n",
        "    s= s1 + s2\n",
        "    print(s)\n",
        "\n",
        "var1 = none_value_assignment()\n",
        "type(var1)\n",
        "\n",
        "var2 = none_value_assignment(\"ai\", \"adventures\")\n",
        "\n",
        "type(var2)\n"
      ],
      "metadata": {
        "colab": {
          "base_uri": "https://localhost:8080/"
        },
        "id": "NeTyWCO5vn1c",
        "outputId": "43daf50a-ad03-4c26-d4ff-35658f9ff3a8"
      },
      "execution_count": null,
      "outputs": [
        {
          "output_type": "stream",
          "name": "stdout",
          "text": [
            "h\n",
            "w\n",
            "hw\n",
            "aiadventures\n"
          ]
        },
        {
          "output_type": "execute_result",
          "data": {
            "text/plain": [
              "NoneType"
            ]
          },
          "metadata": {},
          "execution_count": 1
        }
      ]
    },
    {
      "cell_type": "code",
      "source": [
        "n= 5\n",
        "a = 1 + 1/(n+1)+ 1/(n+1)!"
      ],
      "metadata": {
        "colab": {
          "base_uri": "https://localhost:8080/",
          "height": 106
        },
        "id": "VYg3PpJN0hSD",
        "outputId": "be6e7630-4bf0-4e10-f7e1-60ffc6cf2966"
      },
      "execution_count": null,
      "outputs": [
        {
          "output_type": "error",
          "ename": "SyntaxError",
          "evalue": "invalid syntax (ipython-input-965415095.py, line 2)",
          "traceback": [
            "\u001b[0;36m  File \u001b[0;32m\"/tmp/ipython-input-965415095.py\"\u001b[0;36m, line \u001b[0;32m2\u001b[0m\n\u001b[0;31m    a = 1 + 1/1! + 1/(n+1)!\u001b[0m\n\u001b[0m               ^\u001b[0m\n\u001b[0;31mSyntaxError\u001b[0m\u001b[0;31m:\u001b[0m invalid syntax\n"
          ]
        }
      ]
    },
    {
      "cell_type": "code",
      "source": [
        "def cube(a):\n",
        "\n",
        "  return a**3\n",
        "\n",
        "cube(a)"
      ],
      "metadata": {
        "colab": {
          "base_uri": "https://localhost:8080/",
          "height": 176
        },
        "id": "JYuSnnCIWJFi",
        "outputId": "b3a9899e-a670-487f-c2f1-ffb922176c3a"
      },
      "execution_count": null,
      "outputs": [
        {
          "output_type": "error",
          "ename": "NameError",
          "evalue": "name 'a' is not defined",
          "traceback": [
            "\u001b[0;31m---------------------------------------------------------------------------\u001b[0m",
            "\u001b[0;31mNameError\u001b[0m                                 Traceback (most recent call last)",
            "\u001b[0;32m/tmp/ipython-input-1476641016.py\u001b[0m in \u001b[0;36m<cell line: 0>\u001b[0;34m()\u001b[0m\n\u001b[1;32m      3\u001b[0m   \u001b[0;32mreturn\u001b[0m \u001b[0ma\u001b[0m\u001b[0;34m**\u001b[0m\u001b[0;36m3\u001b[0m\u001b[0;34m\u001b[0m\u001b[0;34m\u001b[0m\u001b[0m\n\u001b[1;32m      4\u001b[0m \u001b[0;34m\u001b[0m\u001b[0m\n\u001b[0;32m----> 5\u001b[0;31m \u001b[0mcube\u001b[0m\u001b[0;34m(\u001b[0m\u001b[0ma\u001b[0m\u001b[0;34m)\u001b[0m\u001b[0;34m\u001b[0m\u001b[0;34m\u001b[0m\u001b[0m\n\u001b[0m",
            "\u001b[0;31mNameError\u001b[0m: name 'a' is not defined"
          ]
        }
      ]
    },
    {
      "cell_type": "code",
      "source": [
        "sentence = input( )\n",
        "if sentence1 == \"a quick brown fox jumps over the lazy dog\":\n",
        "  print(\"True\")\n",
        "elif sentence2 == \"hello my name is ramesh\":\n",
        "  print(\"False\")\n",
        "\n",
        "\n",
        "\n"
      ],
      "metadata": {
        "colab": {
          "base_uri": "https://localhost:8080/",
          "height": 106
        },
        "id": "hZfT2LfUXOkw",
        "outputId": "a5e9a5af-d393-4c5b-e56d-906f892e8935"
      },
      "execution_count": null,
      "outputs": [
        {
          "output_type": "error",
          "ename": "SyntaxError",
          "evalue": "invalid syntax (ipython-input-3191991088.py, line 2)",
          "traceback": [
            "\u001b[0;36m  File \u001b[0;32m\"/tmp/ipython-input-3191991088.py\"\u001b[0;36m, line \u001b[0;32m2\u001b[0m\n\u001b[0;31m    if sentence 1 == \"a quick brown fox jumps over the lazy dog\":\u001b[0m\n\u001b[0m                ^\u001b[0m\n\u001b[0;31mSyntaxError\u001b[0m\u001b[0;31m:\u001b[0m invalid syntax\n"
          ]
        }
      ]
    },
    {
      "cell_type": "code",
      "source": [
        "def calculate_factorial_loop(n):\n",
        "  if n < 0:\n",
        "    return\"factorial is not defined for negative numbers.\"\n",
        "  elif n == 0 or n == 1:\n",
        "      return 1\n",
        "  else:\n",
        "      factorial = 1\n",
        "      for i in range(1, n + 1):\n",
        "           factorial *= 1\n",
        "           return factorial\n",
        "num = 5\n",
        "calculate_factorial_loop(num)"
      ],
      "metadata": {
        "colab": {
          "base_uri": "https://localhost:8080/"
        },
        "id": "My1NsySzmW2M",
        "outputId": "b7c7df0e-9edd-450c-e215-32f928db82ee"
      },
      "execution_count": null,
      "outputs": [
        {
          "output_type": "execute_result",
          "data": {
            "text/plain": [
              "1"
            ]
          },
          "metadata": {},
          "execution_count": 18
        }
      ]
    },
    {
      "cell_type": "code",
      "source": [
        "def fibonacci(N, a=0, b=1):\n",
        "  counter = 0\n",
        "  while counter < N:\n",
        "    a, b=b, a+b\n",
        "    print(a, end = \" \")\n",
        "    counter +=1\n",
        "fibonacci(10)"
      ],
      "metadata": {
        "id": "KezMXfbhsj-o",
        "colab": {
          "base_uri": "https://localhost:8080/"
        },
        "outputId": "06acdb40-ceba-487e-9b4c-8541f400de36"
      },
      "execution_count": null,
      "outputs": [
        {
          "output_type": "stream",
          "name": "stdout",
          "text": [
            "1 1 2 3 5 8 13 21 34 55 "
          ]
        }
      ]
    },
    {
      "cell_type": "code",
      "source": [
        "def sentence( ):\n",
        "   for i in sentence('qwertyuiopasdfghjklzxcvbnm'):\n",
        "       if i == a quick brown fox jumps over the lazy dog:\n",
        "           print(\"True\")\n",
        "       else:\n",
        "           print(\"False\")\n",
        "sentence()\n",
        "\n"
      ],
      "metadata": {
        "colab": {
          "base_uri": "https://localhost:8080/",
          "height": 106
        },
        "id": "fV-rjN0kMdvV",
        "outputId": "6b0dfbc4-6eae-4bf8-fd2f-172eb5a4dca3"
      },
      "execution_count": null,
      "outputs": [
        {
          "output_type": "error",
          "ename": "SyntaxError",
          "evalue": "invalid syntax (ipython-input-372170519.py, line 3)",
          "traceback": [
            "\u001b[0;36m  File \u001b[0;32m\"/tmp/ipython-input-372170519.py\"\u001b[0;36m, line \u001b[0;32m3\u001b[0m\n\u001b[0;31m    if i == a quick brown fox jumps over the lazy dog:\u001b[0m\n\u001b[0m              ^\u001b[0m\n\u001b[0;31mSyntaxError\u001b[0m\u001b[0;31m:\u001b[0m invalid syntax\n"
          ]
        }
      ]
    },
    {
      "cell_type": "code",
      "source": [
        "sentence1 = \"a quick brown fox jumps over the lazy dog\"\n",
        "sentence2 = \"hello my name is ramesh\"\n",
        "def ispangram(sentence):\n",
        "  alphabets = 'qwertyuiopasdfghjklzxcvbnm'\n",
        "  count = 0\n",
        "  for i in alphabets :\n",
        "    if i in sentence:\n",
        "      count +=1\n",
        "  print(count)\n",
        "  if count == 26:\n",
        "     return True\n",
        "  else:\n",
        "     return False\n"
      ],
      "metadata": {
        "id": "qxnZCLjCPmZV"
      },
      "execution_count": null,
      "outputs": []
    },
    {
      "cell_type": "code",
      "source": [
        "ispangram(sentence1)"
      ],
      "metadata": {
        "colab": {
          "base_uri": "https://localhost:8080/"
        },
        "id": "jAbq7lh3QaYQ",
        "outputId": "28b3f4b5-13c3-49b2-d599-e8d1f66395dc"
      },
      "execution_count": null,
      "outputs": [
        {
          "output_type": "stream",
          "name": "stdout",
          "text": [
            "26\n"
          ]
        },
        {
          "output_type": "execute_result",
          "data": {
            "text/plain": [
              "True"
            ]
          },
          "metadata": {},
          "execution_count": 25
        }
      ]
    },
    {
      "cell_type": "code",
      "source": [
        "ispangram(sentence2)"
      ],
      "metadata": {
        "colab": {
          "base_uri": "https://localhost:8080/"
        },
        "id": "GAY6T72vUPV9",
        "outputId": "11addf01-2f5a-4e7f-8223-d281c88ced68"
      },
      "execution_count": null,
      "outputs": [
        {
          "output_type": "stream",
          "name": "stdout",
          "text": [
            "11\n"
          ]
        },
        {
          "output_type": "execute_result",
          "data": {
            "text/plain": [
              "False"
            ]
          },
          "metadata": {},
          "execution_count": 26
        }
      ]
    },
    {
      "cell_type": "code",
      "source": [
        "def fibonacci(N, a=0, b=1):\n",
        "  counter = 0\n",
        "  while counter < N:\n",
        "    a, b=b, a+b\n",
        "    print(a, end= \" \")\n",
        "    counter +=1\n",
        "fibonacci (10, 3, 5)"
      ],
      "metadata": {
        "colab": {
          "base_uri": "https://localhost:8080/"
        },
        "id": "qMcTaVEWUSyD",
        "outputId": "76da254b-36ff-467d-9d68-0cf6202c7e92"
      },
      "execution_count": null,
      "outputs": [
        {
          "output_type": "stream",
          "name": "stdout",
          "text": [
            "5 8 13 21 34 55 89 144 233 377 "
          ]
        }
      ]
    },
    {
      "cell_type": "code",
      "source": [
        "def val_pp(val):\n",
        "   return val, val+1, val+2, val+3, val+4\n",
        "r, i, c, k, h = val_pp(5)\n",
        "print(r, i, c, k, h)\n"
      ],
      "metadata": {
        "colab": {
          "base_uri": "https://localhost:8080/"
        },
        "id": "gCwUoe9JVTAL",
        "outputId": "9a65797e-20fc-42aa-93cc-2e56880916b1"
      },
      "execution_count": null,
      "outputs": [
        {
          "output_type": "stream",
          "name": "stdout",
          "text": [
            "5 6 7 8 9\n"
          ]
        }
      ]
    },
    {
      "cell_type": "code",
      "source": [],
      "metadata": {
        "colab": {
          "base_uri": "https://localhost:8080/",
          "height": 176
        },
        "id": "zv-XQ1OZXxtQ",
        "outputId": "95e56e12-e001-4588-8dda-399249f76185"
      },
      "execution_count": null,
      "outputs": [
        {
          "output_type": "stream",
          "name": "stdout",
          "text": [
            "hello\n"
          ]
        },
        {
          "output_type": "error",
          "ename": "NameError",
          "evalue": "name 'none' is not defined",
          "traceback": [
            "\u001b[0;31m---------------------------------------------------------------------------\u001b[0m",
            "\u001b[0;31mNameError\u001b[0m                                 Traceback (most recent call last)",
            "\u001b[0;32m/tmp/ipython-input-1176463259.py\u001b[0m in \u001b[0;36m<cell line: 0>\u001b[0;34m()\u001b[0m\n\u001b[1;32m      1\u001b[0m \u001b[0mvar\u001b[0m \u001b[0;34m=\u001b[0m \u001b[0mprint\u001b[0m\u001b[0;34m(\u001b[0m\u001b[0;34m\"hello\"\u001b[0m\u001b[0;34m)\u001b[0m\u001b[0;34m\u001b[0m\u001b[0;34m\u001b[0m\u001b[0m\n\u001b[0;32m----> 2\u001b[0;31m \u001b[0mprint\u001b[0m\u001b[0;34m(\u001b[0m\u001b[0mvar\u001b[0m \u001b[0;32mis\u001b[0m \u001b[0mnone\u001b[0m\u001b[0;34m)\u001b[0m\u001b[0;34m\u001b[0m\u001b[0;34m\u001b[0m\u001b[0m\n\u001b[0m",
            "\u001b[0;31mNameError\u001b[0m: name 'none' is not defined"
          ]
        }
      ]
    },
    {
      "cell_type": "code",
      "source": [
        "def cube(number):\n",
        "   return number**3\n",
        "cube(2)"
      ],
      "metadata": {
        "colab": {
          "base_uri": "https://localhost:8080/"
        },
        "id": "8nSZWxcJYDAo",
        "outputId": "66598f8f-6ae7-4042-d080-19d0b15e4fd4"
      },
      "execution_count": null,
      "outputs": [
        {
          "output_type": "execute_result",
          "data": {
            "text/plain": [
              "8"
            ]
          },
          "metadata": {},
          "execution_count": 46
        }
      ]
    },
    {
      "cell_type": "code",
      "source": [
        "def square(n1, n2):\n",
        "    c = (n1**2) + (n2**2)\n",
        "    return c\n",
        "square(1, 2)"
      ],
      "metadata": {
        "colab": {
          "base_uri": "https://localhost:8080/"
        },
        "id": "s9i4KcyGYenk",
        "outputId": "9865a3e1-e661-4d69-fa0b-1bde59ea1c00"
      },
      "execution_count": null,
      "outputs": [
        {
          "output_type": "execute_result",
          "data": {
            "text/plain": [
              "5"
            ]
          },
          "metadata": {},
          "execution_count": 61
        }
      ]
    },
    {
      "cell_type": "code",
      "source": [
        "def factorial(number):\n",
        "  fact = 1\n",
        "  x = 0\n",
        "  while x < 1:\n",
        "    fact = fact * i\n",
        "    print(fact)\n",
        "    x +=1\n",
        "factorial(5)"
      ],
      "metadata": {
        "colab": {
          "base_uri": "https://localhost:8080/"
        },
        "id": "V61f0l7DaGju",
        "outputId": "dfb0b6c8-a517-403a-9bef-0278a9e9aec4"
      },
      "execution_count": null,
      "outputs": [
        {
          "output_type": "stream",
          "name": "stdout",
          "text": [
            "5\n"
          ]
        }
      ]
    },
    {
      "cell_type": "code",
      "source": [
        "def factorial(n):\n",
        "\n",
        "  t= 1\n",
        "  for i in range(1, n+1):\n",
        "    t= t*i\n",
        "  return t"
      ],
      "metadata": {
        "id": "HM0wwlPSbwYG"
      },
      "execution_count": null,
      "outputs": []
    },
    {
      "cell_type": "code",
      "source": [
        "factorial(5)"
      ],
      "metadata": {
        "colab": {
          "base_uri": "https://localhost:8080/"
        },
        "id": "-QkZnw1ZewEn",
        "outputId": "714c891d-05db-4a30-ff45-dc38f5c914bf"
      },
      "execution_count": null,
      "outputs": [
        {
          "output_type": "execute_result",
          "data": {
            "text/plain": [
              "120"
            ]
          },
          "metadata": {},
          "execution_count": 146
        }
      ]
    },
    {
      "cell_type": "code",
      "source": [],
      "metadata": {
        "id": "tdPs6iPShJO2"
      },
      "execution_count": null,
      "outputs": []
    },
    {
      "cell_type": "code",
      "source": [
        "def string_concatenation (s1 = 'ai', s2 = '', s3 = 3):\n",
        "  if s3 == 3:\n",
        "    s = (s1 + s2)* s3\n",
        "    print(s, end = '')\n",
        "string_concatenation(s1='ai', s2='adventures', s3= 3)\n"
      ],
      "metadata": {
        "colab": {
          "base_uri": "https://localhost:8080/"
        },
        "id": "3ncxo1L9gYp0",
        "outputId": "352b9b4b-a00b-4b77-9744-689eed2f7808"
      },
      "execution_count": null,
      "outputs": [
        {
          "output_type": "stream",
          "name": "stdout",
          "text": [
            "aiadventuresaiadventuresaiadventures"
          ]
        }
      ]
    },
    {
      "cell_type": "code",
      "source": [
        "def calculate_area_Rectangle(b, h, s):\n",
        "  b = 2\n",
        "  h = 6\n",
        "  Rectangle = b* h\n",
        "  return Rectangle\n",
        "calculate_area_(2, 6, \"Rectangle\" )\n",
        "def calculate_area_Triangle(b, h, s):\n",
        "  b = 2\n",
        "  h = 6\n",
        "  Triangle = 0.5*b* h\n",
        "  return Triangle\n",
        "calculate_area_Triangle(2, 6, \"Triangle\" )"
      ],
      "metadata": {
        "colab": {
          "base_uri": "https://localhost:8080/"
        },
        "id": "DlgbxoU6gz3M",
        "outputId": "bf8e27ef-efff-4a33-be6d-99dad480fe3a"
      },
      "execution_count": null,
      "outputs": [
        {
          "output_type": "execute_result",
          "data": {
            "text/plain": [
              "6.0"
            ]
          },
          "metadata": {},
          "execution_count": 113
        }
      ]
    },
    {
      "cell_type": "code",
      "source": [
        "def calulate_area(b, h, s):\n",
        "    if s == \"Rectangle\":\n",
        "      return b*h\n",
        "    elif s == \"Triangle\":\n",
        "      return 0.5*b*h\n",
        "calulate_area(2, 6, \"Triangle\")\n",
        "\n"
      ],
      "metadata": {
        "colab": {
          "base_uri": "https://localhost:8080/"
        },
        "id": "T-HlIqtQiMFJ",
        "outputId": "a56de077-dae2-4fd6-f7f1-7a8bb1e1aa76"
      },
      "execution_count": null,
      "outputs": [
        {
          "output_type": "execute_result",
          "data": {
            "text/plain": [
              "6.0"
            ]
          },
          "metadata": {},
          "execution_count": 121
        }
      ]
    },
    {
      "cell_type": "code",
      "source": [
        "t = 1\n",
        "for i in range(1,2):\n",
        "  t = t * i\n",
        "print(t)\n"
      ],
      "metadata": {
        "colab": {
          "base_uri": "https://localhost:8080/"
        },
        "id": "5TPRujhKj9b2",
        "outputId": "fcc63a60-b983-4576-b956-cb9371adeeab"
      },
      "execution_count": null,
      "outputs": [
        {
          "output_type": "stream",
          "name": "stdout",
          "text": [
            "1\n"
          ]
        }
      ]
    },
    {
      "cell_type": "code",
      "source": [
        "def sequence(n):\n",
        "    p = 1\n",
        "    for i in range(1,n+1):\n",
        "      s = (1/factorial(i))\n",
        "      p+=s\n",
        "\n",
        "    print(p)\n",
        "\n",
        "sequence(5)\n"
      ],
      "metadata": {
        "colab": {
          "base_uri": "https://localhost:8080/"
        },
        "id": "TZWb9VdIlcNj",
        "outputId": "9698f127-e1e6-4e4a-fd89-45b2d67d0250"
      },
      "execution_count": null,
      "outputs": [
        {
          "output_type": "stream",
          "name": "stdout",
          "text": [
            "2.7166666666666663\n"
          ]
        }
      ]
    },
    {
      "cell_type": "code",
      "source": [
        "def 2greet():\n",
        "  print(\"hello\", \"world!\")\n",
        "2greet()\n"
      ],
      "metadata": {
        "colab": {
          "base_uri": "https://localhost:8080/",
          "height": 106
        },
        "id": "pT2IWmkEnM4N",
        "outputId": "8cb98e93-9602-4f80-e7f2-93f098a31bf0"
      },
      "execution_count": null,
      "outputs": [
        {
          "output_type": "error",
          "ename": "SyntaxError",
          "evalue": "invalid decimal literal (ipython-input-587689937.py, line 1)",
          "traceback": [
            "\u001b[0;36m  File \u001b[0;32m\"/tmp/ipython-input-587689937.py\"\u001b[0;36m, line \u001b[0;32m1\u001b[0m\n\u001b[0;31m    def 2greet():\u001b[0m\n\u001b[0m        ^\u001b[0m\n\u001b[0;31mSyntaxError\u001b[0m\u001b[0;31m:\u001b[0m invalid decimal literal\n"
          ]
        }
      ]
    },
    {
      "cell_type": "code",
      "source": [
        "def multiply(a, b = 5):\n",
        "  return a * b\n",
        "result1 = multiply(3 , 6 )\n",
        "result1\n",
        "# print(result1, result2)"
      ],
      "metadata": {
        "colab": {
          "base_uri": "https://localhost:8080/"
        },
        "id": "DAYWqN5Ts_AY",
        "outputId": "60a79f37-6ae2-435e-9c16-247b3a340b34"
      },
      "execution_count": null,
      "outputs": [
        {
          "output_type": "execute_result",
          "data": {
            "text/plain": [
              "18"
            ]
          },
          "metadata": {},
          "execution_count": 157
        }
      ]
    },
    {
      "cell_type": "code",
      "source": [
        "def square(num):\n",
        "  return num ** 2\n",
        "x = square(4)\n",
        "y = square(x)\n",
        "print(x, y)"
      ],
      "metadata": {
        "colab": {
          "base_uri": "https://localhost:8080/"
        },
        "id": "cXdJ9T6ctUN6",
        "outputId": "50f63ab8-9c34-4557-9609-af1ddf1a09c0"
      },
      "execution_count": null,
      "outputs": [
        {
          "output_type": "stream",
          "name": "stdout",
          "text": [
            "16 256\n"
          ]
        }
      ]
    },
    {
      "cell_type": "code",
      "source": [
        "def greet_person(name = 'stranger'):\n",
        "  print(\"hello, \", name,'!')\n",
        "greet_person(\"Alice\")\n",
        "greet_person( )"
      ],
      "metadata": {
        "colab": {
          "base_uri": "https://localhost:8080/"
        },
        "id": "dM1t3cv1uQNj",
        "outputId": "a24ef666-0015-4609-e4e7-39dd42dad720"
      },
      "execution_count": null,
      "outputs": [
        {
          "output_type": "stream",
          "name": "stdout",
          "text": [
            "hello,  Alice !\n",
            "hello,  stranger !\n"
          ]
        }
      ]
    },
    {
      "cell_type": "code",
      "source": [
        "def is_positive(number):\n",
        "  if number > 0 :\n",
        "    return True\n",
        "  else:\n",
        "    return None\n",
        "result = is_positive(-5)\n",
        "if result is None:\n",
        "  print(\"The number is not positive.\")\n",
        "else:\n",
        "  print(\"The number is positive.\")"
      ],
      "metadata": {
        "colab": {
          "base_uri": "https://localhost:8080/"
        },
        "id": "TvLgrJ4ButUe",
        "outputId": "7187a496-db6e-48e8-c5bd-4fd1a8b017c8"
      },
      "execution_count": null,
      "outputs": [
        {
          "output_type": "stream",
          "name": "stdout",
          "text": [
            "The number is not positive.\n"
          ]
        }
      ]
    },
    {
      "cell_type": "code",
      "source": [
        "def concatenate_strings(*args):\n",
        "  result = \" \"\n",
        "  for string in args:\n",
        "    result += string\n",
        "  return result\n",
        "string1 = \"hello\"\n",
        "string2 = \"world\"\n",
        "string3 = \"1\"\n",
        "concatenate_strings = concatenate_strings(string1, string2, string3)\n",
        "print(concatenate_strings)\n"
      ],
      "metadata": {
        "colab": {
          "base_uri": "https://localhost:8080/"
        },
        "id": "pyoOKCdevQCX",
        "outputId": "06e16eb5-e08c-44e1-db7b-f364adb7b32b"
      },
      "execution_count": null,
      "outputs": [
        {
          "output_type": "stream",
          "name": "stdout",
          "text": [
            " helloworld1\n"
          ]
        }
      ]
    },
    {
      "cell_type": "code",
      "source": [
        "def hello( ):\n",
        "  print(\"hello\", \"world!\")\n",
        "result = hello( )\n",
        "print(result)"
      ],
      "metadata": {
        "colab": {
          "base_uri": "https://localhost:8080/"
        },
        "id": "fn3WosWywlC4",
        "outputId": "ef1783c3-8527-4523-8c28-5bf03b3aae60"
      },
      "execution_count": null,
      "outputs": [
        {
          "output_type": "stream",
          "name": "stdout",
          "text": [
            "hello world!\n",
            "None\n"
          ]
        }
      ]
    },
    {
      "cell_type": "code",
      "source": [
        "items = ['pen', 'pencil', 'eraser', 'books']"
      ],
      "metadata": {
        "id": "agHzBIqBw49w"
      },
      "execution_count": null,
      "outputs": []
    },
    {
      "cell_type": "code",
      "source": [
        "'i have a ' + items[0]"
      ],
      "metadata": {
        "colab": {
          "base_uri": "https://localhost:8080/",
          "height": 35
        },
        "id": "Xx5rhnT06mEC",
        "outputId": "4e07563d-61a5-471a-c986-3bdc6f5ddf02"
      },
      "execution_count": null,
      "outputs": [
        {
          "output_type": "execute_result",
          "data": {
            "text/plain": [
              "'i have a pen'"
            ],
            "application/vnd.google.colaboratory.intrinsic+json": {
              "type": "string"
            }
          },
          "metadata": {},
          "execution_count": 167
        }
      ]
    },
    {
      "cell_type": "code",
      "source": [
        "'the ' + items[1] + ' and the ' + items[0]+ '.'"
      ],
      "metadata": {
        "colab": {
          "base_uri": "https://localhost:8080/",
          "height": 35
        },
        "id": "9Q5YXEp16rh4",
        "outputId": "2409f97c-ee80-4b98-eadc-31b6b14342e2"
      },
      "execution_count": null,
      "outputs": [
        {
          "output_type": "execute_result",
          "data": {
            "text/plain": [
              "'the pencil and the pen.'"
            ],
            "application/vnd.google.colaboratory.intrinsic+json": {
              "type": "string"
            }
          },
          "metadata": {},
          "execution_count": 169
        }
      ]
    },
    {
      "cell_type": "code",
      "source": [
        "int_index = int(1.0)\n",
        "items[int_index]"
      ],
      "metadata": {
        "colab": {
          "base_uri": "https://localhost:8080/",
          "height": 35
        },
        "id": "WnjHWsnT64Rw",
        "outputId": "2b511c19-f434-43ec-e470-c20cbb3c4989"
      },
      "execution_count": null,
      "outputs": [
        {
          "output_type": "execute_result",
          "data": {
            "text/plain": [
              "'pencil'"
            ],
            "application/vnd.google.colaboratory.intrinsic+json": {
              "type": "string"
            }
          },
          "metadata": {},
          "execution_count": 170
        }
      ]
    },
    {
      "cell_type": "code",
      "source": [],
      "metadata": {
        "id": "KGatbVJC7PLq"
      },
      "execution_count": null,
      "outputs": []
    }
  ]
}